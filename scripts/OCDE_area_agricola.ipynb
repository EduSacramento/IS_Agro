{
 "cells": [
  {
   "cell_type": "code",
   "execution_count": null,
   "metadata": {},
   "outputs": [],
   "source": [
    "import pandas as pd"
   ]
  },
  {
   "cell_type": "code",
   "execution_count": null,
   "metadata": {},
   "outputs": [],
   "source": [
    "dataset_name = 'ocde_area_agricola'\n",
    "raiz = '/home/eduardo/repositorios/IS_Agro/databases'"
   ]
  },
  {
   "cell_type": "markdown",
   "metadata": {},
   "source": [
    "### Prata"
   ]
  },
  {
   "cell_type": "markdown",
   "metadata": {},
   "source": [
    "Área agrícola total (Culturas + Pastagens)\n",
    "\n",
    "Unidade: Mil hectares"
   ]
  },
  {
   "cell_type": "code",
   "execution_count": null,
   "metadata": {},
   "outputs": [],
   "source": [
    "df = (pd.read_excel(f'{raiz}/Bronze Area agricola_ mil hectares OCDE.xlsx',\n",
    "               header=4, # Linha do cabeçalho da tabela\n",
    "               skiprows=lambda linha: linha in [5, 60, 61], # Linhas da tabela a serem ignoradas, se sobrepondo ao header\n",
    "               na_values='..'\n",
    "               )\n",
    " .rename(columns={'Ano': 'pais'})\n",
    " .melt(\n",
    "     id_vars='pais',\n",
    "     var_name='ano',\n",
    "     value_name='area_mil_ha'\n",
    "     )\n",
    " .dropna(subset='area_mil_ha')\n",
    " .assign(**{\n",
    "     'origem': 'OCDE',\n",
    "     'indicador': 'Área Agrícola',\n",
    "     'ano': lambda col: col['ano'].astype(int)\n",
    "     })\n",
    " .sort_values(by=['ano','area_mil_ha'],\n",
    "              ascending = [True, False]) # Organização dos dados\n",
    " .set_index(['indicador', 'pais', 'ano', 'origem'])\n",
    " )"
   ]
  },
  {
   "cell_type": "code",
   "execution_count": null,
   "metadata": {},
   "outputs": [],
   "source": [
    "if df.index.is_unique is True:\n",
    "    df.to_parquet(xxx)\n",
    "else:\n",
    "    print('Há índices não-únicos nesta tabela. Favor verificar.')"
   ]
  },
  {
   "cell_type": "code",
   "execution_count": null,
   "metadata": {},
   "outputs": [],
   "source": [
    "df = (\n",
    "    df\n",
    "    .reset_index()\n",
    "    .assign(**{'date': lambda df: pd.to_datetime(df['ano'], format='%Y')}) # Conversão de número inteiro para formato de data\n",
    "    .drop(columns=['origem', 'ano'])\n",
    "    .rename(columns={\n",
    "        'area_mil_ha': 'value',\n",
    "        'pais': 'country',\n",
    "        'indicador': 'label'\n",
    "    })\n",
    "    .convert_dtypes()\n",
    "    .set_index(['country', 'date', 'label'])\n",
    ")\n",
    "\n",
    "df.to_csv(f'{raiz}/ouro_area_agricola_OCDE.csv')"
   ]
  }
 ],
 "metadata": {
  "kernelspec": {
   "display_name": "venv",
   "language": "python",
   "name": "python3"
  },
  "language_info": {
   "codemirror_mode": {
    "name": "ipython",
    "version": 3
   },
   "file_extension": ".py",
   "mimetype": "text/x-python",
   "name": "python",
   "nbconvert_exporter": "python",
   "pygments_lexer": "ipython3",
   "version": "3.12.3"
  }
 },
 "nbformat": 4,
 "nbformat_minor": 2
}
