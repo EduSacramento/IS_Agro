{
 "cells": [
  {
   "cell_type": "code",
   "execution_count": 1,
   "metadata": {},
   "outputs": [],
   "source": [
    "import pandas as pd"
   ]
  },
  {
   "cell_type": "code",
   "execution_count": null,
   "metadata": {},
   "outputs": [],
   "source": [
    "dataset_name = 'ocde_area_agricola'\n",
    "raiz = '../repositorio'"
   ]
  },
  {
   "cell_type": "markdown",
   "metadata": {},
   "source": [
    "### Prata"
   ]
  },
  {
   "cell_type": "markdown",
   "metadata": {},
   "source": [
    "Área agrícola total (Culturas + Pastagens)\n",
    "\n",
    "Unidade: Mil hectares"
   ]
  },
  {
   "cell_type": "code",
   "execution_count": 9,
   "metadata": {},
   "outputs": [],
   "source": [
    "df = (pd.read_excel(f'{raiz}/Area agricola_ mil hectares OCDE.xlsx',\n",
    "               header=4, # Linha do cabeçalho da tabela\n",
    "               skiprows=lambda linha: linha in [5, 60, 61], # Linhas da tabela a serem ignoradas, se sobrepondo ao header\n",
    "               na_values='..'\n",
    "               )\n",
    " .rename(columns={'Ano': 'pais'})\n",
    " .melt(\n",
    "     id_vars='pais',\n",
    "     var_name='ano',\n",
    "     value_name='area_mil_ha'\n",
    "     )\n",
    " .dropna(subset='area_mil_ha')\n",
    " .assign(**{\n",
    "     'origem': 'OCDE',\n",
    "     'indicador': 'Área Agrícola',\n",
    "     'ano': lambda col: col['ano'].astype(int)\n",
    "     })\n",
    " .sort_values(by=['ano','area_mil_ha'],\n",
    "              ascending = [True, False]) # Organização dos dados\n",
    " .set_index(['indicador', 'pais', 'ano', 'origem'])\n",
    " )"
   ]
  },
  {
   "cell_type": "code",
   "execution_count": 97,
   "metadata": {},
   "outputs": [
    {
     "name": "stdout",
     "output_type": "stream",
     "text": [
      "Há índices não-únicos nesta tabela. Favor verificar.\n"
     ]
    }
   ],
   "source": [
    "if df.index.is_unique is True:\n",
    "    df.to_parquet(xxx)\n",
    "else:\n",
    "    print('Há índices não-únicos nesta tabela. Favor verificar.')"
   ]
  },
  {
   "cell_type": "code",
   "execution_count": 11,
   "metadata": {},
   "outputs": [
    {
     "data": {
      "text/html": [
       "<div>\n",
       "<style scoped>\n",
       "    .dataframe tbody tr th:only-of-type {\n",
       "        vertical-align: middle;\n",
       "    }\n",
       "\n",
       "    .dataframe tbody tr th {\n",
       "        vertical-align: top;\n",
       "    }\n",
       "\n",
       "    .dataframe thead th {\n",
       "        text-align: right;\n",
       "    }\n",
       "</style>\n",
       "<table border=\"1\" class=\"dataframe\">\n",
       "  <thead>\n",
       "    <tr style=\"text-align: right;\">\n",
       "      <th></th>\n",
       "      <th></th>\n",
       "      <th></th>\n",
       "      <th></th>\n",
       "      <th>area_mil_ha</th>\n",
       "    </tr>\n",
       "    <tr>\n",
       "      <th>indicador</th>\n",
       "      <th>pais</th>\n",
       "      <th>ano</th>\n",
       "      <th>origem</th>\n",
       "      <th></th>\n",
       "    </tr>\n",
       "  </thead>\n",
       "  <tbody>\n",
       "    <tr>\n",
       "      <th rowspan=\"11\" valign=\"top\">Área Agrícola</th>\n",
       "      <th>China (People's Republic of)</th>\n",
       "      <th>1990</th>\n",
       "      <th>OCDE</th>\n",
       "      <td>512271.000</td>\n",
       "    </tr>\n",
       "    <tr>\n",
       "      <th>Australia</th>\n",
       "      <th>1990</th>\n",
       "      <th>OCDE</th>\n",
       "      <td>464026.542</td>\n",
       "    </tr>\n",
       "    <tr>\n",
       "      <th>United States</th>\n",
       "      <th>1990</th>\n",
       "      <th>OCDE</th>\n",
       "      <td>426948.000</td>\n",
       "    </tr>\n",
       "    <tr>\n",
       "      <th>Brazil</th>\n",
       "      <th>1990</th>\n",
       "      <th>OCDE</th>\n",
       "      <td>233480.200</td>\n",
       "    </tr>\n",
       "    <tr>\n",
       "      <th>India</th>\n",
       "      <th>1990</th>\n",
       "      <th>OCDE</th>\n",
       "      <td>181586.000</td>\n",
       "    </tr>\n",
       "    <tr>\n",
       "      <th>...</th>\n",
       "      <th>...</th>\n",
       "      <th>...</th>\n",
       "      <td>...</td>\n",
       "    </tr>\n",
       "    <tr>\n",
       "      <th>Belgium</th>\n",
       "      <th>2021</th>\n",
       "      <th>OCDE</th>\n",
       "      <td>1368.310</td>\n",
       "    </tr>\n",
       "    <tr>\n",
       "      <th>Estonia</th>\n",
       "      <th>2021</th>\n",
       "      <th>OCDE</th>\n",
       "      <td>986.670</td>\n",
       "    </tr>\n",
       "    <tr>\n",
       "      <th>Slovenia</th>\n",
       "      <th>2021</th>\n",
       "      <th>OCDE</th>\n",
       "      <td>479.490</td>\n",
       "    </tr>\n",
       "    <tr>\n",
       "      <th>Israel</th>\n",
       "      <th>2021</th>\n",
       "      <th>OCDE</th>\n",
       "      <td>289.094</td>\n",
       "    </tr>\n",
       "    <tr>\n",
       "      <th>Luxembourg</th>\n",
       "      <th>2021</th>\n",
       "      <th>OCDE</th>\n",
       "      <td>132.810</td>\n",
       "    </tr>\n",
       "  </tbody>\n",
       "</table>\n",
       "<p>1638 rows × 1 columns</p>\n",
       "</div>"
      ],
      "text/plain": [
       "                                                        area_mil_ha\n",
       "indicador     pais                         ano  origem             \n",
       "Área Agrícola China (People's Republic of) 1990 OCDE     512271.000\n",
       "              Australia                    1990 OCDE     464026.542\n",
       "              United States                1990 OCDE     426948.000\n",
       "              Brazil                       1990 OCDE     233480.200\n",
       "              India                        1990 OCDE     181586.000\n",
       "...                                                             ...\n",
       "              Belgium                      2021 OCDE       1368.310\n",
       "              Estonia                      2021 OCDE        986.670\n",
       "              Slovenia                     2021 OCDE        479.490\n",
       "              Israel                       2021 OCDE        289.094\n",
       "              Luxembourg                   2021 OCDE        132.810\n",
       "\n",
       "[1638 rows x 1 columns]"
      ]
     },
     "execution_count": 11,
     "metadata": {},
     "output_type": "execute_result"
    }
   ],
   "source": [
    "df"
   ]
  }
 ],
 "metadata": {
  "kernelspec": {
   "display_name": "venv",
   "language": "python",
   "name": "python3"
  },
  "language_info": {
   "codemirror_mode": {
    "name": "ipython",
    "version": 3
   },
   "file_extension": ".py",
   "mimetype": "text/x-python",
   "name": "python",
   "nbconvert_exporter": "python",
   "pygments_lexer": "ipython3",
   "version": "3.10.6"
  }
 },
 "nbformat": 4,
 "nbformat_minor": 2
}
