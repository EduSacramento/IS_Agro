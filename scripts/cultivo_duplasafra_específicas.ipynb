{
 "cells": [
  {
   "cell_type": "code",
   "execution_count": 1,
   "metadata": {},
   "outputs": [],
   "source": [
    "import pandas as pd\n",
    "\n",
    "from pendulum import now"
   ]
  },
  {
   "cell_type": "code",
   "execution_count": 2,
   "metadata": {},
   "outputs": [],
   "source": [
    "raiz = '/home/eduardo/repositorios/IS_Agro/databases'\n",
    "\n",
    "ultimo_ano = now().year - 1"
   ]
  },
  {
   "cell_type": "markdown",
   "metadata": {},
   "source": [
    "### Tabela 839 - Área plantada, área colhida, quantidade produzida e rendimento médio de milho, 1ª e 2ª safras"
   ]
  },
  {
   "cell_type": "markdown",
   "metadata": {},
   "source": [
    "Área colhida (ha)"
   ]
  },
  {
   "cell_type": "code",
   "execution_count": 3,
   "metadata": {},
   "outputs": [],
   "source": [
    "codigo = 839\n",
    "dataset_name = f'sidra_tab{codigo}_colheita_milho'"
   ]
  },
  {
   "cell_type": "markdown",
   "metadata": {},
   "source": [
    "#### Bronze"
   ]
  },
  {
   "cell_type": "code",
   "execution_count": null,
   "metadata": {},
   "outputs": [],
   "source": [
    "contador = 1\n",
    "for ano in range(2003, ultimo_ano):\n",
    "    if contador == 1:\n",
    "        df_839 = pd.read_json(f'https://apisidra.ibge.gov.br/values/t/{codigo}/n6/all/v/216/p/{ano}/c81/all')\n",
    "        contador += 1\n",
    "    else:\n",
    "        df_839 = pd.concat(\n",
    "            [df_839,\n",
    "             (pd.read_json(f'https://apisidra.ibge.gov.br/values/t/{codigo}/n6/all/v/216/p/{ano}/c81/all')\n",
    "              .iloc[1:])],\n",
    "            ignore_index=True\n",
    "            )\n",
    "        contador += 1\n",
    "\n",
    "df_839.to_json(f'{raiz}/bronze_{dataset_name}.json')\n",
    "print(f'Foram contabilizadas {contador} repetições de dados de áreas de colheita raspados.')"
   ]
  },
  {
   "cell_type": "markdown",
   "metadata": {},
   "source": [
    "### Prata"
   ]
  },
  {
   "cell_type": "markdown",
   "metadata": {},
   "source": [
    "| CÓDIGO | DIVISÃO DE SAFRA |\n",
    "|--------|------------------|\n",
    "| 31693  |      Total       |\n",
    "| 114253 |  Primeira safra  |\n",
    "| 114254 |  Segunda safra   |"
   ]
  },
  {
   "cell_type": "code",
   "execution_count": 4,
   "metadata": {},
   "outputs": [],
   "source": [
    "df_839 = (pd.read_json(f'{raiz}/bronze_{dataset_name}.json')\n",
    "          .drop(0, axis = 0)\n",
    "          .filter(['D1C', 'D3C', 'D4C', 'V'])\n",
    "          .assign(**{\n",
    "              'uf': lambda df: df['D1C'].str.slice(0,2).astype(int),\n",
    "              'hectares': lambda df: pd.to_numeric(df['V'], errors='coerce'),\n",
    "              'municipio': lambda df: df['D1C'].astype(int),\n",
    "              'ano': lambda df: df['D3C'].astype(int),\n",
    "              'safra': lambda df: df['D4C'].astype(int),\n",
    "              'nm_cultura': 'Milho (em grão)'\n",
    "              })\n",
    "          .convert_dtypes()\n",
    "          .drop(['D1C', 'D3C', 'D4C', 'V'], axis='columns')\n",
    "          .set_index(['uf', 'municipio', 'ano', 'safra', 'nm_cultura'])\n",
    "          )\n",
    "\n",
    "df_839.to_parquet(f'{raiz}/prata_{dataset_name}.parquet')"
   ]
  },
  {
   "cell_type": "markdown",
   "metadata": {},
   "source": [
    "### Tabela 1000 - Área plantada, área colhida, quantidade produzida e rendimento médio de amendoim, 1ª e 2ª safras"
   ]
  },
  {
   "cell_type": "markdown",
   "metadata": {},
   "source": [
    "Área colhida (ha)"
   ]
  },
  {
   "cell_type": "code",
   "execution_count": 5,
   "metadata": {},
   "outputs": [],
   "source": [
    "codigo = 1000\n",
    "dataset_name = f'sidra_tab{codigo}_colheita_amendoim'"
   ]
  },
  {
   "cell_type": "markdown",
   "metadata": {},
   "source": [
    "#### Bronze"
   ]
  },
  {
   "cell_type": "code",
   "execution_count": null,
   "metadata": {},
   "outputs": [],
   "source": [
    "contador = 1\n",
    "for ano in range(2003, ultimo_ano):\n",
    "    if contador == 1:\n",
    "        df_1000 = pd.read_json(f'https://apisidra.ibge.gov.br/values/t/{codigo}/n6/all/v/216/p/{ano}/c81/all')\n",
    "        contador += 1\n",
    "    else:\n",
    "        df_1000 = pd.concat(\n",
    "            [df_1000,\n",
    "             (pd.read_json(f'https://apisidra.ibge.gov.br/values/t/{codigo}/n6/all/v/216/p/{ano}/c81/all')\n",
    "              .iloc[1:])],\n",
    "            ignore_index=True\n",
    "            )\n",
    "        contador += 1\n",
    "\n",
    "df_1000.to_json(f'{raiz}/bronze_{dataset_name}.json')\n",
    "print(f'Foram contabilizadas {contador} repetições de dados de áreas de colheita raspados.')"
   ]
  },
  {
   "cell_type": "markdown",
   "metadata": {},
   "source": [
    "### Prata"
   ]
  },
  {
   "cell_type": "markdown",
   "metadata": {},
   "source": [
    "| CÓDIGO | DIVISÃO DE SAFRA |\n",
    "|--------|------------------|\n",
    "| 31693  |      Total       |\n",
    "| 117987 |  Primeira safra  |\n",
    "| 117988 |  Segunda safra   |"
   ]
  },
  {
   "cell_type": "code",
   "execution_count": 6,
   "metadata": {},
   "outputs": [],
   "source": [
    "df_1000 = (pd.read_json(f'{raiz}/bronze_{dataset_name}.json')\n",
    "          .drop(0, axis = 0)\n",
    "          .filter(['D1C', 'D3C', 'D4C', 'V'])\n",
    "          .assign(**{\n",
    "              'uf': lambda df: df['D1C'].str.slice(0,2).astype(int),\n",
    "              'hectares': lambda df: pd.to_numeric(df['V'], errors='coerce'),\n",
    "              'municipio': lambda df: df['D1C'].astype(int),\n",
    "              'ano': lambda df: df['D3C'].astype(int),\n",
    "              'safra': lambda df: df['D4C'].astype(int),\n",
    "              'nm_cultura': 'Amendoim (em casca)'\n",
    "              })\n",
    "          .convert_dtypes()\n",
    "          .drop(['D1C', 'D3C', 'D4C', 'V'], axis='columns')\n",
    "          .set_index(['uf', 'municipio', 'ano', 'safra', 'nm_cultura'])\n",
    "          )\n",
    "\n",
    "df_1000.to_parquet(f'{raiz}/prata_{dataset_name}.parquet')"
   ]
  },
  {
   "cell_type": "markdown",
   "metadata": {},
   "source": [
    "### Tabela 1001 - Área plantada, área colhida, quantidade produzida e rendimento médio de batata-inglesa, 1ª, 2ª e 3ª safras"
   ]
  },
  {
   "cell_type": "markdown",
   "metadata": {},
   "source": [
    "Área colhida (ha)"
   ]
  },
  {
   "cell_type": "code",
   "execution_count": 7,
   "metadata": {},
   "outputs": [],
   "source": [
    "codigo = 1001\n",
    "dataset_name = f'sidra_tab{codigo}_colheita_batata-inglesa'"
   ]
  },
  {
   "cell_type": "markdown",
   "metadata": {},
   "source": [
    "#### Bronze"
   ]
  },
  {
   "cell_type": "code",
   "execution_count": null,
   "metadata": {},
   "outputs": [],
   "source": [
    "contador = 1\n",
    "for ano in range(2003, ultimo_ano):\n",
    "    if contador == 1:\n",
    "        df_1001 = pd.read_json(f'https://apisidra.ibge.gov.br/values/t/{codigo}/n6/all/v/216/p/{ano}/c81/all')\n",
    "        contador += 1\n",
    "    else:\n",
    "        df_1001 = pd.concat(\n",
    "            [df_1001,\n",
    "             (pd.read_json(f'https://apisidra.ibge.gov.br/values/t/{codigo}/n6/all/v/216/p/{ano}/c81/all')\n",
    "              .iloc[1:])],\n",
    "            ignore_index=True\n",
    "            )\n",
    "        contador += 1\n",
    "\n",
    "df_1001.to_json(f'{raiz}/bronze_{dataset_name}.json')\n",
    "print(f'Foram contabilizadas {contador} repetições de dados de áreas de colheita raspados.')"
   ]
  },
  {
   "cell_type": "markdown",
   "metadata": {},
   "source": [
    "### Prata"
   ]
  },
  {
   "cell_type": "markdown",
   "metadata": {},
   "source": [
    "| CÓDIGO | DIVISÃO DE SAFRA |\n",
    "|--------|------------------|\n",
    "| 31693  |      Total       |\n",
    "| 117989 |  Primeira safra  |\n",
    "| 117990 |  Segunda safra   |\n",
    "| 117994 |  Terceira safra  |"
   ]
  },
  {
   "cell_type": "code",
   "execution_count": 8,
   "metadata": {},
   "outputs": [],
   "source": [
    "df_1001 = (pd.read_json(f'{raiz}/bronze_{dataset_name}.json')\n",
    "          .drop(0, axis = 0)\n",
    "          .filter(['D1C', 'D3C', 'D4C', 'V'])\n",
    "          .assign(**{\n",
    "              'uf': lambda df: df['D1C'].str.slice(0,2).astype(int),\n",
    "              'hectares': lambda df: pd.to_numeric(df['V'], errors='coerce'),\n",
    "              'municipio': lambda df: df['D1C'].astype(int),\n",
    "              'ano': lambda df: df['D3C'].astype(int),\n",
    "              'safra': lambda df: df['D4C'].astype(int),\n",
    "              'nm_cultura': 'Batata-inglesa'\n",
    "              })\n",
    "          .convert_dtypes()\n",
    "          .drop(['D1C', 'D3C', 'D4C', 'V'], axis='columns')\n",
    "          .set_index(['uf', 'municipio', 'ano', 'safra', 'nm_cultura'])\n",
    "          )\n",
    "\n",
    "df_1001.to_parquet(f'{raiz}/prata_{dataset_name}.parquet')"
   ]
  },
  {
   "cell_type": "markdown",
   "metadata": {},
   "source": [
    "### Tabela 1002 - Área plantada, área colhida, quantidade produzida e rendimento médio de feijão, 1ª, 2ª e 3ª safras"
   ]
  },
  {
   "cell_type": "markdown",
   "metadata": {},
   "source": [
    "Área colhida (ha)"
   ]
  },
  {
   "cell_type": "code",
   "execution_count": 9,
   "metadata": {},
   "outputs": [],
   "source": [
    "codigo = 1002\n",
    "dataset_name = f'sidra_tab{codigo}_colheita_feijao'"
   ]
  },
  {
   "cell_type": "markdown",
   "metadata": {},
   "source": [
    "### Bronze"
   ]
  },
  {
   "cell_type": "code",
   "execution_count": null,
   "metadata": {},
   "outputs": [],
   "source": [
    "contador = 1\n",
    "for ano in range(2003, ultimo_ano):\n",
    "    if contador == 1:\n",
    "        df_1002 = pd.read_json(f'https://apisidra.ibge.gov.br/values/t/{codigo}/n6/all/v/216/p/{ano}/c81/all')\n",
    "        contador += 1\n",
    "    else:\n",
    "        df_1002 = pd.concat(\n",
    "            [df_1002,\n",
    "             (pd.read_json(f'https://apisidra.ibge.gov.br/values/t/{codigo}/n6/all/v/216/p/{ano}/c81/all')\n",
    "              .iloc[1:])],\n",
    "            ignore_index=True\n",
    "            )\n",
    "        contador += 1\n",
    "\n",
    "df_1002.to_json(f'{raiz}/bronze_{dataset_name}.json')\n",
    "print(f'Foram contabilizadas {contador} repetições de dados de áreas de colheita raspados.')"
   ]
  },
  {
   "cell_type": "markdown",
   "metadata": {},
   "source": [
    "### Prata"
   ]
  },
  {
   "cell_type": "markdown",
   "metadata": {},
   "source": [
    "| CÓDIGO | DIVISÃO DE SAFRA |\n",
    "|--------|------------------|\n",
    "| 31693  |      Total       |\n",
    "| 117991 |  Primeira safra  |\n",
    "| 117992 |  Segunda safra   |\n",
    "| 117993 |  Terceira safra  |"
   ]
  },
  {
   "cell_type": "code",
   "execution_count": 10,
   "metadata": {},
   "outputs": [],
   "source": [
    "df_1002 = (pd.read_json(f'{raiz}/bronze_{dataset_name}.json')\n",
    "          .drop(0, axis = 0)\n",
    "          .filter(['D1C', 'D3C', 'D4C', 'V'])\n",
    "          .assign(**{\n",
    "              'uf': lambda df: df['D1C'].str.slice(0,2).astype(int),\n",
    "              'hectares': lambda df: pd.to_numeric(df['V'], errors='coerce'),\n",
    "              'municipio': lambda df: df['D1C'].astype(int),\n",
    "              'ano': lambda df: df['D3C'].astype(int),\n",
    "              'safra': lambda df: df['D4C'].astype(int),\n",
    "              'nm_cultura': 'Feijão (em grão)'\n",
    "              })\n",
    "          .convert_dtypes()\n",
    "          .drop(['D1C', 'D3C', 'D4C', 'V'], axis='columns')\n",
    "          .set_index(['uf', 'municipio', 'ano', 'safra', 'nm_cultura'])\n",
    "          )\n",
    "\n",
    "df_1002.to_parquet(f'{raiz}/prata_{dataset_name}.parquet')"
   ]
  }
 ],
 "metadata": {
  "kernelspec": {
   "display_name": "base",
   "language": "python",
   "name": "python3"
  },
  "language_info": {
   "codemirror_mode": {
    "name": "ipython",
    "version": 3
   },
   "file_extension": ".py",
   "mimetype": "text/x-python",
   "name": "python",
   "nbconvert_exporter": "python",
   "pygments_lexer": "ipython3",
   "version": "3.10.12"
  }
 },
 "nbformat": 4,
 "nbformat_minor": 2
}
