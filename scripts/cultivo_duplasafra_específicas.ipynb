{
 "cells": [
  {
   "cell_type": "code",
   "execution_count": 1,
   "metadata": {},
   "outputs": [],
   "source": [
    "import pandas as pd\n",
    "\n",
    "from pendulum import now"
   ]
  },
  {
   "cell_type": "code",
   "execution_count": 2,
   "metadata": {},
   "outputs": [],
   "source": [
    "fonte = 'sidra'\n",
    "variavel = 'area_colhida'\n",
    "raiz = '/home/eduardo/repositorios/IS_Agro/databases'\n",
    "\n",
    "ultimo_ano = now().year - 1"
   ]
  },
  {
   "cell_type": "markdown",
   "metadata": {},
   "source": [
    "### Tabela 839 - Área plantada, área colhida, quantidade produzida e rendimento médio de milho, 1ª e 2ª safras"
   ]
  },
  {
   "cell_type": "markdown",
   "metadata": {},
   "source": [
    "Área colhida (ha)"
   ]
  },
  {
   "cell_type": "code",
   "execution_count": 3,
   "metadata": {},
   "outputs": [],
   "source": [
    "codigo = 839\n",
    "dataset_name = f'tab{codigo}_milho'"
   ]
  },
  {
   "cell_type": "markdown",
   "metadata": {},
   "source": [
    "#### Bronze"
   ]
  },
  {
   "cell_type": "code",
   "execution_count": null,
   "metadata": {},
   "outputs": [],
   "source": [
    "contador = 1\n",
    "for ano in range(2003, ultimo_ano):\n",
    "    if contador == 1:\n",
    "        df_839 = pd.read_json(f'https://apisidra.ibge.gov.br/values/t/{codigo}/n6/all/v/216/p/{ano}/c81/all')\n",
    "        contador += 1\n",
    "    else:\n",
    "        df_839 = pd.concat(\n",
    "            [df_839,\n",
    "             (pd.read_json(f'https://apisidra.ibge.gov.br/values/t/{codigo}/n6/all/v/216/p/{ano}/c81/all')\n",
    "              .iloc[1:])],\n",
    "            ignore_index=True\n",
    "            )\n",
    "        contador += 1\n",
    "\n",
    "df_839.to_json(f'{raiz}/bronze_{fonte}_{dataset_name}_{variavel}.json')\n",
    "print(f'Foram contabilizadas {contador} repetições de dados de áreas de colheita raspados.')"
   ]
  },
  {
   "cell_type": "markdown",
   "metadata": {},
   "source": [
    "### Prata"
   ]
  },
  {
   "cell_type": "markdown",
   "metadata": {},
   "source": [
    "| CÓDIGO | DIVISÃO DE SAFRA |\n",
    "|--------|------------------|\n",
    "| 31693  |      Total       |\n",
    "| 114253 |  Primeira safra  |\n",
    "| 114254 |  Segunda safra   |"
   ]
  },
  {
   "cell_type": "code",
   "execution_count": 8,
   "metadata": {},
   "outputs": [],
   "source": [
    "df_839 = (\n",
    "    pd.read_json(f'{raiz}/bronze_{fonte}_{dataset_name}_{variavel}.json')\n",
    "          .drop(0, axis = 0)\n",
    "          .filter(['D1C', 'D3C', 'D4C', 'V'])\n",
    "          .assign(**{\n",
    "            'area': lambda df: pd.to_numeric(df['V'], errors='coerce'),\n",
    "            'geocodigo': lambda df: df['D1C'].astype(int),\n",
    "            'data': lambda df: pd.to_datetime(df['D3C'], format='%Y'),\n",
    "            'safra': lambda df: df['D4C'].astype(int),\n",
    "            'cultura': 2711 # Código relativo ao milho na organização na tabela de lavouras temporárias\n",
    "            })\n",
    "          .drop(['D1C', 'D3C', 'D4C', 'V'], axis='columns')\n",
    "          .dropna(subset='area')\n",
    "          .set_index(['geocodigo', 'data', 'cultura', 'safra'])\n",
    ")\n",
    "\n",
    "df_839.to_parquet(f'{raiz}/prata_{fonte}_{dataset_name}_{variavel}.parquet')"
   ]
  },
  {
   "cell_type": "markdown",
   "metadata": {},
   "source": [
    "### Tabela 1000 - Área plantada, área colhida, quantidade produzida e rendimento médio de amendoim, 1ª e 2ª safras"
   ]
  },
  {
   "cell_type": "markdown",
   "metadata": {},
   "source": [
    "Área colhida (ha)"
   ]
  },
  {
   "cell_type": "code",
   "execution_count": 5,
   "metadata": {},
   "outputs": [],
   "source": [
    "codigo = 1000\n",
    "dataset_name = f'_tab{codigo}_amendoim'"
   ]
  },
  {
   "cell_type": "markdown",
   "metadata": {},
   "source": [
    "#### Bronze"
   ]
  },
  {
   "cell_type": "code",
   "execution_count": null,
   "metadata": {},
   "outputs": [],
   "source": [
    "contador = 1\n",
    "for ano in range(2003, ultimo_ano):\n",
    "    if contador == 1:\n",
    "        df_1000 = pd.read_json(f'https://apisidra.ibge.gov.br/values/t/{codigo}/n6/all/v/216/p/{ano}/c81/all')\n",
    "        contador += 1\n",
    "    else:\n",
    "        df_1000 = pd.concat(\n",
    "            [df_1000,\n",
    "             (pd.read_json(f'https://apisidra.ibge.gov.br/values/t/{codigo}/n6/all/v/216/p/{ano}/c81/all')\n",
    "              .iloc[1:])],\n",
    "            ignore_index=True\n",
    "            )\n",
    "        contador += 1\n",
    "\n",
    "df_1000.to_json(f'{raiz}/bronze_{fonte}_{dataset_name}_{variavel}.json')\n",
    "print(f'Foram contabilizadas {contador} repetições de dados de áreas de colheita raspados.')"
   ]
  },
  {
   "cell_type": "markdown",
   "metadata": {},
   "source": [
    "### Prata"
   ]
  },
  {
   "cell_type": "markdown",
   "metadata": {},
   "source": [
    "| CÓDIGO | DIVISÃO DE SAFRA |\n",
    "|--------|------------------|\n",
    "| 31693  |      Total       |\n",
    "| 117987 |  Primeira safra  |\n",
    "| 117988 |  Segunda safra   |"
   ]
  },
  {
   "cell_type": "code",
   "execution_count": 9,
   "metadata": {},
   "outputs": [],
   "source": [
    "df_1000 = (\n",
    "    pd.read_json(f'{raiz}/bronze_{fonte}_{dataset_name}_{variavel}.json')\n",
    "          .drop(0, axis = 0)\n",
    "          .filter(['D1C', 'D3C', 'D4C', 'V'])\n",
    "          .assign(**{\n",
    "            'area': lambda df: pd.to_numeric(df['V'], errors='coerce'),\n",
    "            'geocodigo': lambda df: df['D1C'].astype(int),\n",
    "            'data': lambda df: pd.to_datetime(df['D3C'], format='%Y'),\n",
    "            'safra': lambda df: df['D4C'].astype(int),\n",
    "            'cultura': 2691 # Código relativo ao amendoim na organização na tabela de lavouras temporárias\n",
    "            })\n",
    "          .drop(['D1C', 'D3C', 'D4C', 'V'], axis='columns')\n",
    "          .dropna(subset='area')\n",
    "          .set_index(['geocodigo', 'data', 'cultura', 'safra'])\n",
    ")\n",
    "\n",
    "df_1000.to_parquet(f'{raiz}/prata_{fonte}_{dataset_name}_{variavel}.parquet')"
   ]
  },
  {
   "cell_type": "markdown",
   "metadata": {},
   "source": [
    "### Tabela 1001 - Área plantada, área colhida, quantidade produzida e rendimento médio de batata-inglesa, 1ª, 2ª e 3ª safras"
   ]
  },
  {
   "cell_type": "markdown",
   "metadata": {},
   "source": [
    "Área colhida (ha)"
   ]
  },
  {
   "cell_type": "code",
   "execution_count": 7,
   "metadata": {},
   "outputs": [],
   "source": [
    "codigo = 1001\n",
    "dataset_name = f'tab{codigo}_batata-inglesa'"
   ]
  },
  {
   "cell_type": "markdown",
   "metadata": {},
   "source": [
    "#### Bronze"
   ]
  },
  {
   "cell_type": "code",
   "execution_count": null,
   "metadata": {},
   "outputs": [],
   "source": [
    "contador = 1\n",
    "for ano in range(2003, ultimo_ano):\n",
    "    if contador == 1:\n",
    "        df_1001 = pd.read_json(f'https://apisidra.ibge.gov.br/values/t/{codigo}/n6/all/v/216/p/{ano}/c81/all')\n",
    "        contador += 1\n",
    "    else:\n",
    "        df_1001 = pd.concat(\n",
    "            [df_1001,\n",
    "             (pd.read_json(f'https://apisidra.ibge.gov.br/values/t/{codigo}/n6/all/v/216/p/{ano}/c81/all')\n",
    "              .iloc[1:])],\n",
    "            ignore_index=True\n",
    "            )\n",
    "        contador += 1\n",
    "\n",
    "df_1001.to_json(f'{raiz}/bronze_{fonte}_{dataset_name}_{variavel}.json')\n",
    "print(f'Foram contabilizadas {contador} repetições de dados de áreas de colheita raspados.')"
   ]
  },
  {
   "cell_type": "markdown",
   "metadata": {},
   "source": [
    "### Prata"
   ]
  },
  {
   "cell_type": "markdown",
   "metadata": {},
   "source": [
    "| CÓDIGO | DIVISÃO DE SAFRA |\n",
    "|--------|------------------|\n",
    "| 31693  |      Total       |\n",
    "| 117989 |  Primeira safra  |\n",
    "| 117990 |  Segunda safra   |\n",
    "| 117994 |  Terceira safra  |"
   ]
  },
  {
   "cell_type": "code",
   "execution_count": 10,
   "metadata": {},
   "outputs": [],
   "source": [
    "df_1001 = (\n",
    "    pd.read_json(f'{raiz}/bronze_{fonte}_{dataset_name}_{variavel}.json')\n",
    "          .drop(0, axis = 0)\n",
    "          .filter(['D1C', 'D3C', 'D4C', 'V'])\n",
    "          .assign(**{\n",
    "            'area': lambda df: pd.to_numeric(df['V'], errors='coerce'),\n",
    "            'geocodigo': lambda df: df['D1C'].astype(int),\n",
    "            'data': lambda df: pd.to_datetime(df['D3C'], format='%Y'),\n",
    "            'safra': lambda df: df['D4C'].astype(int),\n",
    "            'cultura': 2695 # Código relativo a batata-inglesa na organização na tabela de lavouras temporárias\n",
    "            })\n",
    "          .drop(['D1C', 'D3C', 'D4C', 'V'], axis='columns')\n",
    "          .dropna(subset='area')\n",
    "          .set_index(['geocodigo', 'data', 'cultura', 'safra'])\n",
    ")\n",
    "\n",
    "df_1001.to_parquet(f'{raiz}/prata_{fonte}_{dataset_name}_{variavel}.parquet')"
   ]
  },
  {
   "cell_type": "markdown",
   "metadata": {},
   "source": [
    "### Tabela 1002 - Área plantada, área colhida, quantidade produzida e rendimento médio de feijão, 1ª, 2ª e 3ª safras"
   ]
  },
  {
   "cell_type": "markdown",
   "metadata": {},
   "source": [
    "Área colhida (ha)"
   ]
  },
  {
   "cell_type": "code",
   "execution_count": 9,
   "metadata": {},
   "outputs": [],
   "source": [
    "codigo = 1002\n",
    "dataset_name = f'tab{codigo}_feijao'"
   ]
  },
  {
   "cell_type": "markdown",
   "metadata": {},
   "source": [
    "### Bronze"
   ]
  },
  {
   "cell_type": "code",
   "execution_count": null,
   "metadata": {},
   "outputs": [],
   "source": [
    "contador = 1\n",
    "for ano in range(2003, ultimo_ano):\n",
    "    if contador == 1:\n",
    "        df_1002 = pd.read_json(f'https://apisidra.ibge.gov.br/values/t/{codigo}/n6/all/v/216/p/{ano}/c81/all')\n",
    "        contador += 1\n",
    "    else:\n",
    "        df_1002 = pd.concat(\n",
    "            [df_1002,\n",
    "             (pd.read_json(f'https://apisidra.ibge.gov.br/values/t/{codigo}/n6/all/v/216/p/{ano}/c81/all')\n",
    "              .iloc[1:])],\n",
    "            ignore_index=True\n",
    "            )\n",
    "        contador += 1\n",
    "\n",
    "df_1002.to_json(f'{raiz}/bronze_{fonte}_{dataset_name}_{variavel}.json')\n",
    "print(f'Foram contabilizadas {contador} repetições de dados de áreas de colheita raspados.')"
   ]
  },
  {
   "cell_type": "markdown",
   "metadata": {},
   "source": [
    "### Prata"
   ]
  },
  {
   "cell_type": "markdown",
   "metadata": {},
   "source": [
    "| CÓDIGO | DIVISÃO DE SAFRA |\n",
    "|--------|------------------|\n",
    "| 31693  |      Total       |\n",
    "| 117991 |  Primeira safra  |\n",
    "| 117992 |  Segunda safra   |\n",
    "| 117993 |  Terceira safra  |"
   ]
  },
  {
   "cell_type": "code",
   "execution_count": 11,
   "metadata": {},
   "outputs": [],
   "source": [
    "df_1002 = (\n",
    "    pd.read_json(f'{raiz}/bronze_{fonte}_{dataset_name}_{variavel}.json')\n",
    "          .drop(0, axis = 0)\n",
    "          .filter(['D1C', 'D3C', 'D4C', 'V'])\n",
    "          .assign(**{\n",
    "            'area': lambda df: pd.to_numeric(df['V'], errors='coerce'),\n",
    "            'geocodigo': lambda df: df['D1C'].astype(int),\n",
    "            'data': lambda df: pd.to_datetime(df['D3C'], format='%Y'),\n",
    "            'safra': lambda df: df['D4C'].astype(int),\n",
    "            'cultura': 2702 # Código relativo ao feijão na organização na tabela de lavouras temporárias\n",
    "            })\n",
    "          .drop(['D1C', 'D3C', 'D4C', 'V'], axis='columns')\n",
    "          .dropna(subset='area')\n",
    "          .set_index(['geocodigo', 'data', 'cultura', 'safra'])\n",
    ")\n",
    "\n",
    "df_1002.to_parquet(f'{raiz}/prata_{fonte}_{dataset_name}_{variavel}.parquet')"
   ]
  }
 ],
 "metadata": {
  "kernelspec": {
   "display_name": "base",
   "language": "python",
   "name": "python3"
  },
  "language_info": {
   "codemirror_mode": {
    "name": "ipython",
    "version": 3
   },
   "file_extension": ".py",
   "mimetype": "text/x-python",
   "name": "python",
   "nbconvert_exporter": "python",
   "pygments_lexer": "ipython3",
   "version": "3.10.12"
  }
 },
 "nbformat": 4,
 "nbformat_minor": 2
}
