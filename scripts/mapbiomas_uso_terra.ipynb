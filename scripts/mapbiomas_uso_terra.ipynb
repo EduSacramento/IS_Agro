{
 "cells": [
  {
   "cell_type": "code",
   "execution_count": 1,
   "metadata": {},
   "outputs": [],
   "source": [
    "# Importação das bibliotecas necessárias\n",
    "import pandas as pd\n",
    "\n",
    "from bs4 import BeautifulSoup\n",
    "import requests\n",
    "\n",
    "import pdfplumber"
   ]
  },
  {
   "cell_type": "code",
   "execution_count": 5,
   "metadata": {},
   "outputs": [],
   "source": [
    "fonte = 'mapbiomas'\n",
    "dataset_name = 'uso_terra'\n",
    "raiz = '/home/eduardo/repositorios/IS_Agro/databases'"
   ]
  },
  {
   "cell_type": "markdown",
   "metadata": {},
   "source": [
    "### Bronze"
   ]
  },
  {
   "cell_type": "code",
   "execution_count": 3,
   "metadata": {},
   "outputs": [],
   "source": [
    "# Requisição para a URL\n",
    "response = requests.get('https://brasil.mapbiomas.org/estatisticas/')\n",
    "\n",
    "# Criação do objeto BeautifulSoup\n",
    "soup = BeautifulSoup(response.text, 'html.parser')\n",
    "\n",
    "# Listagem de todos os links na página\n",
    "links = soup.find_all('a')"
   ]
  },
  {
   "cell_type": "code",
   "execution_count": null,
   "metadata": {},
   "outputs": [],
   "source": [
    "# Filtro para apenas os links de download\n",
    "download_links = [link.get('href') for link in links if 'download' in link.get('href') and 'COBERTURA' in link.text and 'MUNICÍPIO' in link.text]\n",
    "\n",
    "# Seleção do link de download (caso o filtro pegue outros links que atendam o critério) com aquisição apenas do nome do arquivo\n",
    "cobertura_xlsx = download_links[0].split(\"/\")[-1]\n",
    "\n",
    "# Salvamento do arquivo em disco com o nome original, assim mantendo a coleção\n",
    "with open(f'{raiz}/bronze_{cobertura_xlsx}', 'wb') as arquivo:\n",
    "    arquivo.write(requests.get(download_links[0]).content)"
   ]
  },
  {
   "cell_type": "markdown",
   "metadata": {},
   "source": [
    "### Prata"
   ]
  },
  {
   "cell_type": "code",
   "execution_count": 4,
   "metadata": {},
   "outputs": [],
   "source": [
    "# Obtenção de lista com anos de interesse que constam como colunas da tabela\n",
    "anos = (pd.read_excel(f'{raiz}/bronze_{cobertura_xlsx}',\n",
    "                      sheet_name = 1,\n",
    "                      usecols=lambda x: isinstance(x, int))\n",
    "        .columns\n",
    "        .drop(range(1985, 1990))\n",
    "        .tolist()\n",
    "        )"
   ]
  },
  {
   "cell_type": "code",
   "execution_count": null,
   "metadata": {},
   "outputs": [],
   "source": [
    "df = (\n",
    "    pd.read_excel(f'{raiz}/bronze_{cobertura_xlsx}',\n",
    "                      sheet_name = 1)\n",
    "    .drop(range(1985, 1990), axis = 'columns')\n",
    "    .rename(columns=lambda col: 'class' if col == 'class_id' else col)\n",
    "    .melt(\n",
    "        id_vars=['geocode', 'class'],\n",
    "        value_vars=anos,\n",
    "        var_name='data',\n",
    "        value_name='area'\n",
    "        )\n",
    "    .dropna(subset='area')\n",
    "    #.query('area != 0.0')\n",
    "    .assign(data = lambda df: pd.to_datetime(df.data, format='%Y'), # Conversão de número inteiro para formato de data seguindo a ISO 8601\n",
    "                                ) \n",
    "    .convert_dtypes()\n",
    "    .rename(columns=\n",
    "            {\n",
    "                'geocode':'geocodigo',\n",
    "                'class':'classe'\n",
    "             })\n",
    "    )\n",
    "(\n",
    "    df.set_index(['geocodigo', 'data', 'classe'])\n",
    "    .to_parquet(f'{raiz}/prata_{fonte}_{dataset_name}_municipio.parquet')\n",
    ")\n",
    "\n",
    "df_uf = (df\n",
    "         .assign(geocodigo_uf = lambda df: df['geocodigo']// 100000)\n",
    "         .groupby(['geocodigo_uf', 'data', 'classe'])\n",
    "         .agg({'area':sum})\n",
    "         .rename_axis(index={'geocodigo_uf': 'geocodigo'})\n",
    "         .convert_dtypes()\n",
    "         )\n",
    "df_uf.to_parquet(f'{raiz}/prata_{fonte}_{dataset_name}_uf.parquet')"
   ]
  },
  {
   "cell_type": "markdown",
   "metadata": {},
   "source": [
    "### Legenda"
   ]
  },
  {
   "cell_type": "markdown",
   "metadata": {},
   "source": [
    "##### Bronze"
   ]
  },
  {
   "cell_type": "code",
   "execution_count": 2,
   "metadata": {},
   "outputs": [],
   "source": [
    "# Requisição para a URL\n",
    "response = requests.get('https://brasil.mapbiomas.org/codigos-de-legenda/')\n",
    "\n",
    "# Criação do objeto BeautifulSoup\n",
    "soup = BeautifulSoup(response.text, 'html.parser')\n",
    "\n",
    "# Listagem de todos os links na página\n",
    "links = soup.find_all('a')"
   ]
  },
  {
   "cell_type": "code",
   "execution_count": 3,
   "metadata": {},
   "outputs": [],
   "source": [
    "# Encontrar o primeiro link para PDF\n",
    "pdf_link = [link.get('href') for link in links if 'pdf' in link.get('href').lower()][0]\n",
    "\n",
    "# Extração do nome do arquivo do PDF\n",
    "pdf_filename = pdf_link.split(\"/\")[-1]\n",
    "\n",
    "# Salvamento do arquivo em disco\n",
    "# with open(f'{raiz}/bronze_{pdf_filename}', 'wb') as arquivo:\n",
    "#     arquivo.write(requests.get(pdf_link).content)"
   ]
  },
  {
   "cell_type": "markdown",
   "metadata": {},
   "source": [
    "##### Prata"
   ]
  },
  {
   "cell_type": "code",
   "execution_count": 6,
   "metadata": {},
   "outputs": [],
   "source": [
    "# Abrir e copiar a tabela do PDF\n",
    "with pdfplumber.open(f'{raiz}/bronze_{pdf_filename}') as pdf:\n",
    "    tabela = pdf.pages[0].extract_table() # Leitura da primeira página e extração da tabela"
   ]
  },
  {
   "cell_type": "code",
   "execution_count": 11,
   "metadata": {},
   "outputs": [],
   "source": [
    "# Criação da tabela de códigos do MapBiomas\n",
    "df_codigo = (\n",
    "    pd.DataFrame(tabela)\n",
    "    .filter([3, 1])\n",
    "    .rename(columns={3: 'codigo', 1: 'classe_cod'})\n",
    "    .drop(index=[0,1])\n",
    "    .replace('27', '0')\n",
    "    .assign(\n",
    "        rotulo=lambda x: x.classe_cod.str.replace(r'[^A-Za-zÀ-ÿ\\s]', '', regex=True).str.strip(),\n",
    "        codigo=lambda n: n.codigo.astype(int)\n",
    "    )\n",
    "    .convert_dtypes()\n",
    "    .reset_index(drop=True)\n",
    ")\n",
    "\n",
    "df_codigo.to_parquet(f'{raiz}/prata_{fonte}_codigo_{dataset_name}.parquet', index=False)"
   ]
  },
  {
   "cell_type": "code",
   "execution_count": 12,
   "metadata": {},
   "outputs": [],
   "source": [
    "df_codigo.to_csv(f'{raiz}/prata_{fonte}_codigo_{dataset_name}.csv', index=False)"
   ]
  }
 ],
 "metadata": {
  "kernelspec": {
   "display_name": "venv",
   "language": "python",
   "name": "python3"
  },
  "language_info": {
   "codemirror_mode": {
    "name": "ipython",
    "version": 3
   },
   "file_extension": ".py",
   "mimetype": "text/x-python",
   "name": "python",
   "nbconvert_exporter": "python",
   "pygments_lexer": "ipython3",
   "version": "3.12.3"
  }
 },
 "nbformat": 4,
 "nbformat_minor": 2
}
