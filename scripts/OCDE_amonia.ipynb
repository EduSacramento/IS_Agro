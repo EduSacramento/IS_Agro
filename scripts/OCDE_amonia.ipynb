{
 "cells": [
  {
   "cell_type": "code",
   "execution_count": 2,
   "metadata": {},
   "outputs": [],
   "source": [
    "import pandas as pd"
   ]
  },
  {
   "cell_type": "code",
   "execution_count": null,
   "metadata": {},
   "outputs": [],
   "source": [
    "dataset_name = 'ocde_amonia'\n",
    "raiz = '../repositorio'"
   ]
  },
  {
   "cell_type": "markdown",
   "metadata": {},
   "source": [
    "### Prata"
   ]
  },
  {
   "cell_type": "markdown",
   "metadata": {},
   "source": [
    "Emissões de Amônia (NH3) da agricultura\n",
    "\n",
    "Unidade: Tonelada"
   ]
  },
  {
   "cell_type": "code",
   "execution_count": 99,
   "metadata": {},
   "outputs": [],
   "source": [
    "df = (pd.read_excel(f'{raiz}/EMISSOES AMONIA OCDE.xlsx',\n",
    "               header=3, # Linha do cabeçalho da tabela\n",
    "               skiprows=lambda linha: linha in [4, 50], # Linhas da tabela a serem ignoradas, se sobrepondo ao header\n",
    "               na_values='..'\n",
    "               )\n",
    " .drop('Unnamed: 1', axis = 1)\n",
    " .rename(columns={'Time': 'pais'})\n",
    " .melt(\n",
    "     id_vars='pais',\n",
    "     var_name='ano',\n",
    "     value_name='valor_ton'\n",
    "     )\n",
    " .dropna(subset='valor_ton')\n",
    " .assign(**{\n",
    "     'origem': 'OCDE',\n",
    "     'indicador': 'NH3',\n",
    "     'ano': lambda col: col['ano'].astype(int)\n",
    "     })\n",
    " .sort_values(by=['ano','valor_ton'],\n",
    "              ascending = [True, False]) # Organização dos dados\n",
    " .set_index(['indicador', 'pais', 'ano', 'origem'])\n",
    " )"
   ]
  },
  {
   "cell_type": "code",
   "execution_count": 97,
   "metadata": {},
   "outputs": [
    {
     "name": "stdout",
     "output_type": "stream",
     "text": [
      "Há índices não-únicos nesta tabela. Favor verificar.\n"
     ]
    }
   ],
   "source": [
    "if df.index.is_unique is True:\n",
    "    df.to_parquet(xxx)\n",
    "else:\n",
    "    print('Há índices não-únicos nesta tabela. Favor verificar.')"
   ]
  },
  {
   "cell_type": "code",
   "execution_count": 100,
   "metadata": {},
   "outputs": [
    {
     "data": {
      "text/html": [
       "<div>\n",
       "<style scoped>\n",
       "    .dataframe tbody tr th:only-of-type {\n",
       "        vertical-align: middle;\n",
       "    }\n",
       "\n",
       "    .dataframe tbody tr th {\n",
       "        vertical-align: top;\n",
       "    }\n",
       "\n",
       "    .dataframe thead th {\n",
       "        text-align: right;\n",
       "    }\n",
       "</style>\n",
       "<table border=\"1\" class=\"dataframe\">\n",
       "  <thead>\n",
       "    <tr style=\"text-align: right;\">\n",
       "      <th></th>\n",
       "      <th></th>\n",
       "      <th></th>\n",
       "      <th></th>\n",
       "      <th>valor_ton</th>\n",
       "    </tr>\n",
       "    <tr>\n",
       "      <th>indicador</th>\n",
       "      <th>pais</th>\n",
       "      <th>ano</th>\n",
       "      <th>origem</th>\n",
       "      <th></th>\n",
       "    </tr>\n",
       "  </thead>\n",
       "  <tbody>\n",
       "    <tr>\n",
       "      <th rowspan=\"11\" valign=\"top\">NH3</th>\n",
       "      <th>United States</th>\n",
       "      <th>1990</th>\n",
       "      <th>OCDE</th>\n",
       "      <td>3381000.000</td>\n",
       "    </tr>\n",
       "    <tr>\n",
       "      <th>Brazil</th>\n",
       "      <th>1990</th>\n",
       "      <th>OCDE</th>\n",
       "      <td>2275770.410</td>\n",
       "    </tr>\n",
       "    <tr>\n",
       "      <th>Germany</th>\n",
       "      <th>1990</th>\n",
       "      <th>OCDE</th>\n",
       "      <td>687785.126</td>\n",
       "    </tr>\n",
       "    <tr>\n",
       "      <th>France</th>\n",
       "      <th>1990</th>\n",
       "      <th>OCDE</th>\n",
       "      <td>627896.630</td>\n",
       "    </tr>\n",
       "    <tr>\n",
       "      <th>Ukraine</th>\n",
       "      <th>1990</th>\n",
       "      <th>OCDE</th>\n",
       "      <td>623601.000</td>\n",
       "    </tr>\n",
       "    <tr>\n",
       "      <th>...</th>\n",
       "      <th>...</th>\n",
       "      <th>...</th>\n",
       "      <td>...</td>\n",
       "    </tr>\n",
       "    <tr>\n",
       "      <th>Cyprus</th>\n",
       "      <th>2020</th>\n",
       "      <th>OCDE</th>\n",
       "      <td>8030.886</td>\n",
       "    </tr>\n",
       "    <tr>\n",
       "      <th>Luxembourg</th>\n",
       "      <th>2020</th>\n",
       "      <th>OCDE</th>\n",
       "      <td>5691.252</td>\n",
       "    </tr>\n",
       "    <tr>\n",
       "      <th>Iceland</th>\n",
       "      <th>2020</th>\n",
       "      <th>OCDE</th>\n",
       "      <td>4342.121</td>\n",
       "    </tr>\n",
       "    <tr>\n",
       "      <th>Malta</th>\n",
       "      <th>2020</th>\n",
       "      <th>OCDE</th>\n",
       "      <td>1318.669</td>\n",
       "    </tr>\n",
       "    <tr>\n",
       "      <th>Israel</th>\n",
       "      <th>2021</th>\n",
       "      <th>OCDE</th>\n",
       "      <td>17700.380</td>\n",
       "    </tr>\n",
       "  </tbody>\n",
       "</table>\n",
       "<p>1242 rows × 1 columns</p>\n",
       "</div>"
      ],
      "text/plain": [
       "                                       valor_ton\n",
       "indicador pais          ano  origem             \n",
       "NH3       United States 1990 OCDE    3381000.000\n",
       "          Brazil        1990 OCDE    2275770.410\n",
       "          Germany       1990 OCDE     687785.126\n",
       "          France        1990 OCDE     627896.630\n",
       "          Ukraine       1990 OCDE     623601.000\n",
       "...                                          ...\n",
       "          Cyprus        2020 OCDE       8030.886\n",
       "          Luxembourg    2020 OCDE       5691.252\n",
       "          Iceland       2020 OCDE       4342.121\n",
       "          Malta         2020 OCDE       1318.669\n",
       "          Israel        2021 OCDE      17700.380\n",
       "\n",
       "[1242 rows x 1 columns]"
      ]
     },
     "execution_count": 100,
     "metadata": {},
     "output_type": "execute_result"
    }
   ],
   "source": [
    "df"
   ]
  }
 ],
 "metadata": {
  "kernelspec": {
   "display_name": "venv",
   "language": "python",
   "name": "python3"
  },
  "language_info": {
   "codemirror_mode": {
    "name": "ipython",
    "version": 3
   },
   "file_extension": ".py",
   "mimetype": "text/x-python",
   "name": "python",
   "nbconvert_exporter": "python",
   "pygments_lexer": "ipython3",
   "version": "3.10.6"
  }
 },
 "nbformat": 4,
 "nbformat_minor": 2
}
