{
 "cells": [
  {
   "cell_type": "code",
   "execution_count": 1,
   "metadata": {},
   "outputs": [],
   "source": [
    "# Importação das bibliotecas necessárias\n",
    "import pandas as pd\n",
    "\n",
    "from bs4 import BeautifulSoup\n",
    "import requests"
   ]
  },
  {
   "cell_type": "code",
   "execution_count": 2,
   "metadata": {},
   "outputs": [],
   "source": [
    "fonte = 'mapbiomas'\n",
    "dataset_name = 'cobertura_solo'\n",
    "raiz = '/home/eduardo/repositorios/IS_Agro/databases'"
   ]
  },
  {
   "cell_type": "markdown",
   "metadata": {},
   "source": [
    "### Bronze"
   ]
  },
  {
   "cell_type": "code",
   "execution_count": 3,
   "metadata": {},
   "outputs": [],
   "source": [
    "# Requisição para a URL\n",
    "response = requests.get('https://brasil.mapbiomas.org/estatisticas/')\n",
    "\n",
    "# Criação do objeto BeautifulSoup\n",
    "soup = BeautifulSoup(response.text, 'html.parser')\n",
    "\n",
    "# Listagem de todos os links na página\n",
    "links = soup.find_all('a')\n",
    "\n",
    "# Filtro para apenas os links de download\n",
    "download_links = [link.get('href') for link in links if 'download' in link.get('href') and 'COBERTURA' in link.text and 'MUNICÍPIO' in link.text]\n",
    "\n",
    "# Seleção do link de download (caso o filtro pegue outros links que atendam o critério) com aquisição apenas do nome do arquivo\n",
    "cobertura_xlsx = download_links[0].split(\"/\")[-1]\n",
    "\n",
    "# Salvamento do arquivo em disco\n",
    "with open(f'{raiz}/bronze_{cobertura_xlsx}', 'wb') as arquivo:\n",
    "    arquivo.write(requests.get(download_links[0]).content)"
   ]
  },
  {
   "cell_type": "markdown",
   "metadata": {},
   "source": [
    "### Prata"
   ]
  },
  {
   "cell_type": "code",
   "execution_count": 4,
   "metadata": {},
   "outputs": [],
   "source": [
    "# Obtenção de lista com anos de interesse que constam como colunas da tabela\n",
    "anos = (pd.read_excel(f'{raiz}/bronze_{cobertura_xlsx}',\n",
    "                      sheet_name = 1,\n",
    "                      usecols=lambda x: isinstance(x, int))\n",
    "        .columns\n",
    "        .drop(range(1985, 1990))\n",
    "        .tolist()\n",
    "        )"
   ]
  },
  {
   "cell_type": "code",
   "execution_count": 6,
   "metadata": {},
   "outputs": [],
   "source": [
    "df = (\n",
    "    pd.read_excel(f'{raiz}/bronze_{cobertura_xlsx}',\n",
    "                      sheet_name = 1)\n",
    "    .drop(range(1985, 1990), axis = 'columns')\n",
    "    .rename(columns=lambda col: 'class' if col == 'class_id' else col)\n",
    "    .melt(\n",
    "        id_vars=['geocode', 'class'],\n",
    "        value_vars=anos,\n",
    "        var_name='data',\n",
    "        value_name='area'\n",
    "        )\n",
    "    .dropna(subset='area')\n",
    "    .query('area != 0.0')\n",
    "    .assign(data = lambda df: pd.to_datetime(df.data, format='%Y'), # Conversão de número inteiro para formato de data seguindo a ISO 8601\n",
    "                                area = lambda x: x.area/1000000) \n",
    "    .convert_dtypes()\n",
    "    .rename(columns=\n",
    "            {\n",
    "                'geocode':'geocodigo',\n",
    "                'class':'classe_solo'\n",
    "             })\n",
    "    )\n",
    "(\n",
    "    df.set_index(['geocodigo', 'data', 'classe_solo'])\n",
    "    .to_parquet(f'{raiz}/prata_{fonte}_{dataset_name}_municipio.parquet')\n",
    ")\n",
    "\n",
    "df_uf = (df\n",
    "         .assign(geocodigo_uf = lambda df: (df['geocodigo']// 100000))\n",
    "         .groupby(['geocodigo_uf', 'data', 'classe_solo'])\n",
    "         .agg({'area':sum})\n",
    "         .rename_axis(index={'geocodigo_uf': 'geocodigo'})\n",
    "         .convert_dtypes()\n",
    "         )\n",
    "df_uf.to_parquet(f'{raiz}/prata_{fonte}_{dataset_name}_uf.parquet')"
   ]
  }
 ],
 "metadata": {
  "kernelspec": {
   "display_name": "venv",
   "language": "python",
   "name": "python3"
  },
  "language_info": {
   "codemirror_mode": {
    "name": "ipython",
    "version": 3
   },
   "file_extension": ".py",
   "mimetype": "text/x-python",
   "name": "python",
   "nbconvert_exporter": "python",
   "pygments_lexer": "ipython3",
   "version": "3.10.12"
  }
 },
 "nbformat": 4,
 "nbformat_minor": 2
}
