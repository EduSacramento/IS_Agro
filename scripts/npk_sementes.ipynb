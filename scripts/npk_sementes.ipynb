{
 "cells": [
  {
   "cell_type": "code",
   "execution_count": 1,
   "metadata": {},
   "outputs": [],
   "source": [
    "import pandas as pd\n",
    "\n",
    "from pendulum import now"
   ]
  },
  {
   "cell_type": "code",
   "execution_count": 2,
   "metadata": {},
   "outputs": [],
   "source": [
    "dataset_name = 'sidra_tab5457_sementes'\n",
    "raiz = '/home/eduardo/repositorios/IS_Agro/databases'"
   ]
  },
  {
   "cell_type": "markdown",
   "metadata": {},
   "source": [
    "Área de colheita/plantada (ha)"
   ]
  },
  {
   "cell_type": "markdown",
   "metadata": {},
   "source": [
    "### Bronze"
   ]
  },
  {
   "cell_type": "code",
   "execution_count": 3,
   "metadata": {},
   "outputs": [
    {
     "name": "stdout",
     "output_type": "stream",
     "text": [
      "Foram contabilizadas 24 repetições.\n"
     ]
    }
   ],
   "source": [
    "contador = 1\n",
    "\n",
    "ultimo_ano = now().year - 1\n",
    "for ano in range(2000, ultimo_ano):\n",
    "    if contador == 1:\n",
    "        df_5457 = pd.read_json(f'https://apisidra.ibge.gov.br/values/t/5457/n6/all/v/216/p/{ano}/c782/40102,40106,40112,40119,40122,40124,40127')\n",
    "        contador += 1\n",
    "    else:\n",
    "        df_5457 = pd.concat(\n",
    "            [df_5457,\n",
    "            (pd.read_json(f'https://apisidra.ibge.gov.br/values/t/5457/n6/all/v/216/p/{ano}/c782/40102,40106,40112,40119,40122,40124,40127')\n",
    "             .iloc[1:])],\n",
    "            ignore_index=True            \n",
    "        )\n",
    "        contador += 1\n",
    "\n",
    "df_5457.to_json(f'{raiz}/bronze_{dataset_name}.json')\n",
    "print(f'Foram contabilizadas {contador} repetições.')"
   ]
  },
  {
   "cell_type": "markdown",
   "metadata": {},
   "source": [
    "### Prata"
   ]
  },
  {
   "cell_type": "code",
   "execution_count": 4,
   "metadata": {},
   "outputs": [],
   "source": [
    "(pd.read_json(f'{raiz}/bronze_{dataset_name}.json')\n",
    " .drop(0, axis = 0)\n",
    " .filter(['D1C', 'D3C', 'D4C', 'V'])\n",
    " .assign(**{\n",
    "        'uf': lambda df: df['D1C'].str.slice(0,2).astype(int),\n",
    "        'hectare': lambda df: pd.to_numeric(df['V'], errors='coerce'),\n",
    "        'municipio': lambda df: df['D1C'].astype(int),\n",
    "        'ano': lambda df: df['D3C'].astype(int),\n",
    "        'cultura': lambda df: df['D4C'].astype(int),\n",
    "        'fonte': 'Sementes'\n",
    "        })\n",
    " .dropna(subset='hectare')\n",
    " .convert_dtypes()\n",
    " .groupby(['uf', 'municipio', 'ano', 'cultura', 'fonte'])\n",
    " .agg({'hectare':sum})\n",
    " .to_parquet(f'{raiz}/prata_{dataset_name}.parquet')\n",
    " )"
   ]
  },
  {
   "cell_type": "markdown",
   "metadata": {},
   "source": [
    "### Ouro"
   ]
  },
  {
   "cell_type": "markdown",
   "metadata": {},
   "source": [
    "Quantidade de sementes/mudas utilizadas por área para a plantação das principais culturas agrícolas do país.\n",
    "\n",
    "((Área * Quantidade_Sementes_ha)/1000) * (Teor N,P,K/1000)"
   ]
  },
  {
   "cell_type": "code",
   "execution_count": 3,
   "metadata": {},
   "outputs": [],
   "source": [
    "parametro = {\n",
    "    40102: {'semente_ha': 160, 'n': 13, 'p': 2.9, 'k': 3}, # Arroz\n",
    "    40106: {'semente_ha': 12500, 'n': 1, 'p': 0.3, 'k': 1.5}, # Cana-de-açúcar\n",
    "    40112: {'semente_ha': 45, 'n': 50, 'p': 5.7, 'k': 12.5}, # Feijão\n",
    "    40119: {'semente_ha': 750, 'n': 2.1, 'p': 0.2, 'k': 2}, # Mandioca\n",
    "    40122: {'semente_ha': 23, 'n': 12, 'p': 2.7, 'k': 3.7}, # Milho\n",
    "    40124: {'semente_ha': 70, 'n': 55, 'p': 5.2, 'k': 16.6}, # Soja\n",
    "    40127: {'semente_ha': 120, 'n': 21, 'p': 4.1, 'k': 4.6}, # Trigo\n",
    "    }"
   ]
  },
  {
   "cell_type": "code",
   "execution_count": 4,
   "metadata": {},
   "outputs": [
    {
     "data": {
      "text/html": [
       "<div>\n",
       "<style scoped>\n",
       "    .dataframe tbody tr th:only-of-type {\n",
       "        vertical-align: middle;\n",
       "    }\n",
       "\n",
       "    .dataframe tbody tr th {\n",
       "        vertical-align: top;\n",
       "    }\n",
       "\n",
       "    .dataframe thead th {\n",
       "        text-align: right;\n",
       "    }\n",
       "</style>\n",
       "<table border=\"1\" class=\"dataframe\">\n",
       "  <thead>\n",
       "    <tr style=\"text-align: right;\">\n",
       "      <th></th>\n",
       "      <th></th>\n",
       "      <th></th>\n",
       "      <th>elemento</th>\n",
       "      <th>valor</th>\n",
       "    </tr>\n",
       "    <tr>\n",
       "      <th>uf</th>\n",
       "      <th>ano</th>\n",
       "      <th>fonte</th>\n",
       "      <th></th>\n",
       "      <th></th>\n",
       "    </tr>\n",
       "  </thead>\n",
       "  <tbody>\n",
       "    <tr>\n",
       "      <th rowspan=\"5\" valign=\"top\">11</th>\n",
       "      <th>2000</th>\n",
       "      <th>Sementes</th>\n",
       "      <td>N</td>\n",
       "      <td>506.300993</td>\n",
       "    </tr>\n",
       "    <tr>\n",
       "      <th>2001</th>\n",
       "      <th>Sementes</th>\n",
       "      <td>N</td>\n",
       "      <td>443.515866</td>\n",
       "    </tr>\n",
       "    <tr>\n",
       "      <th>2002</th>\n",
       "      <th>Sementes</th>\n",
       "      <td>N</td>\n",
       "      <td>403.313943</td>\n",
       "    </tr>\n",
       "    <tr>\n",
       "      <th>2003</th>\n",
       "      <th>Sementes</th>\n",
       "      <td>N</td>\n",
       "      <td>487.421785</td>\n",
       "    </tr>\n",
       "    <tr>\n",
       "      <th>2004</th>\n",
       "      <th>Sementes</th>\n",
       "      <td>N</td>\n",
       "      <td>610.753246</td>\n",
       "    </tr>\n",
       "    <tr>\n",
       "      <th>...</th>\n",
       "      <th>...</th>\n",
       "      <th>...</th>\n",
       "      <td>...</td>\n",
       "      <td>...</td>\n",
       "    </tr>\n",
       "    <tr>\n",
       "      <th rowspan=\"5\" valign=\"top\">53</th>\n",
       "      <th>2018</th>\n",
       "      <th>Sementes</th>\n",
       "      <td>K</td>\n",
       "      <td>103.98166</td>\n",
       "    </tr>\n",
       "    <tr>\n",
       "      <th>2019</th>\n",
       "      <th>Sementes</th>\n",
       "      <td>K</td>\n",
       "      <td>106.557425</td>\n",
       "    </tr>\n",
       "    <tr>\n",
       "      <th>2020</th>\n",
       "      <th>Sementes</th>\n",
       "      <td>K</td>\n",
       "      <td>109.05712</td>\n",
       "    </tr>\n",
       "    <tr>\n",
       "      <th>2021</th>\n",
       "      <th>Sementes</th>\n",
       "      <td>K</td>\n",
       "      <td>110.84075</td>\n",
       "    </tr>\n",
       "    <tr>\n",
       "      <th>2022</th>\n",
       "      <th>Sementes</th>\n",
       "      <td>K</td>\n",
       "      <td>119.393</td>\n",
       "    </tr>\n",
       "  </tbody>\n",
       "</table>\n",
       "<p>1863 rows × 2 columns</p>\n",
       "</div>"
      ],
      "text/plain": [
       "                 elemento       valor\n",
       "uf ano  fonte                        \n",
       "11 2000 Sementes        N  506.300993\n",
       "   2001 Sementes        N  443.515866\n",
       "   2002 Sementes        N  403.313943\n",
       "   2003 Sementes        N  487.421785\n",
       "   2004 Sementes        N  610.753246\n",
       "...                   ...         ...\n",
       "53 2018 Sementes        K   103.98166\n",
       "   2019 Sementes        K  106.557425\n",
       "   2020 Sementes        K   109.05712\n",
       "   2021 Sementes        K   110.84075\n",
       "   2022 Sementes        K     119.393\n",
       "\n",
       "[1863 rows x 2 columns]"
      ]
     },
     "execution_count": 4,
     "metadata": {},
     "output_type": "execute_result"
    }
   ],
   "source": [
    "df = (pd.read_parquet(f'{raiz}/prata_{dataset_name}.parquet')\n",
    "      .groupby(['uf', 'ano', 'cultura', 'fonte'])\n",
    "      .agg({'hectare':sum})\n",
    "      .reset_index()\n",
    "      .assign(**{\n",
    "          'N': lambda df: df.apply(lambda lin: ((lin['hectare']*parametro[lin['cultura']]['semente_ha'])/1000) * (parametro[lin['cultura']]['n']/1000), axis = 1),\n",
    "          'P': lambda df: df.apply(lambda lin: ((lin['hectare']*parametro[lin['cultura']]['semente_ha'])/1000) * (parametro[lin['cultura']]['p']/1000), axis = 1),\n",
    "          'K': lambda df: df.apply(lambda lin: ((lin['hectare']*parametro[lin['cultura']]['semente_ha'])/1000) * (parametro[lin['cultura']]['k']/1000), axis = 1)\n",
    "          })\n",
    "      .drop('hectare', axis = 1)\n",
    "      .melt(id_vars=['uf', 'ano', 'cultura', 'fonte'],\n",
    "            value_vars=['N', 'P', 'K'],\n",
    "            var_name='elemento',\n",
    "            value_name='valor')\n",
    "      .convert_dtypes()\n",
    "      .groupby(['uf', 'ano', 'fonte', 'elemento'])\n",
    "      .agg({'valor': sum})\n",
    "      .reset_index(level='elemento')\n",
    "      .sort_values(by=['elemento', 'uf'],\n",
    "                   key=lambda x: x.map({'N': 0, 'P': 1, 'K': 2}))\n",
    "      )\n",
    "\n",
    "df.to_csv(f'{raiz}/ouro_npk_sementes_ha.csv')\n",
    "\n",
    "df"
   ]
  }
 ],
 "metadata": {
  "kernelspec": {
   "display_name": "base",
   "language": "python",
   "name": "python3"
  },
  "language_info": {
   "codemirror_mode": {
    "name": "ipython",
    "version": 3
   },
   "file_extension": ".py",
   "mimetype": "text/x-python",
   "name": "python",
   "nbconvert_exporter": "python",
   "pygments_lexer": "ipython3",
   "version": "3.10.12"
  }
 },
 "nbformat": 4,
 "nbformat_minor": 2
}
