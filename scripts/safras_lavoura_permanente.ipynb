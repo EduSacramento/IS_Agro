{
 "cells": [
  {
   "cell_type": "code",
   "execution_count": null,
   "metadata": {},
   "outputs": [],
   "source": [
    "import pandas as pd\n",
    "\n",
    "from pendulum import now"
   ]
  },
  {
   "cell_type": "code",
   "execution_count": null,
   "metadata": {},
   "outputs": [],
   "source": [
    "dataset_name = 'sidra_tab1613_lavoura_permanente'\n",
    "raiz = '../database'"
   ]
  },
  {
   "cell_type": "markdown",
   "metadata": {},
   "source": [
    "### Bronze"
   ]
  },
  {
   "cell_type": "markdown",
   "metadata": {},
   "source": [
    "Área colhida (ha)"
   ]
  },
  {
   "cell_type": "code",
   "execution_count": null,
   "metadata": {},
   "outputs": [],
   "source": [
    "culturas = [2717, 2718, 2719, 2720, 2721, 2722, 2723, 2724, 2725, 2726, 2727, 2728, 2729, 2730, 2731, 2732, 2733, 2734, 2735, 2736, 2737,\n",
    "            2738, 2739, 2740, 2741, 2742, 2743, 2744, 2745, 2746, 2747, 2748, 45981, 90001]\n",
    "\n",
    "contador = 1\n",
    "\n",
    "ultimo_ano = now().year - 1"
   ]
  },
  {
   "cell_type": "code",
   "execution_count": null,
   "metadata": {},
   "outputs": [],
   "source": [
    "for ano in range(2003, ultimo_ano):\n",
    "    for cultura in culturas:\n",
    "        if contador == 1:\n",
    "            df_1613 = pd.read_json(f'https://apisidra.ibge.gov.br/values/t/1613/n6/all/v/216/p/{ano}/c81/{cultura}')\n",
    "            contador += 1\n",
    "        else:\n",
    "            df_1613 = pd.concat(\n",
    "                [df_1613,\n",
    "                 (pd.read_json(f'https://apisidra.ibge.gov.br/values/t/1613/n6/all/v/216/p/{ano}/c81/{cultura}')\n",
    "                  .iloc[1:])],\n",
    "                  ignore_index=True\n",
    "                  )\n",
    "            contador += 1\n",
    "\n",
    "df_1613.to_json(f'{raiz}/bronze_{dataset_name}.json')\n",
    "\n",
    "print(f'Foram contabilizadas {contador} repetições de dados de áreas de colheita raspados.')"
   ]
  },
  {
   "cell_type": "markdown",
   "metadata": {},
   "source": [
    "### Prata"
   ]
  },
  {
   "cell_type": "code",
   "execution_count": null,
   "metadata": {},
   "outputs": [],
   "source": []
  }
 ],
 "metadata": {
  "language_info": {
   "name": "python"
  }
 },
 "nbformat": 4,
 "nbformat_minor": 2
}
