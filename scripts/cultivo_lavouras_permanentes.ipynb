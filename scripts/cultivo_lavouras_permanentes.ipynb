{
 "cells": [
  {
   "cell_type": "code",
   "execution_count": null,
   "metadata": {},
   "outputs": [],
   "source": [
    "# Importação de bibliotecas\n",
    "import pandas as pd\n",
    "\n",
    "from pendulum import now"
   ]
  },
  {
   "cell_type": "markdown",
   "metadata": {},
   "source": [
    "### Tabela 1613 - Área destinada à colheita, área colhida, quantidade produzida, rendimento médio e valor da produção das lavouras permanentes "
   ]
  },
  {
   "cell_type": "code",
   "execution_count": null,
   "metadata": {},
   "outputs": [],
   "source": [
    "fonte = 'sidra'\n",
    "dataset_name = 'tab1613_lavoura_permanente'\n",
    "raiz = '/home/eduardo/repositorios/IS_Agro/databases'\n",
    "\n",
    "ultimo_ano = now().year - 1"
   ]
  },
  {
   "cell_type": "markdown",
   "metadata": {},
   "source": [
    "#### Bronze"
   ]
  },
  {
   "cell_type": "markdown",
   "metadata": {},
   "source": [
    "Área destinada à colheita (ha)"
   ]
  },
  {
   "cell_type": "code",
   "execution_count": null,
   "metadata": {},
   "outputs": [],
   "source": [
    "culturas = [2717, 2718, 2719, 2720, 2721, 2722, 2723, 2724, 2725, 2726, 2727, 2728, 2729, 2730, 2731, 2732, 2733, 2734, 2735, 2736, 2737,\n",
    "            2738, 2739, 2740, 2741, 2742, 2743, 2744, 2745, 2746, 2747, 2748, 45981, 90001]\n",
    "\n",
    "variavel = 'area_destinada_colheita'\n",
    "\n",
    "contador = 1"
   ]
  },
  {
   "cell_type": "code",
   "execution_count": null,
   "metadata": {},
   "outputs": [],
   "source": [
    "for ano in range(2003, ultimo_ano):\n",
    "    for cultura in culturas:\n",
    "        if contador == 1:\n",
    "            df_1613 = pd.read_json(f'https://apisidra.ibge.gov.br/values/t/1613/n6/all/v/2313/p/{ano}/c82/{cultura}')\n",
    "            contador += 1\n",
    "        else:\n",
    "            df_1613 = pd.concat(\n",
    "                [df_1613,\n",
    "                 (pd.read_json(f'https://apisidra.ibge.gov.br/values/t/1613/n6/all/v/2313/p/{ano}/c82/{cultura}')\n",
    "                  .iloc[1:])],\n",
    "                  ignore_index=True\n",
    "                  )\n",
    "            contador += 1\n",
    "\n",
    "df_1613.to_json(f'{raiz}/bronze_{fonte}_{dataset_name}_{variavel}.json')\n",
    "\n",
    "print(f'Foram contabilizadas {contador} repetições de dados de áreas destinadas à colheita raspados.')"
   ]
  },
  {
   "cell_type": "markdown",
   "metadata": {},
   "source": [
    "Área colhida"
   ]
  },
  {
   "cell_type": "code",
   "execution_count": null,
   "metadata": {},
   "outputs": [],
   "source": [
    "culturas = [2717, 2720, 2723, 2724, 2725, 2730, 2731, 2733, 2734, 2735, 2736, 2738, 2739, 2741, 2742, 2745, 2748, 31619, 31620, 45981]\n",
    "\n",
    "variavel = 'area_colhida'\n",
    "\n",
    "contador = 1"
   ]
  },
  {
   "cell_type": "code",
   "execution_count": null,
   "metadata": {},
   "outputs": [],
   "source": [
    "for ano in range(1990, ultimo_ano):\n",
    "    for cultura in culturas:\n",
    "        if contador == 1:\n",
    "            df_1613ac = pd.read_json(f'https://apisidra.ibge.gov.br/values/t/1613/n6/all/v/216/p/{ano}/c82/{cultura}')\n",
    "            contador += 1\n",
    "        else:\n",
    "            df_1613ac = pd.concat(\n",
    "                [df_1613ac,\n",
    "                 (pd.read_json(f'https://apisidra.ibge.gov.br/values/t/1613/n6/all/v/216/p/{ano}/c82/{cultura}')\n",
    "                  .iloc[1:])],\n",
    "                  ignore_index=True\n",
    "                  )\n",
    "            contador += 1\n",
    "\n",
    "df_1613ac.to_json(f'{raiz}/bronze_{fonte}_{dataset_name}_{variavel}.json')\n",
    "\n",
    "print(f'Foram contabilizadas {contador} repetições de dados de áreas colhidas raspados.')"
   ]
  },
  {
   "cell_type": "markdown",
   "metadata": {},
   "source": [
    "#### Prata"
   ]
  },
  {
   "cell_type": "markdown",
   "metadata": {},
   "source": [
    "| Código | Cultura                        |\n",
    "|--------|--------------------------------|\n",
    "| 2717   | Abacate                        |\n",
    "| 2718   | Algodão arbóreo (em caroço)   |\n",
    "| 2719   | Azeitona                       |\n",
    "| 2720   | Banana (cacho)                 |\n",
    "| 2721   | Borracha (látex coagulado)     |\n",
    "| 2722   | Cacau (em amêndoa)             |\n",
    "| 2723   | Café (em grão) Total           |\n",
    "| 2724   | Caqui                          |\n",
    "| 2725   | Castanha de caju               |\n",
    "| 2726   | Chá-da-índia (folha verde)     |\n",
    "| 2727   | Coco-da-baía*                  |\n",
    "| 2728   | Dendê (cacho de coco)          |\n",
    "| 2729   | Erva-mate (folha verde)        |\n",
    "| 2730   | Figo                           |\n",
    "| 2731   | Goiaba                         |\n",
    "| 2732   | Guaraná (semente)              |\n",
    "| 2733   | Laranja                        |\n",
    "| 2734   | Limão                          |\n",
    "| 2735   | Maçã                           |\n",
    "| 2736   | Mamão                          |\n",
    "| 2737   | Manga                          |\n",
    "| 2738   | Maracujá                       |\n",
    "| 2739   | Marmelo                        |\n",
    "| 2740   | Noz (fruto seco)               |\n",
    "| 2741   | Pera                           |\n",
    "| 2742   | Pêssego                        |\n",
    "| 2743   | Pimenta-do-reino               |\n",
    "| 2744   | Sisal ou agave (fibra)         |\n",
    "| 2745   | Tangerina                      |\n",
    "| 2746   | Tungue (fruto seco)            |\n",
    "| 2747   | Urucum (semente)               |\n",
    "| 2748   | Uva                            |\n",
    "| 45981  | Açaí                           |\n",
    "| 90001  | Palmito                        |"
   ]
  },
  {
   "cell_type": "code",
   "execution_count": null,
   "metadata": {},
   "outputs": [],
   "source": [
    "# Área destinada à colheita (área utilizada)\n",
    "df_1613 = (\n",
    "    pd.read_json(f'{raiz}/bronze_{fonte}_{dataset_name}_{variavel}.json')\n",
    "        .drop(0, axis = 0)\n",
    "        .filter(['D1C', 'D3C', 'D4C', 'V'])\n",
    "        .assign(**{\n",
    "            'area': lambda df: pd.to_numeric(df['V'], errors='coerce'),\n",
    "            'geocodigo': lambda df: df['D1C'].astype(int),\n",
    "            'data': lambda df: pd.to_datetime(df['D3C'], format='%Y'),\n",
    "            'cultura': lambda df: df['D4C'].astype(int)\n",
    "            })\n",
    "        .drop(['D1C', 'D3C', 'D4C', 'V'], axis='columns')\n",
    "        .dropna(subset='area')\n",
    "        .set_index(['geocodigo', 'data', 'cultura'])\n",
    "    )\n",
    "\n",
    "df_1613.to_parquet(f'{raiz}/prata_{fonte}_{dataset_name}_{variavel}.parquet')"
   ]
  },
  {
   "cell_type": "code",
   "execution_count": null,
   "metadata": {},
   "outputs": [],
   "source": [
    "# Área colhida\n",
    "df_1613ac = (\n",
    "    pd.read_json(f'{raiz}/bronze_{fonte}_{dataset_name}_{variavel}.json')\n",
    "        .drop(0, axis = 0)\n",
    "        .filter(['D1C', 'D3C', 'D4C', 'V'])\n",
    "        .assign(**{\n",
    "            'area': lambda df: pd.to_numeric(df['V'], errors='coerce'),\n",
    "            'geocodigo': lambda df: df['D1C'].astype(int),\n",
    "            'data': lambda df: pd.to_datetime(df['D3C'], format='%Y'),\n",
    "            'cultura': lambda df: df['D4C'].astype(int)\n",
    "            })\n",
    "        .drop(['D1C', 'D3C', 'D4C', 'V'], axis='columns')\n",
    "        .dropna(subset='area')\n",
    "        .set_index(['geocodigo', 'data', 'cultura'])\n",
    ")\n",
    "df_1613ac.to_parquet(f'{raiz}/prata_{fonte}_{dataset_name}_{variavel}.parquet')"
   ]
  },
  {
   "cell_type": "markdown",
   "metadata": {},
   "source": [
    "### Ouro"
   ]
  },
  {
   "cell_type": "code",
   "execution_count": null,
   "metadata": {},
   "outputs": [],
   "source": [
    "dataset_ouro = 'ouro_volume_agricola_lavouras'"
   ]
  },
  {
   "cell_type": "code",
   "execution_count": null,
   "metadata": {},
   "outputs": [],
   "source": [
    "df_1613_final = pd.read_parquet(f'{raiz}/prata_{fonte}_{dataset_name}_{variavel}.parquet')\n",
    "\n",
    "#df_1613_final.to_csv(f'{raiz}/{dataset_ouro}_permanentes.csv')"
   ]
  },
  {
   "cell_type": "code",
   "execution_count": null,
   "metadata": {},
   "outputs": [],
   "source": [
    "# Exportação para uso no indicador de Área Agropecuária\n",
    "(\n",
    "    df_1613_final\n",
    "    .reset_index()\n",
    "    .assign(geocodigo_uf = lambda df: df.geocodigo // 100000)\n",
    "    .groupby(['geocodigo_uf', 'data', 'cultura'])\n",
    "    .agg({'area':'sum'})\n",
    "    .rename_axis(index={'geocodigo_uf': 'geocodigo'})\n",
    ").to_csv(f'{raiz}/{dataset_ouro}_perenes.csv')"
   ]
  },
  {
   "cell_type": "code",
   "execution_count": null,
   "metadata": {},
   "outputs": [],
   "source": [
    "df_1613_consolidado_munic = (df_1613_final.reset_index()\n",
    "                             .groupby(['geocodigo', 'data'])\n",
    "                             .agg({'area':sum})\n",
    "                             )\n",
    "df_1613_consolidado_munic.to_csv(f'{raiz}/{dataset_ouro}_permanentes_munic.csv')"
   ]
  },
  {
   "cell_type": "code",
   "execution_count": null,
   "metadata": {},
   "outputs": [],
   "source": [
    "df_1613_consolidado_uf = (df_1613_final.reset_index()\n",
    "                          .assign(geocodigo_uf = lambda df: df.geocodigo // 100000)\n",
    "                          .groupby(['geocodigo_uf', 'data'])\n",
    "                          .agg({'area':sum})\n",
    "                          .rename_axis(index={'geocodigo_uf': 'geocodigo'})\n",
    "                          )\n",
    "df_1613_consolidado_uf.to_csv(f'{raiz}/{dataset_ouro}_permanentes_uf.csv')"
   ]
  }
 ],
 "metadata": {
  "kernelspec": {
   "display_name": "venv",
   "language": "python",
   "name": "python3"
  },
  "language_info": {
   "codemirror_mode": {
    "name": "ipython",
    "version": 3
   },
   "file_extension": ".py",
   "mimetype": "text/x-python",
   "name": "python",
   "nbconvert_exporter": "python",
   "pygments_lexer": "ipython3",
   "version": "3.12.3"
  }
 },
 "nbformat": 4,
 "nbformat_minor": 2
}
