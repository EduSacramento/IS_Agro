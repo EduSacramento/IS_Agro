{
 "cells": [
  {
   "cell_type": "code",
   "execution_count": 1,
   "metadata": {},
   "outputs": [],
   "source": [
    "# Importação das bibliotecas necessárias\n",
    "import pandas as pd\n",
    "\n",
    "import requests\n",
    "\n",
    "from pendulum import now"
   ]
  },
  {
   "cell_type": "code",
   "execution_count": 2,
   "metadata": {},
   "outputs": [],
   "source": [
    "fonte = 'lapig'\n",
    "dataset_name = 'pastagens_degradacao'\n",
    "raiz = '/home/eduardo/repositorios/IS_Agro/databases'\n",
    "\n",
    "ano_anterior = now().year - 1"
   ]
  },
  {
   "cell_type": "markdown",
   "metadata": {},
   "source": [
    "#### Bronze"
   ]
  },
  {
   "cell_type": "code",
   "execution_count": 3,
   "metadata": {},
   "outputs": [],
   "source": [
    "# Tabelas relativas ao vigor (degradação) das áreas de pastagem no Brasil\n",
    "\n",
    "contador = 1\n",
    "\n",
    "for ano in range(2000, ano_anterior):\n",
    "    url = f'https://s3.lapig.iesa.ufg.br/ows/country/BRASIL/csv/pasture_vigor_col8_s100/brasil_pasture_vigor_col8_s100_year={ano}.csv'\n",
    "    response = requests.get(url)\n",
    "    if response.status_code == 200:\n",
    "        if contador == 1:\n",
    "            df_vpastagem = pd.read_csv(url)\n",
    "            contador += 1\n",
    "        else:\n",
    "            df_vpastagem = pd.concat(\n",
    "                [df_vpastagem,\n",
    "                 (pd.read_csv(url))],\n",
    "                 ignore_index=True            \n",
    "            )\n",
    "            contador += 1\n",
    "    else:\n",
    "        pass\n",
    "\n",
    "df_vpastagem.to_csv(f'{raiz}/bronze_{fonte}_{dataset_name}.csv')\n"
   ]
  },
  {
   "cell_type": "markdown",
   "metadata": {},
   "source": [
    "#### Prata"
   ]
  },
  {
   "cell_type": "code",
   "execution_count": 17,
   "metadata": {},
   "outputs": [],
   "source": [
    "# Área de pastagens a partir do nível de degradação\n",
    "\n",
    "df_munic = (pd.read_csv(f'{raiz}/bronze_{fonte}_{dataset_name}.csv',\n",
    "                        usecols=[2, 7, 11, 13],\n",
    "                        dtype={'ano': int, 'geocod_mun':int, 'classe': str, 'area_past_ha': float})\n",
    "                        .rename(columns={\n",
    "                            'ano': 'data',\n",
    "                            'geocod_mun': 'geocodigo',\n",
    "                            'area_past_ha': 'area'\n",
    "                            })\n",
    "                        .query('area != 0.0') # Exclusão de possíveis registros que possuam valor zerado\n",
    "                        .assign(data = lambda df: pd.to_datetime(df.data, format='%Y')) # Conversão de número inteiro para formato de data seguindo a ISO 8601 \n",
    "                        .sort_values(by=['geocodigo', 'data']) # Organização dos dados\n",
    "                        .set_index(['geocodigo', 'data', 'classe'])\n",
    "            )\n",
    "df_munic.to_parquet(f'{raiz}/prata_{fonte}_{dataset_name}_municipio.parquet')\n",
    "\n",
    "df_uf = (df_munic\n",
    "         .reset_index()\n",
    "         .assign(geocodigo_uf = lambda x: x.geocodigo.astype(str).str[:2].astype(int))\n",
    "         .groupby(['geocodigo_uf', 'data', 'classe'])\n",
    "         .agg({'area':'sum'})\n",
    "         .rename_axis(index={'geocodigo_uf': 'geocodigo'})\n",
    "         .convert_dtypes()\n",
    "        )\n",
    "df_uf.to_parquet(f'{raiz}/prata_{fonte}_{dataset_name}_uf.parquet')"
   ]
  },
  {
   "cell_type": "markdown",
   "metadata": {},
   "source": [
    "### Pastagem"
   ]
  },
  {
   "cell_type": "code",
   "execution_count": 19,
   "metadata": {},
   "outputs": [],
   "source": [
    "dataset_name = 'pastagem'"
   ]
  },
  {
   "cell_type": "markdown",
   "metadata": {},
   "source": [
    "#### Bronze"
   ]
  },
  {
   "cell_type": "code",
   "execution_count": 8,
   "metadata": {},
   "outputs": [],
   "source": [
    "# Tabelas relativas as áreas de pastagem no Brasil\n",
    "\n",
    "contador = 1\n",
    "\n",
    "for ano in range(2000, ano_anterior):\n",
    "    url = f'https://s3.lapig.iesa.ufg.br/ows/country/BRASIL/csv/pasture_col8_s100/brasil_pasture_col8_s100_year={ano}.csv'\n",
    "    response = requests.get(url)\n",
    "    if response.status_code == 200:\n",
    "        if contador == 1:\n",
    "            df_pastagem = pd.read_csv(url)\n",
    "            contador += 1\n",
    "        else:\n",
    "            df_pastagem = pd.concat(\n",
    "                [df_pastagem,\n",
    "                 (pd.read_csv(url))],\n",
    "                 ignore_index=True            \n",
    "            )\n",
    "            contador += 1\n",
    "    else:\n",
    "        pass\n",
    "\n",
    "df_pastagem.to_csv(f'{raiz}/bronze_{fonte}_{dataset_name}.csv')"
   ]
  },
  {
   "cell_type": "markdown",
   "metadata": {},
   "source": [
    "#### Prata"
   ]
  },
  {
   "cell_type": "code",
   "execution_count": 20,
   "metadata": {},
   "outputs": [],
   "source": [
    "# Área de pastagens a partir do nível de degradação\n",
    "\n",
    "df_p_munic = (pd.read_csv(f'{raiz}/bronze_{fonte}_{dataset_name}.csv',\n",
    "                        usecols=[2, 8, 12],\n",
    "                        dtype={'ano': int, 'geocod_mun':int, 'area_past_ha': float})\n",
    "                        .rename(columns={\n",
    "                            'ano': 'data',\n",
    "                            'geocod_mun': 'geocodigo',\n",
    "                            'area_past_ha': 'area'\n",
    "                            })\n",
    "                        .query('area != 0.0') # Exclusão de possíveis registros que possuam valor zerado\n",
    "                        .assign(data = lambda df: pd.to_datetime(df.data, format='%Y')) # Conversão de número inteiro para formato de data seguindo a ISO 8601 \n",
    "                        .sort_values(by=['geocodigo', 'data']) # Organização dos dados\n",
    "                        .set_index(['geocodigo', 'data'])\n",
    "            )\n",
    "df_p_munic.to_parquet(f'{raiz}/prata_{fonte}_{dataset_name}_municipio.parquet')\n",
    "\n",
    "df_p_uf = (df_p_munic\n",
    "         .reset_index()\n",
    "         .assign(geocodigo_uf = lambda x: x.geocodigo.astype(str).str[:2].astype(int))\n",
    "         .groupby(['geocodigo_uf', 'data'])\n",
    "         .agg({'area':'sum'})\n",
    "         .rename_axis(index={'geocodigo_uf': 'geocodigo'})\n",
    "         .convert_dtypes()\n",
    "        )\n",
    "df_p_uf.to_parquet(f'{raiz}/prata_{fonte}_{dataset_name}_uf.parquet')"
   ]
  }
 ],
 "metadata": {
  "kernelspec": {
   "display_name": "venv",
   "language": "python",
   "name": "python3"
  },
  "language_info": {
   "codemirror_mode": {
    "name": "ipython",
    "version": 3
   },
   "file_extension": ".py",
   "mimetype": "text/x-python",
   "name": "python",
   "nbconvert_exporter": "python",
   "pygments_lexer": "ipython3",
   "version": "3.12.3"
  }
 },
 "nbformat": 4,
 "nbformat_minor": 2
}
