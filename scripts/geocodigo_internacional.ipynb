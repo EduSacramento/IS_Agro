{
 "cells": [
  {
   "cell_type": "markdown",
   "metadata": {},
   "source": [
    "ISO 3166 Numérico, Alpha2 e Alpha3\n",
    "https://www.iso.org/obp/ui/#search"
   ]
  },
  {
   "cell_type": "code",
   "execution_count": 32,
   "metadata": {},
   "outputs": [],
   "source": [
    "# Importação de bibliotecas\n",
    "import pandas as pd\n",
    "\n",
    "from deep_translator import GoogleTranslator"
   ]
  },
  {
   "cell_type": "code",
   "execution_count": 2,
   "metadata": {},
   "outputs": [],
   "source": [
    "# Variáveis\n",
    "fonte = 'iso'\n",
    "dataset_name = '3166'\n",
    "\n",
    "raiz = '/home/eduardo/repositorios/IS_Agro/databases'"
   ]
  },
  {
   "cell_type": "code",
   "execution_count": 40,
   "metadata": {},
   "outputs": [],
   "source": [
    "def GTradutor(texto):\n",
    "    traducao = GoogleTranslator(source='auto', target='pt').translate(texto)\n",
    "    \n",
    "    return traducao"
   ]
  },
  {
   "cell_type": "code",
   "execution_count": 60,
   "metadata": {},
   "outputs": [],
   "source": [
    "df_iso3166 = (\n",
    "    pd.read_html('https://en.wikipedia.org/wiki/List_of_ISO_3166_country_codes',\n",
    "                 header=1,\n",
    "                 na_values=pd.NA)[0]\n",
    "    .rename(columns={\n",
    "        'ISO 3166[1] name[5]': 'name',\n",
    "        'A-2 [5]': 'alpha2',\n",
    "        'A-3 [5]': 'alpha3',\n",
    "        'Num. [5]': 'numeric'\n",
    "    })\n",
    "    .query('name != alpha3')\n",
    "    .assign(\n",
    "        name = lambda n: n.name.str.replace(r'\\[.*?\\]|[*]', '', regex=True).str.strip(),\n",
    "        #numeric = lambda x: pd.to_numeric(x.numeric, errors='coerce'),\n",
    "        nome_br = lambda n: n.name.apply(GTradutor)\n",
    "    )\n",
    "    .filter(['numeric', 'name', 'alpha2', 'alpha3', 'nome_br'])\n",
    "    .convert_dtypes()\n",
    "    .reset_index(drop=True)\n",
    ")"
   ]
  }
 ],
 "metadata": {
  "kernelspec": {
   "display_name": "venv",
   "language": "python",
   "name": "python3"
  },
  "language_info": {
   "codemirror_mode": {
    "name": "ipython",
    "version": 3
   },
   "file_extension": ".py",
   "mimetype": "text/x-python",
   "name": "python",
   "nbconvert_exporter": "python",
   "pygments_lexer": "ipython3",
   "version": "3.12.3"
  }
 },
 "nbformat": 4,
 "nbformat_minor": 2
}
