{
 "cells": [
  {
   "cell_type": "code",
   "execution_count": 1,
   "metadata": {},
   "outputs": [],
   "source": [
    "# Importação de bibliotecas\n",
    "import pandas as pd\n",
    "\n",
    "import googledriver as gdriver"
   ]
  },
  {
   "cell_type": "code",
   "execution_count": 2,
   "metadata": {},
   "outputs": [],
   "source": [
    "dataset_name = 'iLPF_SPD'\n",
    "raiz = '/home/eduardo/repositorios/IS_Agro/databases'"
   ]
  },
  {
   "cell_type": "markdown",
   "metadata": {},
   "source": [
    "### Bronze"
   ]
  },
  {
   "cell_type": "code",
   "execution_count": 3,
   "metadata": {},
   "outputs": [
    {
     "data": {
      "text/plain": [
       "'/home/eduardo/repositorios/IS_Agro/databases/bronze_iLPF_SPD.xlsx'"
      ]
     },
     "execution_count": 3,
     "metadata": {},
     "output_type": "execute_result"
    }
   ],
   "source": [
    "id_arquivo = '1EA8tpKJvgyyMYGnK8DtsBDnE1DRtcWBP0ab6dYGTZwM' # ID adquirida na URL\n",
    "url_gdrive = f'https://docs.google.com/spreadsheets/d/{id_arquivo}/export?format=xlsx&t?gid=0#gid=0' # Endereço específico para exportação de dados planilhares\n",
    "\n",
    "saida = f'{raiz}/bronze_{dataset_name}.xlsx'\n",
    "\n",
    "gdriver.download(url_gdrive, saida, None)"
   ]
  },
  {
   "cell_type": "markdown",
   "metadata": {},
   "source": [
    "### Prata"
   ]
  },
  {
   "cell_type": "code",
   "execution_count": 4,
   "metadata": {},
   "outputs": [],
   "source": [
    "# Abas das tabelas na planilha bronze\n",
    "tabelas = pd.ExcelFile(f'{raiz}/bronze_{dataset_name}.xlsx').sheet_names"
   ]
  },
  {
   "cell_type": "code",
   "execution_count": 6,
   "metadata": {},
   "outputs": [],
   "source": [
    "for area in tabelas:\n",
    "        df = (\n",
    "                pd.read_excel(f'{raiz}/bronze_{dataset_name}.xlsx',\n",
    "                            sheet_name=area,\n",
    "                            header=2,\n",
    "                            nrows=27,\n",
    "                            na_values=pd.NA\n",
    "                        )\n",
    "                .drop(columns=['regiao', 'uf'])\n",
    "                .dropna(axis='columns', thresh=10)\n",
    "                .melt(id_vars='geocodigo',\n",
    "                      var_name='data',\n",
    "                      value_name='valor'\n",
    "                      )\n",
    "                .dropna(subset='valor')\n",
    "                .query('valor != 0') # Exclusão de registros que possuam valor zerado\n",
    "                .assign(data = lambda df: pd.to_datetime(df['data'], format='%Y')) # Conversão de número inteiro para formato de data\n",
    "                .sort_values(by=['geocodigo', 'data']) # Organização dos dados\n",
    "                .set_index(['geocodigo', 'data'])\n",
    "        )\n",
    "        df.to_parquet(f'{raiz}/prata_{area}.parquet')"
   ]
  }
 ],
 "metadata": {
  "kernelspec": {
   "display_name": "venv",
   "language": "python",
   "name": "python3"
  },
  "language_info": {
   "codemirror_mode": {
    "name": "ipython",
    "version": 3
   },
   "file_extension": ".py",
   "mimetype": "text/x-python",
   "name": "python",
   "nbconvert_exporter": "python",
   "pygments_lexer": "ipython3",
   "version": "3.10.12"
  }
 },
 "nbformat": 4,
 "nbformat_minor": 2
}
