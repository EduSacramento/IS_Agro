{
 "cells": [
  {
   "cell_type": "code",
   "execution_count": 1,
   "metadata": {},
   "outputs": [],
   "source": [
    "import pandas as pd\n",
    "\n",
    "from pendulum import now"
   ]
  },
  {
   "cell_type": "code",
   "execution_count": 3,
   "metadata": {},
   "outputs": [],
   "source": [
    "origem = 'sidra_'\n",
    "raiz = '/home/eduardo/repositorios/IS_Agro/databases'"
   ]
  },
  {
   "cell_type": "markdown",
   "metadata": {},
   "source": [
    "### Bronze"
   ]
  },
  {
   "cell_type": "markdown",
   "metadata": {},
   "source": [
    "Área colhida (ha)"
   ]
  },
  {
   "cell_type": "code",
   "execution_count": 3,
   "metadata": {},
   "outputs": [
    {
     "name": "stdout",
     "output_type": "stream",
     "text": [
      "Foram contabilizadas 21 repetições de dados de áreas de colheita raspados.\n"
     ]
    }
   ],
   "source": [
    "# Tabela 839 - Área plantada, área colhida, quantidade produzida e rendimento médio de milho, 1ª e 2ª safras\n",
    "\n",
    "codigo = 839\n",
    "dataset_name = f'tabela{codigo}_colheita_milho'\n",
    "\n",
    "contador = 1\n",
    "\n",
    "ultimo_ano = now().year - 1\n",
    "for ano in range(2003, ultimo_ano):\n",
    "    if contador == 1:\n",
    "        df_839 = pd.read_json(f'https://apisidra.ibge.gov.br/values/t/{codigo}/n6/all/v/216/p/{ano}/c81/all')\n",
    "        contador += 1\n",
    "    else:\n",
    "        df_839 = pd.concat(\n",
    "            [df_839,\n",
    "             (pd.read_json(f'https://apisidra.ibge.gov.br/values/t/{codigo}/n6/all/v/216/p/{ano}/c81/all')\n",
    "              .iloc[1:])],\n",
    "            ignore_index=True\n",
    "            )\n",
    "        contador += 1\n",
    "\n",
    "df_839.to_json(f'{raiz}/bronze_{origem}{dataset_name}.json')\n",
    "print(f'Foram contabilizadas {contador} repetições de dados de áreas de colheita raspados.')"
   ]
  },
  {
   "cell_type": "code",
   "execution_count": 4,
   "metadata": {},
   "outputs": [
    {
     "name": "stdout",
     "output_type": "stream",
     "text": [
      "Foram contabilizadas 21 repetições de dados de áreas de colheita raspados.\n"
     ]
    }
   ],
   "source": [
    "# Tabela 1000 - Área plantada, área colhida, quantidade produzida e rendimento médio de amendoim, 1ª e 2ª safras\n",
    "\n",
    "codigo = 1000\n",
    "dataset_name = f'tabela{codigo}_colheita_amendoim'\n",
    "\n",
    "contador = 1\n",
    "\n",
    "ultimo_ano = now().year - 1\n",
    "for ano in range(2003, ultimo_ano):\n",
    "    if contador == 1:\n",
    "        df_1000 = pd.read_json(f'https://apisidra.ibge.gov.br/values/t/{codigo}/n6/all/v/216/p/{ano}/c81/all')\n",
    "        contador += 1\n",
    "    else:\n",
    "        df_1000 = pd.concat(\n",
    "            [df_1000,\n",
    "             (pd.read_json(f'https://apisidra.ibge.gov.br/values/t/{codigo}/n6/all/v/216/p/{ano}/c81/all')\n",
    "              .iloc[1:])],\n",
    "            ignore_index=True\n",
    "            )\n",
    "        contador += 1\n",
    "\n",
    "df_1000.to_json(f'{raiz}/bronze_{origem}{dataset_name}.json')\n",
    "print(f'Foram contabilizadas {contador} repetições de dados de áreas de colheita raspados.')"
   ]
  },
  {
   "cell_type": "code",
   "execution_count": 5,
   "metadata": {},
   "outputs": [
    {
     "name": "stdout",
     "output_type": "stream",
     "text": [
      "Foram contabilizadas 21 repetições de dados de áreas de colheita raspados.\n"
     ]
    }
   ],
   "source": [
    "# Tabela 1001 - Área plantada, área colhida, quantidade produzida e rendimento médio de batata-inglesa, 1ª, 2ª e 3ª safras\n",
    "\n",
    "codigo = 1001\n",
    "dataset_name = f'tabela{codigo}_colheita_batata-inglesa'\n",
    "\n",
    "contador = 1\n",
    "\n",
    "ultimo_ano = now().year - 1\n",
    "for ano in range(2003, ultimo_ano):\n",
    "    if contador == 1:\n",
    "        df_1001 = pd.read_json(f'https://apisidra.ibge.gov.br/values/t/{codigo}/n6/all/v/216/p/{ano}/c81/all')\n",
    "        contador += 1\n",
    "    else:\n",
    "        df_1001 = pd.concat(\n",
    "            [df_1001,\n",
    "             (pd.read_json(f'https://apisidra.ibge.gov.br/values/t/{codigo}/n6/all/v/216/p/{ano}/c81/all')\n",
    "              .iloc[1:])],\n",
    "            ignore_index=True\n",
    "            )\n",
    "        contador += 1\n",
    "\n",
    "df_1001.to_json(f'{raiz}/bronze_{origem}{dataset_name}.json')\n",
    "print(f'Foram contabilizadas {contador} repetições de dados de áreas de colheita raspados.')"
   ]
  },
  {
   "cell_type": "code",
   "execution_count": 6,
   "metadata": {},
   "outputs": [
    {
     "name": "stdout",
     "output_type": "stream",
     "text": [
      "Foram contabilizadas 21 repetições de dados de áreas de colheita raspados.\n"
     ]
    }
   ],
   "source": [
    "# Tabela 1002 - Área plantada, área colhida, quantidade produzida e rendimento médio de feijão, 1ª, 2ª e 3ª safras\n",
    "\n",
    "codigo = 1002\n",
    "dataset_name = f'tabela{codigo}_colheita_feijao'\n",
    "\n",
    "contador = 1\n",
    "\n",
    "ultimo_ano = now().year - 1\n",
    "for ano in range(2003, ultimo_ano):\n",
    "    if contador == 1:\n",
    "        df_1002 = pd.read_json(f'https://apisidra.ibge.gov.br/values/t/{codigo}/n6/all/v/216/p/{ano}/c81/all')\n",
    "        contador += 1\n",
    "    else:\n",
    "        df_1002 = pd.concat(\n",
    "            [df_1002,\n",
    "             (pd.read_json(f'https://apisidra.ibge.gov.br/values/t/{codigo}/n6/all/v/216/p/{ano}/c81/all')\n",
    "              .iloc[1:])],\n",
    "            ignore_index=True\n",
    "            )\n",
    "        contador += 1\n",
    "\n",
    "df_1002.to_json(f'{raiz}/bronze_{origem}{dataset_name}.json')\n",
    "print(f'Foram contabilizadas {contador} repetições de dados de áreas de colheita raspados.')"
   ]
  },
  {
   "cell_type": "markdown",
   "metadata": {},
   "source": [
    "### Prata"
   ]
  },
  {
   "cell_type": "code",
   "execution_count": 29,
   "metadata": {},
   "outputs": [
    {
     "name": "stdout",
     "output_type": "stream",
     "text": [
      "None\n"
     ]
    }
   ],
   "source": [
    "pd.read_json(f'{raiz}/bronze_{origem}{dataset_name}.json')"
   ]
  }
 ],
 "metadata": {
  "kernelspec": {
   "display_name": "base",
   "language": "python",
   "name": "python3"
  },
  "language_info": {
   "codemirror_mode": {
    "name": "ipython",
    "version": 3
   },
   "file_extension": ".py",
   "mimetype": "text/x-python",
   "name": "python",
   "nbconvert_exporter": "python",
   "pygments_lexer": "ipython3",
   "version": "3.10.12"
  }
 },
 "nbformat": 4,
 "nbformat_minor": 2
}
