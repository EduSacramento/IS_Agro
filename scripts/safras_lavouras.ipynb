{
 "cells": [
  {
   "cell_type": "code",
   "execution_count": 2,
   "metadata": {},
   "outputs": [
    {
     "ename": "",
     "evalue": "",
     "output_type": "error",
     "traceback": [
      "\u001b[1;31mO Kernel falhou ao executar o código na célula atual ou em uma célula anterior. Examine o código nas células para identificar uma possível causa da falha. Clique <a href=\"https://aka.ms/vscodeJupyterKernelCrash\">aqui</a> para obter mais informações. Consulte o <a href='command:jupyter.viewOutput'>log</a> do Jupyter para obter mais detalhes."
     ]
    }
   ],
   "source": [
    "import pandas as pd\n",
    "\n",
    "import rpy2.robjects as robj\n",
    "\n",
    "from pendulum import now"
   ]
  },
  {
   "cell_type": "code",
   "execution_count": null,
   "metadata": {},
   "outputs": [],
   "source": [
    "origem = 'sidra_'\n",
    "raiz = '../database'"
   ]
  },
  {
   "cell_type": "markdown",
   "metadata": {},
   "source": [
    "### Bronze"
   ]
  },
  {
   "cell_type": "markdown",
   "metadata": {},
   "source": [
    "Área colhida (ha)"
   ]
  },
  {
   "cell_type": "code",
   "execution_count": null,
   "metadata": {},
   "outputs": [],
   "source": [
    "# Tabela 839 - Área plantada, área colhida, quantidade produzida e rendimento médio de milho, 1ª e 2ª safras\n",
    "\n",
    "codigo = 839\n",
    "dataset_name = f'tabela{codigo}_colheita_milho'\n",
    "\n",
    "contador = 1\n",
    "\n",
    "ultimo_ano = now().year - 1\n",
    "for ano in range(2003, ultimo_ano):\n",
    "    if contador == 1:\n",
    "        df_839 = pd.read_json(f'https://apisidra.ibge.gov.br/values/t/{codigo}/n6/all/v/216/p/{ano}/c81/all')\n",
    "        contador += 1\n",
    "    else:\n",
    "        df_839 = pd.concat(\n",
    "            [df_839,\n",
    "             (pd.read_json(f'https://apisidra.ibge.gov.br/values/t/{codigo}/n6/all/v/216/p/{ano}/c81/all')\n",
    "              .iloc[1:])],\n",
    "            ignore_index=True\n",
    "            )\n",
    "        contador += 1\n",
    "\n",
    "df_839.to_json(f'{raiz}/bronze_{origem}{dataset_name}.json')\n",
    "print(f'Foram contabilizadas {contador} repetições de dados de áreas de colheita raspados.')"
   ]
  },
  {
   "cell_type": "code",
   "execution_count": null,
   "metadata": {},
   "outputs": [],
   "source": [
    "# Tabela 1000 - Área plantada, área colhida, quantidade produzida e rendimento médio de amendoim, 1ª e 2ª safras\n",
    "\n",
    "codigo = 1000\n",
    "dataset_name = f'tabela{codigo}_colheita_amendoim'\n",
    "\n",
    "contador = 1\n",
    "\n",
    "ultimo_ano = now().year - 1\n",
    "for ano in range(2003, ultimo_ano):\n",
    "    if contador == 1:\n",
    "        df_1000 = pd.read_json(f'https://apisidra.ibge.gov.br/values/t/{codigo}/n6/all/v/216/p/{ano}/c81/all')\n",
    "        contador += 1\n",
    "    else:\n",
    "        df_1000 = pd.concat(\n",
    "            [df_1000,\n",
    "             (pd.read_json(f'https://apisidra.ibge.gov.br/values/t/{codigo}/n6/all/v/216/p/{ano}/c81/all')\n",
    "              .iloc[1:])],\n",
    "            ignore_index=True\n",
    "            )\n",
    "        contador += 1\n",
    "\n",
    "df_1000.to_json(f'{raiz}/bronze_{origem}{dataset_name}.json')\n",
    "print(f'Foram contabilizadas {contador} repetições de dados de áreas de colheita raspados.')"
   ]
  },
  {
   "cell_type": "code",
   "execution_count": null,
   "metadata": {},
   "outputs": [],
   "source": [
    "# Tabela 1001 - Área plantada, área colhida, quantidade produzida e rendimento médio de batata-inglesa, 1ª, 2ª e 3ª safras\n",
    "\n",
    "codigo = 1001\n",
    "dataset_name = f'tabela{codigo}_colheita_batata-inglesa'\n",
    "\n",
    "contador = 1\n",
    "\n",
    "ultimo_ano = now().year - 1\n",
    "for ano in range(2003, ultimo_ano):\n",
    "    if contador == 1:\n",
    "        df_1001 = pd.read_json(f'https://apisidra.ibge.gov.br/values/t/{codigo}/n6/all/v/216/p/{ano}/c81/all')\n",
    "        contador += 1\n",
    "    else:\n",
    "        df_1001 = pd.concat(\n",
    "            [df_1001,\n",
    "             (pd.read_json(f'https://apisidra.ibge.gov.br/values/t/{codigo}/n6/all/v/216/p/{ano}/c81/all')\n",
    "              .iloc[1:])],\n",
    "            ignore_index=True\n",
    "            )\n",
    "        contador += 1\n",
    "\n",
    "df_1001.to_json(f'{raiz}/bronze_{origem}{dataset_name}.json')\n",
    "print(f'Foram contabilizadas {contador} repetições de dados de áreas de colheita raspados.')"
   ]
  },
  {
   "cell_type": "code",
   "execution_count": null,
   "metadata": {},
   "outputs": [],
   "source": [
    "# Tabela 1002 - Área plantada, área colhida, quantidade produzida e rendimento médio de feijão, 1ª, 2ª e 3ª safras\n",
    "\n",
    "codigo = 1002\n",
    "dataset_name = f'tabela{codigo}_colheita_feijao'\n",
    "\n",
    "contador = 1\n",
    "\n",
    "ultimo_ano = now().year - 1\n",
    "for ano in range(2003, ultimo_ano):\n",
    "    if contador == 1:\n",
    "        df_1002 = pd.read_json(f'https://apisidra.ibge.gov.br/values/t/{codigo}/n6/all/v/216/p/{ano}/c81/all')\n",
    "        contador += 1\n",
    "    else:\n",
    "        df_1002 = pd.concat(\n",
    "            [df_1002,\n",
    "             (pd.read_json(f'https://apisidra.ibge.gov.br/values/t/{codigo}/n6/all/v/216/p/{ano}/c81/all')\n",
    "              .iloc[1:])],\n",
    "            ignore_index=True\n",
    "            )\n",
    "        contador += 1\n",
    "\n",
    "df_1002.to_json(f'{raiz}/bronze_{origem}{dataset_name}.json')\n",
    "print(f'Foram contabilizadas {contador} repetições de dados de áreas de colheita raspados.')"
   ]
  },
  {
   "cell_type": "code",
   "execution_count": null,
   "metadata": {},
   "outputs": [],
   "source": [
    "t839 = pd.read_json(f'{raiz}/bronze_{origem}{dataset_name}.json')\n",
    "\n",
    "rcode_839 = \"\"\"\n",
    "t839=t839[t839$Ano!=\"\",]\n",
    "# IBGE CONVENTION \"Zero not resulting from rounding\"\n",
    "t839[t839=='-']=0\n",
    "# IBGE CONVENTION \"NA\"\n",
    "t839[t839=='...']=0\n",
    "#transforma colunas para formato numérico\n",
    "t839[-(1:2)]=sapply(t839[-(1:2)],as.numeric)\n",
    "#calculo da fração de primeira safra (FPS ajustada)\n",
    "t839$FPS=ifelse(t839$Total==0,1,t839$`Milho (em grão) - 1ª safra`/t839$Total)\n",
    "t839$FPS_ibge=t839$FPS\n",
    "#ajuste fração milho\n",
    "t839$FPS[substr(t839$Cód.,1,2)%in%c(14,16,21:29)&t839$`Milho (em grão) - 1ª safra`==0]=1\n",
    "rownames(t839)=paste(t839$Cód.,t839$Ano,sep='.')\n",
    "\"\"\"\n",
    "\n",
    "robj.r(rcode_839)\n",
    "\n",
    "t839"
   ]
  }
 ],
 "metadata": {
  "kernelspec": {
   "display_name": "base",
   "language": "python",
   "name": "python3"
  },
  "language_info": {
   "codemirror_mode": {
    "name": "ipython",
    "version": 3
   },
   "file_extension": ".py",
   "mimetype": "text/x-python",
   "name": "python",
   "nbconvert_exporter": "python",
   "pygments_lexer": "ipython3",
   "version": "3.11.4"
  }
 },
 "nbformat": 4,
 "nbformat_minor": 2
}
