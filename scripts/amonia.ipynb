{
 "cells": [
  {
   "cell_type": "code",
   "execution_count": 1,
   "metadata": {},
   "outputs": [],
   "source": [
    "import pandas as pd"
   ]
  },
  {
   "cell_type": "code",
   "execution_count": null,
   "metadata": {},
   "outputs": [],
   "source": [
    "dataset_name = 'amonia'\n",
    "raiz = '../repositorio'"
   ]
  },
  {
   "cell_type": "markdown",
   "metadata": {},
   "source": [
    "### Prata"
   ]
  },
  {
   "cell_type": "code",
   "execution_count": 71,
   "metadata": {},
   "outputs": [],
   "source": [
    "# Abas das tabelas na planilha \"Emissões de amonia.xlsx\"\n",
    "tabelas = pd.ExcelFile(f'{raiz}/Emissões de amonia.xlsx').sheet_names\n",
    "\n",
    "anos = (pd.read_excel(f'{raiz}/Emissões de amonia.xlsx',\n",
    "                sheet_name='NH3 Fertilizante', # Tabela dentro do arquivo de planilha\n",
    "                header=2, # Linha do cabeçalho da tabela\n",
    "                nrows=0, # Ignorar todas as linhas, utilizando apenas o cabeçalho\n",
    "                usecols=lambda x: isinstance(x, int) # Função para listar apenas colunas numéricas \n",
    "                )\n",
    "        .columns\n",
    "        .tolist()\n",
    "        )"
   ]
  },
  {
   "cell_type": "code",
   "execution_count": 117,
   "metadata": {},
   "outputs": [],
   "source": [
    "df = [pd.concat([pd.DataFrame(), # Dataframe vazio como base para ser concatenado\n",
    "                 (pd.read_excel(f'{raiz}/Emissões de amonia.xlsx', # Arquivo com resultados definitivos\n",
    "                sheet_name=NH3,\n",
    "                header=2,\n",
    "                skiprows=lambda linha: linha in [3, 31, 32] # Linhas da tabela a serem ignoradas, se sobrepondo ao header\n",
    "                )\n",
    "                .merge(pd.read_parquet(f'{raiz}/prata_geocodigo_ibge.parquet') # Banco de dados com geocódigos\n",
    "                        .filter(['UF-id', 'UF-nome'])\n",
    "                        .drop_duplicates(), # Exclusão de duplicatas (geradas por ser um BD com municípios)\n",
    "                        how='left',\n",
    "                        left_on='Estado',\n",
    "                        right_on='UF-nome'\n",
    "                            )\n",
    "                # Derretimento da tabela, verticalizando-a\n",
    "                .melt(\n",
    "                    id_vars='UF-id', # Coluna a ser mantida\n",
    "                    value_vars=anos, # Colunas a serem transformadas em linhas a partir da lista criada anteriormente\n",
    "                    var_name='ano', # Nome da nova coluna com os dados transformados em linhas\n",
    "                    value_name='gas_ton' # Nome da nova coluna com os valores das antigas colunas\n",
    "                            )\n",
    "                #.query('gas_ton != 0.0') # Exclusão de registros que possuam valor zerado\n",
    "                .rename(columns={'UF-id':'uf'})\n",
    "                .assign(**{\n",
    "                    'tipo': NH3[4:].capitalize(), # Criação de nova coluna com os títulos das tabelas cortando 'NH3' \n",
    "                    'fonte': 'NH3 volatizado' # Criação de nova coluna da categoria enquadrada\n",
    "                        })\n",
    "                .convert_dtypes()\n",
    "                .sort_values(by=['uf', 'ano']) # Organização dos dados\n",
    "                .set_index(['uf', 'ano', 'tipo'])\n",
    "                )\n",
    "    ]) for NH3 in tabelas]\n",
    "# Resultado gerado a partir da compreensão de lista (list compreenshion)"
   ]
  },
  {
   "cell_type": "markdown",
   "metadata": {},
   "source": [
    "### Ouro"
   ]
  },
  {
   "cell_type": "code",
   "execution_count": 123,
   "metadata": {},
   "outputs": [
    {
     "name": "stderr",
     "output_type": "stream",
     "text": [
      "/tmp/ipykernel_619/1939853408.py:2: FutureWarning: The frame.append method is deprecated and will be removed from pandas in a future version. Use pandas.concat instead.\n",
      "  .append(df)\n"
     ]
    }
   ],
   "source": [
    "(pd.DataFrame()\n",
    " .append(df) # Transformação de todas as listas em um dataframe ao fundir com um vazio\n",
    ")"
   ]
  }
 ],
 "metadata": {
  "kernelspec": {
   "display_name": "venv",
   "language": "python",
   "name": "python3"
  },
  "language_info": {
   "codemirror_mode": {
    "name": "ipython",
    "version": 3
   },
   "file_extension": ".py",
   "mimetype": "text/x-python",
   "name": "python",
   "nbconvert_exporter": "python",
   "pygments_lexer": "ipython3",
   "version": "3.10.6"
  },
  "orig_nbformat": 4
 },
 "nbformat": 4,
 "nbformat_minor": 2
}
