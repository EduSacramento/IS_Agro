{
 "cells": [
  {
   "cell_type": "code",
   "execution_count": null,
   "metadata": {},
   "outputs": [],
   "source": [
    "# Importação de bibliotecas\n",
    "import pandas as pd\n",
    "import numpy as np"
   ]
  },
  {
   "cell_type": "code",
   "execution_count": null,
   "metadata": {},
   "outputs": [],
   "source": [
    "# Variáveis utilizadas\n",
    "dataset_name = 'risco_erosao_pastagem'\n",
    "\n",
    "raiz = '/home/eduardo/repositorios/IS_Agro/databases'"
   ]
  },
  {
   "cell_type": "code",
   "execution_count": null,
   "metadata": {},
   "outputs": [],
   "source": [
    "# Tabelas necessárias para o desenvolvimento\n",
    "df_ilpf = pd.read_parquet(f'{raiz}/prata_iLPF.parquet').reset_index()\n",
    "df_pastagem = pd.read_parquet(f'{raiz}/ouro_is_agro_area_agropecuaria_pastagem.parquet')\n",
    "df_vpastagem = pd.read_parquet(f'{raiz}/prata_lapig_pastagens_degradacao_uf.parquet').reset_index()\n",
    "df_lapig = pd.read_parquet(f'{raiz}/prata_lapig_pastagem_uf.parquet').reset_index()\n"
   ]
  },
  {
   "cell_type": "markdown",
   "metadata": {},
   "source": [
    "### Ouro"
   ]
  },
  {
   "cell_type": "code",
   "execution_count": null,
   "metadata": {},
   "outputs": [],
   "source": [
    "df_novo = (\n",
    "    df_pastagem\n",
    "    .filter(['geocodigo', 'data'])\n",
    "    .assign(**{\n",
    "        'Não degradada': '',\n",
    "        '40% severa': '',\n",
    "        '60% severa': ''\n",
    "    })\n",
    "    .melt(\n",
    "        id_vars=['geocodigo', 'data'],\n",
    "        var_name='classe'\n",
    "    )\n",
    "    .drop(columns='value')\n",
    ")"
   ]
  },
  {
   "cell_type": "code",
   "execution_count": null,
   "metadata": {},
   "outputs": [],
   "source": [
    "df_deg_pastagem = (\n",
    "    pd.concat([\n",
    "        df_novo,\n",
    "        df_vpastagem\n",
    "    ])\n",
    "    .merge(\n",
    "        df_pastagem,\n",
    "        how='right',\n",
    "        on=['geocodigo', 'data']\n",
    "    )\n",
    "    .merge(\n",
    "        df_lapig,\n",
    "        how='left',\n",
    "        on=['geocodigo', 'data'],\n",
    "        suffixes=['_vigor', '_total_lapig']\n",
    "    )\n",
    "    .merge(\n",
    "        df_ilpf,\n",
    "        how='left',\n",
    "        on=['geocodigo', 'data'],\n",
    "        suffixes=['_isagro', '_ilpf']\n",
    "    )\n",
    "    .assign(\n",
    "        valor_ilpf = lambda n: n.valor_ilpf.fillna(0), # Substituição de valor nulo por zero para futuro uso nos cálculos\n",
    "        area_vigor=lambda df: df.groupby(['geocodigo', 'data'], group_keys=False).apply( # Agrupamento como index das duas colunas, com exclusão das mesmas na sequência da programação \n",
    "            lambda gp: gp.assign(\n",
    "                area_vigor=np.where(\n",
    "                    gp['classe'].isin(['40% severa', '60% severa']), # Verificação em classe se é \"40% severa\" ou \"60% severa\"\n",
    "                    gp.loc[gp['classe'] == 'Severa', 'area_vigor'].values[0] if not gp.loc[gp['classe'] == 'Severa', 'area_vigor'].empty else np.nan, # Extração do valor de area_vigor onde classe é \"Severa\", caso não, imputar valor nulo\n",
    "                    gp['area_vigor']\n",
    "                )\n",
    "            )\n",
    "        )['area_vigor'],\n",
    "        valor = lambda n: np.where(n.classe == 'Não degradada', n.valor_ilpf,\n",
    "                                   np.where(n.classe == 'Ausente', n.area_vigor,\n",
    "                                            np.where(n.classe == 'Intermediário', n.area_vigor - (n.valor_ilpf/3),\n",
    "                                                     np.where(n.classe == '40% severa', ((0.4 * n.area_vigor) - n.valor_ilpf/3),\n",
    "                                                              np.where(n.classe == '60% severa', ((0.6 * n.area_vigor) - n.valor_ilpf/3),\n",
    "                                                                       pd.NA)                                                                                                              \n",
    "                                                            )\n",
    "                                                    )                                       \n",
    "                                        )\n",
    "                                )                                                 \n",
    "    )\n",
    "    .convert_dtypes()\n",
    "    .query('classe != \"Severa\"')\n",
    "    .drop(columns=['area_vigor', 'valor_isagro', 'area_total_lapig', 'valor_ilpf'])\n",
    "    .assign(valor = lambda ha: round(ha.valor/10000, 2))\n",
    "    .replace({\n",
    "        'Não degradada': 'Pastagem Não Degradada',\n",
    "        'Ausente': 'Pastagem com Degradação Leve',\n",
    "        'Intermediário': 'Pastagem com Degradação Leve/Moderada',\n",
    "        '40% severa': 'Pastagem com Degradação Moderada',\n",
    "        '60% severa': 'Pastagem com Degradação Severa'\n",
    "    })\n",
    "    .assign(\n",
    "        risco_erosivo = lambda df: np.where(df.classe == 'Pastagem Não Degradada', 4.5,\n",
    "                                        np.where(df.classe == 'Pastagem com Degradação Leve', 4.5,\n",
    "                                                 np.where(df.classe == 'Pastagem com Degradação Leve/Moderada', 22.4,\n",
    "                                                          np.where(df.classe == 'Pastagem com Degradação Moderada', 30.0,\n",
    "                                                                   np.where(df.classe == 'Pastagem com Degradação Severa', 35.0,\n",
    "                                                                            pd.NA)))))\n",
    "    )\n",
    ")"
   ]
  },
  {
   "cell_type": "code",
   "execution_count": null,
   "metadata": {},
   "outputs": [],
   "source": [
    "df_ouro = (\n",
    "    df_deg_pastagem\n",
    "    .rename(columns={\n",
    "        'geocodigo': 'state',\n",
    "        'valor': 'value',\n",
    "        'data': 'date',\n",
    "        'classe': 'label',\n",
    "        'risco_erosivo': 'sub_label'\n",
    "        })\n",
    "    .assign(country = 76)\n",
    "    .filter(['country', 'state', 'date', 'label', 'sub_label', 'value'])\n",
    ")\n",
    "\n",
    "df_ouro.to_csv(f'{raiz}/ouro_{dataset_name}.csv', index=False)"
   ]
  }
 ],
 "metadata": {
  "kernelspec": {
   "display_name": "venv",
   "language": "python",
   "name": "python3"
  },
  "language_info": {
   "codemirror_mode": {
    "name": "ipython",
    "version": 3
   },
   "file_extension": ".py",
   "mimetype": "text/x-python",
   "name": "python",
   "nbconvert_exporter": "python",
   "pygments_lexer": "ipython3",
   "version": "3.12.3"
  }
 },
 "nbformat": 4,
 "nbformat_minor": 2
}
