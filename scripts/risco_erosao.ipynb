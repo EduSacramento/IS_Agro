{
 "cells": [
  {
   "cell_type": "code",
   "execution_count": 46,
   "metadata": {},
   "outputs": [],
   "source": [
    "# Importação de bibliotecas\n",
    "import pandas as pd\n",
    "import numpy as np"
   ]
  },
  {
   "cell_type": "code",
   "execution_count": 47,
   "metadata": {},
   "outputs": [],
   "source": [
    "# Variáveis utilizadas\n",
    "dataset_name = 'risco_erosao'\n",
    "\n",
    "raiz = '/home/eduardo/repositorios/IS_Agro/databases'"
   ]
  },
  {
   "cell_type": "code",
   "execution_count": 48,
   "metadata": {},
   "outputs": [],
   "source": [
    "# Tabelas necessárias para o desenvolvimento\n",
    "df_risco_pastagem = pd.read_csv(f'{raiz}/ouro_{dataset_name}_pastagem.csv').convert_dtypes()\n",
    "df_risco_lav_perm = pd.read_csv(f'{raiz}/ouro_{dataset_name}_lavouras_perenes.csv').convert_dtypes()\n",
    "df_risco_lav_temp = pd.read_csv(f'{raiz}/ouro_{dataset_name}_lavouras_temporarias.csv').convert_dtypes()"
   ]
  },
  {
   "cell_type": "code",
   "execution_count": 49,
   "metadata": {},
   "outputs": [],
   "source": [
    "df_risco_erosao = (\n",
    "    pd.concat([\n",
    "        pd.read_csv(f'{raiz}/ouro_{dataset_name}_pastagem.csv').convert_dtypes(),\n",
    "        pd.read_csv(f'{raiz}/ouro_{dataset_name}_lavouras_perenes.csv').convert_dtypes(),\n",
    "        pd.read_csv(f'{raiz}/ouro_{dataset_name}_lavouras_temporarias.csv').convert_dtypes()\n",
    "    ])\n",
    "    .assign(\n",
    "        level = lambda df: np.where(df.sub_label < 6, 'Tolerável Erosão',\n",
    "                                    np.where((df.sub_label >= 6) & (df.sub_label < 11), 'Baixa Erosão',\n",
    "                                             np.where((df.sub_label >= 11) & (df.sub_label < 22), 'Moderada Erosão',\n",
    "                                                      np.where((df.sub_label >= 22) & (df.sub_label < 33), 'Alta Erosão',\n",
    "                                                               np.where(df.sub_label >= 33, 'Severa Erosão',\n",
    "                                                                        pd.NA)))))\n",
    "    )\n",
    "    .groupby(['country', 'state', 'date', 'level'])\n",
    "    .agg({'value':'sum'})\n",
    "    .convert_dtypes()\n",
    "    .reset_index()\n",
    "    .rename(columns={'level': 'label'})\n",
    ")"
   ]
  },
  {
   "cell_type": "code",
   "execution_count": 50,
   "metadata": {},
   "outputs": [],
   "source": [
    "df_risco_erosao.to_csv(f'{raiz}/ouro_{dataset_name}.csv', index=False)"
   ]
  }
 ],
 "metadata": {
  "kernelspec": {
   "display_name": "venv",
   "language": "python",
   "name": "python3"
  },
  "language_info": {
   "codemirror_mode": {
    "name": "ipython",
    "version": 3
   },
   "file_extension": ".py",
   "mimetype": "text/x-python",
   "name": "python",
   "nbconvert_exporter": "python",
   "pygments_lexer": "ipython3",
   "version": "3.12.3"
  }
 },
 "nbformat": 4,
 "nbformat_minor": 2
}
