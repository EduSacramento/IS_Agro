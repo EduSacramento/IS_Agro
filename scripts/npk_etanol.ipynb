{
 "cells": [
  {
   "cell_type": "code",
   "execution_count": 1,
   "metadata": {},
   "outputs": [],
   "source": [
    "import pandas as pd\n",
    "from slugify import slugify\n",
    "\n",
    "from pendulum import now"
   ]
  },
  {
   "cell_type": "code",
   "execution_count": 2,
   "metadata": {},
   "outputs": [],
   "source": [
    "dataset_name = 'obscana_etanol'\n",
    "raiz = '../database'"
   ]
  },
  {
   "attachments": {},
   "cell_type": "markdown",
   "metadata": {},
   "source": [
    "### Bronze"
   ]
  },
  {
   "cell_type": "code",
   "execution_count": 3,
   "metadata": {},
   "outputs": [],
   "source": [
    "ano_inicio = now().year - 2\n",
    "ano_fim = now().year - 1\n",
    "\n",
    "url = f'https://observatoriodacana.com.br/historico-de-producao-e-moagem.php?idMn=31&tipoHistorico=2&acao=visualizar&idTabela=2492&produto=etanol_total&safraIni=1999%2F2000&safraFim={ano_inicio}%2F{ano_fim}&estado=RS%2CSC%2CPR%2CSP%2CRJ%2CMG%2CES%2CMS%2CMT%2CGO%2CDF%2CBA%2CSE%2CAL%2CPE%2CPB%2CRN%2CCE%2CPI%2CMA%2CTO%2CPA%2CAP%2CRO%2CAM%2CAC%2CRR'\n",
    "\n",
    "(pd.read_html(f'{url}', thousands = \".\", decimal = \",\")[0]\n",
    " .to_html(f'{raiz}/bronze_{dataset_name}.html', index=False)\n",
    " )"
   ]
  },
  {
   "attachments": {},
   "cell_type": "markdown",
   "metadata": {},
   "source": [
    "### Prata"
   ]
  },
  {
   "cell_type": "code",
   "execution_count": 4,
   "metadata": {},
   "outputs": [],
   "source": [
    "anos = (pd.read_html(f'{raiz}/bronze_{dataset_name}.html', encoding='utf-8')[0]\n",
    " .set_index('Estado')\n",
    " .rename(columns=lambda col: slugify(col[-4:]))\n",
    " .columns\n",
    " .tolist()\n",
    "        )"
   ]
  },
  {
   "cell_type": "code",
   "execution_count": 5,
   "metadata": {},
   "outputs": [],
   "source": [
    "(pd.read_html(f'{raiz}/bronze_{dataset_name}.html',\n",
    "                   encoding='utf-8',\n",
    "                   na_values=0\n",
    "                   )[0]\n",
    "      .query('not Estado.str.contains(\"Região.*|Brasil\", case=False)')    \n",
    "      .rename(columns=lambda col: col if col == 'Estado' else slugify(col[-4:]))\n",
    "      .merge(pd.read_parquet(f'{raiz}/prata_geocodigo_ibge.parquet')\n",
    "              .filter(['UF-id', 'UF-nome'])\n",
    "              .drop_duplicates(),\n",
    "              how='left',\n",
    "              left_on='Estado',\n",
    "              right_on='UF-nome'\n",
    "              )\n",
    "      .melt(id_vars='UF-id',\n",
    "            value_vars=anos,\n",
    "            var_name='ano',\n",
    "            value_name='safra_m3')\n",
    "      .assign(**{\n",
    "            'fonte': 'Fertilizante orgânico vinhaça',\n",
    "            'ano': lambda df: df['ano'].astype(int)\n",
    "            })\n",
    "      .dropna(subset='safra_m3')\n",
    "      .convert_dtypes()\n",
    "      .rename(columns={'UF-id':'uf'})\n",
    "      .sort_values(by=['uf', 'ano'])\n",
    "      .set_index(['uf', 'ano', 'fonte'])\n",
    "      .to_parquet(f'{raiz}/prata_{dataset_name}.parquet')\n",
    "      )"
   ]
  },
  {
   "attachments": {},
   "cell_type": "markdown",
   "metadata": {},
   "source": [
    "### Ouro"
   ]
  },
  {
   "attachments": {},
   "cell_type": "markdown",
   "metadata": {},
   "source": [
    "Produção de Etanol ao todo por Estado (1000 m³)\n",
    "\n",
    "Parâmetros\n",
    "Teor (kg N/m³)\n",
    "\n",
    "Cálculo: ((produção estadual * producao)*(parametro_X))*(1000/1000)\n",
    "\n",
    "Brasil = mil t\n",
    "\n",
    "NPK na forma do fertilizante orgânico vinhaça incorporado ao solo (t)"
   ]
  },
  {
   "cell_type": "code",
   "execution_count": 6,
   "metadata": {},
   "outputs": [],
   "source": [
    "producao = 11.5\n",
    "\n",
    "parametro_N = 0.433\n",
    "parametro_P = 0.034\n",
    "parametro_K = 2.206"
   ]
  },
  {
   "cell_type": "code",
   "execution_count": 7,
   "metadata": {},
   "outputs": [],
   "source": [
    "df = (pd.read_parquet(f'{raiz}/prata_{dataset_name}.parquet')\n",
    "      .assign(**{\n",
    "          'N': lambda df: ((df['safra_m3']*producao)*parametro_N)*(1000/1000),\n",
    "          'P': lambda df: ((df['safra_m3']*producao)*parametro_P)*(1000/1000),\n",
    "          'K': lambda df: ((df['safra_m3']*producao)*parametro_K)*(1000/1000)\n",
    "          })\n",
    "      .reset_index()\n",
    "      .melt(id_vars=['uf', 'ano', 'fonte'],\n",
    "            value_vars=['N', 'P', 'K'],\n",
    "            var_name='elemento',\n",
    "            value_name='valor')\n",
    "      .convert_dtypes()\n",
    "      .set_index(['uf', 'ano', 'fonte'])\n",
    ")\n",
    "\n",
    "df.to_csv(f'{raiz}/ouro_{dataset_name}.csv')"
   ]
  },
  {
   "cell_type": "code",
   "execution_count": 8,
   "metadata": {},
   "outputs": [
    {
     "data": {
      "text/html": [
       "<div>\n",
       "<style scoped>\n",
       "    .dataframe tbody tr th:only-of-type {\n",
       "        vertical-align: middle;\n",
       "    }\n",
       "\n",
       "    .dataframe tbody tr th {\n",
       "        vertical-align: top;\n",
       "    }\n",
       "\n",
       "    .dataframe thead th {\n",
       "        text-align: right;\n",
       "    }\n",
       "</style>\n",
       "<table border=\"1\" class=\"dataframe\">\n",
       "  <thead>\n",
       "    <tr style=\"text-align: right;\">\n",
       "      <th></th>\n",
       "      <th></th>\n",
       "      <th></th>\n",
       "      <th>elemento</th>\n",
       "      <th>valor</th>\n",
       "    </tr>\n",
       "    <tr>\n",
       "      <th>uf</th>\n",
       "      <th>ano</th>\n",
       "      <th>fonte</th>\n",
       "      <th></th>\n",
       "      <th></th>\n",
       "    </tr>\n",
       "  </thead>\n",
       "  <tbody>\n",
       "    <tr>\n",
       "      <th rowspan=\"5\" valign=\"top\">11</th>\n",
       "      <th>2009</th>\n",
       "      <th>Fertilizante orgânico vinhaça</th>\n",
       "      <td>N</td>\n",
       "      <td>34.8565</td>\n",
       "    </tr>\n",
       "    <tr>\n",
       "      <th>2010</th>\n",
       "      <th>Fertilizante orgânico vinhaça</th>\n",
       "      <td>N</td>\n",
       "      <td>44.8155</td>\n",
       "    </tr>\n",
       "    <tr>\n",
       "      <th>2011</th>\n",
       "      <th>Fertilizante orgânico vinhaça</th>\n",
       "      <td>N</td>\n",
       "      <td>54.7745</td>\n",
       "    </tr>\n",
       "    <tr>\n",
       "      <th>2012</th>\n",
       "      <th>Fertilizante orgânico vinhaça</th>\n",
       "      <td>N</td>\n",
       "      <td>59.754</td>\n",
       "    </tr>\n",
       "    <tr>\n",
       "      <th>2013</th>\n",
       "      <th>Fertilizante orgânico vinhaça</th>\n",
       "      <td>N</td>\n",
       "      <td>44.8155</td>\n",
       "    </tr>\n",
       "    <tr>\n",
       "      <th>...</th>\n",
       "      <th>...</th>\n",
       "      <th>...</th>\n",
       "      <td>...</td>\n",
       "      <td>...</td>\n",
       "    </tr>\n",
       "    <tr>\n",
       "      <th rowspan=\"5\" valign=\"top\">52</th>\n",
       "      <th>2017</th>\n",
       "      <th>Fertilizante orgânico vinhaça</th>\n",
       "      <td>K</td>\n",
       "      <td>111217.696</td>\n",
       "    </tr>\n",
       "    <tr>\n",
       "      <th>2018</th>\n",
       "      <th>Fertilizante orgânico vinhaça</th>\n",
       "      <td>K</td>\n",
       "      <td>117154.042</td>\n",
       "    </tr>\n",
       "    <tr>\n",
       "      <th>2019</th>\n",
       "      <th>Fertilizante orgânico vinhaça</th>\n",
       "      <td>K</td>\n",
       "      <td>124105.148</td>\n",
       "    </tr>\n",
       "    <tr>\n",
       "      <th>2020</th>\n",
       "      <th>Fertilizante orgânico vinhaça</th>\n",
       "      <td>K</td>\n",
       "      <td>140366.677</td>\n",
       "    </tr>\n",
       "    <tr>\n",
       "      <th>2021</th>\n",
       "      <th>Fertilizante orgânico vinhaça</th>\n",
       "      <td>K</td>\n",
       "      <td>132958.929</td>\n",
       "    </tr>\n",
       "  </tbody>\n",
       "</table>\n",
       "<p>1389 rows × 2 columns</p>\n",
       "</div>"
      ],
      "text/plain": [
       "                                      elemento       valor\n",
       "uf ano  fonte                                             \n",
       "11 2009 Fertilizante orgânico vinhaça        N     34.8565\n",
       "   2010 Fertilizante orgânico vinhaça        N     44.8155\n",
       "   2011 Fertilizante orgânico vinhaça        N     54.7745\n",
       "   2012 Fertilizante orgânico vinhaça        N      59.754\n",
       "   2013 Fertilizante orgânico vinhaça        N     44.8155\n",
       "...                                        ...         ...\n",
       "52 2017 Fertilizante orgânico vinhaça        K  111217.696\n",
       "   2018 Fertilizante orgânico vinhaça        K  117154.042\n",
       "   2019 Fertilizante orgânico vinhaça        K  124105.148\n",
       "   2020 Fertilizante orgânico vinhaça        K  140366.677\n",
       "   2021 Fertilizante orgânico vinhaça        K  132958.929\n",
       "\n",
       "[1389 rows x 2 columns]"
      ]
     },
     "execution_count": 8,
     "metadata": {},
     "output_type": "execute_result"
    }
   ],
   "source": [
    "df"
   ]
  }
 ],
 "metadata": {
  "kernelspec": {
   "display_name": "venv",
   "language": "python",
   "name": "python3"
  },
  "language_info": {
   "codemirror_mode": {
    "name": "ipython",
    "version": 3
   },
   "file_extension": ".py",
   "mimetype": "text/x-python",
   "name": "python",
   "nbconvert_exporter": "python",
   "pygments_lexer": "ipython3",
   "version": "3.11.4"
  },
  "orig_nbformat": 4
 },
 "nbformat": 4,
 "nbformat_minor": 2
}
