{
 "cells": [
  {
   "cell_type": "code",
   "execution_count": 1,
   "metadata": {},
   "outputs": [],
   "source": [
    "# Importação de bibliotecas\n",
    "import pandas as pd\n",
    "\n",
    "import googledriver as gdriver"
   ]
  },
  {
   "cell_type": "code",
   "execution_count": 2,
   "metadata": {},
   "outputs": [],
   "source": [
    "# Objetos\n",
    "fonte = 'anda'\n",
    "dataset_name = 'fertilizantes_sinteticos'\n",
    "raiz = '/home/eduardo/repositorios/IS_Agro/databases'"
   ]
  },
  {
   "cell_type": "markdown",
   "metadata": {},
   "source": [
    "### Bronze"
   ]
  },
  {
   "cell_type": "code",
   "execution_count": 56,
   "metadata": {},
   "outputs": [
    {
     "data": {
      "text/plain": [
       "'/home/eduardo/repositorios/IS_Agro/databases/bronze_anda_fertilizantes_sinteticos.xlsx'"
      ]
     },
     "execution_count": 56,
     "metadata": {},
     "output_type": "execute_result"
    }
   ],
   "source": [
    "id_arquivo = '1dwglTy1GCPjTEZW1z7-Hb5_DQIwGmdHzOVBMw0FEIsg' # ID adquirida na URL\n",
    "url_gdrive = f'https://docs.google.com/spreadsheets/d/{id_arquivo}/export?format=xlsx&t?gid=0#gid=0' # Endereço específico para exportação de dados planilhares\n",
    "\n",
    "saida = f'{raiz}/bronze_{fonte}_{dataset_name}.xlsx'\n",
    "\n",
    "gdriver.download(url_gdrive, saida, None)"
   ]
  },
  {
   "attachments": {},
   "cell_type": "markdown",
   "metadata": {},
   "source": [
    "### Prata"
   ]
  },
  {
   "cell_type": "markdown",
   "metadata": {},
   "source": [
    "NPK na forma de fertilizante sintético incorporado ao solo (t)"
   ]
  },
  {
   "cell_type": "code",
   "execution_count": 5,
   "metadata": {},
   "outputs": [],
   "source": [
    "# Criação de dataframe vazio para uso posterior\n",
    "df_prata = pd.DataFrame()\n",
    "\n",
    "# Abas das tabelas na planilha bronze\n",
    "tabelas = pd.ExcelFile(f'{raiz}/bronze_{fonte}_{dataset_name}.xlsx').sheet_names"
   ]
  },
  {
   "cell_type": "code",
   "execution_count": 6,
   "metadata": {},
   "outputs": [],
   "source": [
    "for fertilizante in tabelas:\n",
    "        df = (pd.read_excel(f'{raiz}/bronze_{fonte}_{dataset_name}.xlsx',\n",
    "                            sheet_name=fertilizante,\n",
    "                            header=2,\n",
    "                            nrows=28,\n",
    "                            na_values=pd.NA\n",
    "                        )\n",
    "                .query('uf != \"Brasil\"')\n",
    "                .drop(columns='uf')\n",
    "                .dropna(axis='columns', thresh=10)\n",
    "                .melt(id_vars='geocodigo',\n",
    "                      var_name='data',\n",
    "                      value_name='valor'\n",
    "                      )\n",
    "                .dropna(subset='valor')\n",
    "                .query('valor != 0') # Exclusão de registros que possuam valor zerado\n",
    "                .assign(**{\n",
    "                        'data': lambda df: pd.to_datetime(df['data'], format='%Y'), # Conversão de número inteiro para formato de data\n",
    "                        'elemento': f'{fertilizante}', # Criação de nova coluna de informação do que representa o dado\n",
    "                        'fonte': 'Fertilizantes Sintéticos'\n",
    "                        })\n",
    "                )\n",
    "        df_prata = (pd.concat([df_prata, df],\n",
    "                         ignore_index=True)\n",
    "                )\n",
    "\n",
    "df_prata = (df_prata.convert_dtypes()\n",
    "            .sort_values(by=['geocodigo', 'data']) # Organização dos dados\n",
    "            .set_index(['geocodigo', 'data', 'fonte', 'elemento'])\n",
    "            )\n",
    "\n",
    "df_prata.to_parquet(f'{raiz}/prata_{fonte}_{dataset_name}.parquet')"
   ]
  },
  {
   "attachments": {},
   "cell_type": "markdown",
   "metadata": {},
   "source": [
    "### Ouro"
   ]
  },
  {
   "attachments": {},
   "cell_type": "markdown",
   "metadata": {},
   "source": [
    "Elementos químicos na forma de fertilizante entregue ao mercado (t)\n",
    "\n",
    "Parâmetros\n",
    "\n",
    "Teor (%)\n",
    "\n",
    "Cálculos:\n",
    "Valor Estadual N * (Parâmetro N/100) * ((100 - fertilizantes_sinteticos)/100)\n",
    "\n",
    "Valor Estadual P2o5 * (Parâmetro P)/100\n",
    "\n",
    "Valor Estadual K2o * (Parâmetro K)/100\n",
    "\n",
    "\n",
    "Brasil = mil t"
   ]
  },
  {
   "cell_type": "code",
   "execution_count": 7,
   "metadata": {},
   "outputs": [],
   "source": [
    "parametro_N = 100\n",
    "parametro_P = 43.7\n",
    "parametro_K = 83\n",
    "\n",
    "# Perdas por volatilização do N\n",
    "perdas_fertiliz_sintetico = 0"
   ]
  },
  {
   "cell_type": "code",
   "execution_count": 8,
   "metadata": {},
   "outputs": [],
   "source": [
    "df = (pd.read_parquet(f'{raiz}/prata_{fonte}_{dataset_name}.parquet')\n",
    "      .reset_index()\n",
    "      .assign(**{\n",
    "          'valor': lambda df: df.apply(lambda linha: linha.valor*(parametro_N/100)*((100 - perdas_fertiliz_sintetico)/100) if linha.elemento == 'Fert_Sint_N'\n",
    "                                     else linha.valor*(parametro_P/100) if linha.elemento == 'Fert_Sint_P'\n",
    "                                     else linha.valor*(parametro_K/100),\n",
    "                                       axis = 1)\n",
    "                                       })\n",
    "      .replace({\n",
    "          'Fert_Sint_N': 'N',\n",
    "          'Fert_Sint_P': 'P',\n",
    "          'Fert_Sint_K': 'K'\n",
    "          })\n",
    "      .convert_dtypes()\n",
    "    )"
   ]
  },
  {
   "cell_type": "code",
   "execution_count": 15,
   "metadata": {},
   "outputs": [],
   "source": [
    "df = (\n",
    "    df\n",
    "    .rename(columns={\n",
    "        'geocodigo':'state',\n",
    "        'data': 'date',\n",
    "        'fonte': 'label',\n",
    "        'elemento':'nutrient',\n",
    "        'valor':'value'\n",
    "    })\n",
    ")\n",
    "\n",
    "df.to_csv(f'{raiz}/ouro_npk_fert_sintetico.csv')"
   ]
  }
 ],
 "metadata": {
  "kernelspec": {
   "display_name": "venv",
   "language": "python",
   "name": "python3"
  },
  "language_info": {
   "codemirror_mode": {
    "name": "ipython",
    "version": 3
   },
   "file_extension": ".py",
   "mimetype": "text/x-python",
   "name": "python",
   "nbconvert_exporter": "python",
   "pygments_lexer": "ipython3",
   "version": "3.12.3"
  },
  "orig_nbformat": 4
 },
 "nbformat": 4,
 "nbformat_minor": 2
}
