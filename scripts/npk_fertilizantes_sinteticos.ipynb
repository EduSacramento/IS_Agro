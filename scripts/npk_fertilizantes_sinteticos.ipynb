{
 "cells": [
  {
   "cell_type": "code",
   "execution_count": 1,
   "metadata": {},
   "outputs": [],
   "source": [
    "import pandas as pd"
   ]
  },
  {
   "cell_type": "code",
   "execution_count": 2,
   "metadata": {},
   "outputs": [],
   "source": [
    "dataset_name = 'anda_fert_sintetico'\n",
    "raiz = '/home/eduardo/repositorios/IS_Agro/databases'"
   ]
  },
  {
   "attachments": {},
   "cell_type": "markdown",
   "metadata": {},
   "source": [
    "### Prata"
   ]
  },
  {
   "cell_type": "markdown",
   "metadata": {},
   "source": [
    "NPK na forma de fertilizante sintético incorporado ao solo (t)"
   ]
  },
  {
   "cell_type": "code",
   "execution_count": 3,
   "metadata": {},
   "outputs": [],
   "source": [
    "tabelas = ['A_fert_N', 'A_fert_P', 'A_fert_K']\n",
    "\n",
    "anos = (pd.read_excel('../../airflow-dags-isagro/isagro/resources/Balanco_NPK_1ed_04_02_23.xlsx',\n",
    "                sheet_name='A_fert_N',\n",
    "                header=4,\n",
    "                nrows=0,\n",
    "                index_col=0\n",
    "                )\n",
    "        .columns\n",
    "        .tolist()\n",
    "        )"
   ]
  },
  {
   "cell_type": "code",
   "execution_count": 4,
   "metadata": {},
   "outputs": [],
   "source": [
    "for fertilizantes in tabelas:\n",
    "      (pd.read_excel('../../airflow-dags-isagro/isagro/resources/Balanco_NPK_1ed_04_02_23.xlsx',\n",
    "                sheet_name=fertilizantes,\n",
    "                na_filter=False,\n",
    "                header=4)\n",
    "      .query('UF != \"Brasil\"')\n",
    "      .merge(pd.read_parquet(f'{raiz}/prata_geocodigo_ibge.parquet')\n",
    "              .filter(['UF-id', 'UF-nome'])\n",
    "              .drop_duplicates(),\n",
    "              how='left',\n",
    "              left_on='UF',\n",
    "              right_on='UF-nome'\n",
    "              )\n",
    "      .melt(id_vars='UF-id',\n",
    "              value_vars=anos,\n",
    "              var_name='ano',\n",
    "              value_name='valor'\n",
    "              )\n",
    "      .dropna(subset='valor')\n",
    "      .rename(columns={'UF-id':'uf'})\n",
    "      .assign(**{\n",
    "          'fonte': 'Fertilizantes Sintéticos',\n",
    "          'ano': lambda x: x['ano'].astype(int)\n",
    "          })\n",
    "      .convert_dtypes()\n",
    "      .sort_values(by=['uf', 'ano'])\n",
    "      .set_index(['uf', 'ano', 'fonte'])\n",
    "      .to_parquet(f'{raiz}/prata_{fertilizantes}.parquet')\n",
    "      )"
   ]
  },
  {
   "attachments": {},
   "cell_type": "markdown",
   "metadata": {},
   "source": [
    "### Ouro"
   ]
  },
  {
   "attachments": {},
   "cell_type": "markdown",
   "metadata": {},
   "source": [
    "Elementos químicos na forma de fertilizante entregue ao mercado (t)\n",
    "\n",
    "Parâmetros\n",
    "\n",
    "Teor (%)\n",
    "\n",
    "Cálculos:\n",
    "Valor Estadual N * (Parâmetro N/100) * ((100 - fertilizantes_sinteticos)/100)\n",
    "\n",
    "Valor Estadual P2o5 * (Parâmetro P)/100\n",
    "\n",
    "Valor Estadual K2o * (Parâmetro K)/100\n",
    "\n",
    "\n",
    "Brasil = mil t"
   ]
  },
  {
   "cell_type": "code",
   "execution_count": 5,
   "metadata": {},
   "outputs": [],
   "source": [
    "parametro_N = 100\n",
    "parametro_P = 43.7\n",
    "parametro_K = 83\n",
    "\n",
    "# Perdas por volatilização do N\n",
    "perdas_fertiliz_sintetico = 0"
   ]
  },
  {
   "cell_type": "code",
   "execution_count": 6,
   "metadata": {},
   "outputs": [],
   "source": [
    "df = (pd.read_parquet(f'{raiz}/prata_A_fert_N.parquet')\n",
    "      .assign(**{\n",
    "          'N': lambda df: df['valor'].apply(lambda t: t*(parametro_N/100)*((100 - perdas_fertiliz_sintetico)/100))\n",
    "          })\n",
    "      .drop('valor', axis = 1)\n",
    "      .merge(pd.read_parquet(f'{raiz}/prata_A_fert_P.parquet')\n",
    "             .assign(**{\n",
    "                 'P': lambda df: df['valor'].apply(lambda t: t*(parametro_P/100))\n",
    "                 })\n",
    "             .drop('valor', axis = 1),\n",
    "             how='inner',\n",
    "             on=['uf', 'ano', 'fonte']\n",
    "             )\n",
    "      .merge(pd.read_parquet(f'{raiz}/prata_A_fert_K.parquet')\n",
    "             .assign(**{\n",
    "                 'K': lambda df: df['valor'].apply(lambda t: t*(parametro_K/100))\n",
    "                 })\n",
    "             .drop('valor', axis = 1),\n",
    "             how='inner',\n",
    "             on=['uf', 'ano', 'fonte']\n",
    "             )\n",
    "      .convert_dtypes()\n",
    "      .reset_index()\n",
    "      .melt(id_vars=['uf', 'ano', 'fonte'],\n",
    "            value_vars=['N', 'P', 'K'],\n",
    "            var_name='elemento',\n",
    "            value_name='valor')\n",
    "      .set_index(['uf', 'ano', 'fonte'])\n",
    "      )\n",
    "\n",
    "df.to_csv(f'{raiz}/ouro_npk_fert_sintetico.csv')"
   ]
  }
 ],
 "metadata": {
  "kernelspec": {
   "display_name": "venv",
   "language": "python",
   "name": "python3"
  },
  "language_info": {
   "codemirror_mode": {
    "name": "ipython",
    "version": 3
   },
   "file_extension": ".py",
   "mimetype": "text/x-python",
   "name": "python",
   "nbconvert_exporter": "python",
   "pygments_lexer": "ipython3",
   "version": "3.10.12"
  },
  "orig_nbformat": 4
 },
 "nbformat": 4,
 "nbformat_minor": 2
}
