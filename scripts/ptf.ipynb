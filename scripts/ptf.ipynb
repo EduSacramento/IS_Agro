{
 "cells": [
  {
   "cell_type": "code",
   "execution_count": 17,
   "metadata": {},
   "outputs": [],
   "source": [
    "# Importação de bibliotecas\n",
    "import pandas as pd\n",
    "\n",
    "from bs4 import BeautifulSoup\n",
    "import requests\n",
    "from urllib.parse import urljoin"
   ]
  },
  {
   "cell_type": "code",
   "execution_count": 20,
   "metadata": {},
   "outputs": [],
   "source": [
    "# Variáveis\n",
    "fonte = 'usda'\n",
    "dataset_name = 'ptf'\n",
    "raiz = '/home/eduardo/repositorios/IS_Agro/databases'\n",
    "\n",
    "url = 'https://www.ers.usda.gov/data-products/international-agricultural-productivity/'"
   ]
  },
  {
   "cell_type": "markdown",
   "metadata": {},
   "source": [
    "### Bronze"
   ]
  },
  {
   "cell_type": "code",
   "execution_count": 3,
   "metadata": {},
   "outputs": [],
   "source": [
    "# Requisição para a URL\n",
    "response = requests.get(url)\n",
    "\n",
    "# Criação do objeto BeautifulSoup\n",
    "soup = BeautifulSoup(response.text, 'html.parser')\n",
    "\n",
    "# Listagem de todos os links na página\n",
    "links = soup.find_all('a')"
   ]
  },
  {
   "cell_type": "code",
   "execution_count": 24,
   "metadata": {},
   "outputs": [],
   "source": [
    "# Filtrar links que contenham arquivos .xlsx\n",
    "xlsx_links = [urljoin(url, link['href']) for link in links if '.xlsx' in link['href']]\n",
    "\n",
    "# Salvamento do arquivo em disco com o nome original, assim mantendo a coleção\n",
    "with open(f'{raiz}/bronze_{fonte}_{dataset_name}.xlsx', 'wb') as arquivo:\n",
    "    arquivo.write(requests.get(xlsx_links[0]).content)"
   ]
  },
  {
   "cell_type": "markdown",
   "metadata": {},
   "source": [
    "### Prata"
   ]
  },
  {
   "cell_type": "code",
   "execution_count": 42,
   "metadata": {},
   "outputs": [],
   "source": [
    "# Tratamento da tabela\n",
    "df_prata = (\n",
    "    pd.read_excel(f'{raiz}/bronze_{fonte}_{dataset_name}.xlsx',\n",
    "                  sheet_name='Wide format data',\n",
    "                  usecols='C, H, I')\n",
    "    .convert_dtypes()\n",
    "    .query('ISO3 == \"BRA\" & Year >= 1990')\n",
    "    .reset_index(drop=True)\n",
    ")\n",
    "\n",
    "df_prata.to_parquet(f'{raiz}/prata_{fonte}_{dataset_name}.parquet')"
   ]
  },
  {
   "cell_type": "markdown",
   "metadata": {},
   "source": [
    "### Ouro"
   ]
  },
  {
   "cell_type": "code",
   "execution_count": 46,
   "metadata": {},
   "outputs": [],
   "source": [
    "# Exportação para a base de dados\n",
    "df_ouro = (\n",
    "    pd.read_parquet(f'{raiz}/prata_{fonte}_{dataset_name}.parquet')\n",
    "    .rename(columns={\n",
    "        'ISO3': 'iso3',\n",
    "        'Year': 'date',\n",
    "        'TFP_Index': 'ptf'\n",
    "    })\n",
    ")\n",
    "\n",
    "df_ouro.to_csv(f'{raiz}/ouro_{dataset_name}.csv', index=False)"
   ]
  }
 ],
 "metadata": {
  "kernelspec": {
   "display_name": "venv",
   "language": "python",
   "name": "python3"
  },
  "language_info": {
   "codemirror_mode": {
    "name": "ipython",
    "version": 3
   },
   "file_extension": ".py",
   "mimetype": "text/x-python",
   "name": "python",
   "nbconvert_exporter": "python",
   "pygments_lexer": "ipython3",
   "version": "3.12.3"
  }
 },
 "nbformat": 4,
 "nbformat_minor": 2
}
