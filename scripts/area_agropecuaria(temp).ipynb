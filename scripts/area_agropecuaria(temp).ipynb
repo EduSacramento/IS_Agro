{
 "cells": [
  {
   "cell_type": "code",
   "execution_count": 1,
   "metadata": {},
   "outputs": [],
   "source": [
    "import pandas as pd"
   ]
  },
  {
   "cell_type": "code",
   "execution_count": 2,
   "metadata": {},
   "outputs": [],
   "source": [
    "raiz_db = '/home/eduardo/repositorios/IS_Agro/databases'\n",
    "raiz_R = '/home/eduardo/Documentos/R'\n",
    "\n",
    "planilha_usodaterra = (pd.ExcelFile(f'{raiz_R}/Uso da Terra/outputs/COBERTURA_MAPBIOMAS_COL9_TM.xlsx'))"
   ]
  },
  {
   "cell_type": "code",
   "execution_count": 3,
   "metadata": {},
   "outputs": [],
   "source": [
    "anos = (\n",
    "    pd.read_excel(planilha_usodaterra, sheet_name=1, usecols='AA:AX')\n",
    "    .columns\n",
    "    .to_list()\n",
    ")"
   ]
  },
  {
   "cell_type": "code",
   "execution_count": 6,
   "metadata": {},
   "outputs": [],
   "source": [
    "df_isagro = (\n",
    "    pd.read_excel(planilha_usodaterra, sheet_name=1, usecols='A, F, AA:AX')\n",
    "    .melt(\n",
    "        id_vars=['geocode', 'class'],\n",
    "        value_vars=anos,\n",
    "        var_name='data',\n",
    "        value_name='area'\n",
    "        )\n",
    "    .rename(columns=\n",
    "        {\n",
    "            'geocode':'geocodigo',\n",
    "            'class':'classe'\n",
    "            })\n",
    "    .dropna(subset='area')\n",
    "    .query('area != 0.0 & classe in (9, 15, 20, 35, 39, 40, 41, 46, 47, 48, 62)')\n",
    "    .assign(data = lambda dt: pd.to_datetime(dt.data, format='%Y')) \n",
    "    .convert_dtypes()\n",
    "    .set_index(['geocodigo', 'data', 'classe'])\n",
    ")\n",
    "\n",
    "df_isagro.to_parquet(f'{raiz_db}/ouro_area_agropecuaria.parquet')"
   ]
  }
 ],
 "metadata": {
  "kernelspec": {
   "display_name": "venv",
   "language": "python",
   "name": "python3"
  },
  "language_info": {
   "codemirror_mode": {
    "name": "ipython",
    "version": 3
   },
   "file_extension": ".py",
   "mimetype": "text/x-python",
   "name": "python",
   "nbconvert_exporter": "python",
   "pygments_lexer": "ipython3",
   "version": "3.12.3"
  }
 },
 "nbformat": 4,
 "nbformat_minor": 2
}
