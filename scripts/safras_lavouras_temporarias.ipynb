{
 "cells": [
  {
   "cell_type": "code",
   "execution_count": 2,
   "metadata": {},
   "outputs": [],
   "source": [
    "import pandas as pd\n",
    "\n",
    "from pendulum import now"
   ]
  },
  {
   "cell_type": "markdown",
   "metadata": {},
   "source": [
    "### Tabela 1612 - Área plantada, área colhida, quantidade produzida, rendimento médio e valor da produção das lavouras temporárias"
   ]
  },
  {
   "cell_type": "code",
   "execution_count": 3,
   "metadata": {},
   "outputs": [],
   "source": [
    "dataset_name = 'sidra_tab1612_lavoura_temporaria'\n",
    "\n",
    "raiz = '/home/eduardo/repositorios/IS_Agro/databases'"
   ]
  },
  {
   "cell_type": "markdown",
   "metadata": {},
   "source": [
    "Área colhida (ha)"
   ]
  },
  {
   "cell_type": "markdown",
   "metadata": {},
   "source": [
    "#### Bronze"
   ]
  },
  {
   "cell_type": "code",
   "execution_count": null,
   "metadata": {},
   "outputs": [],
   "source": [
    "culturas = [2688, 2689, 2690, 2691, 2692, 2693, 2694, 2695, 2696, 2697, 2698, 2699, 2700, 2701, 2702, 2703, 2704, 2705, 2706, 2707,\n",
    "            2708, 2709, 2710, 2711, 2712, 2713, 2714, 2715, 2716, 109179, 109180]\n",
    "\n",
    "contador = 1\n",
    "\n",
    "ultimo_ano = now().year - 1\n"
   ]
  },
  {
   "cell_type": "code",
   "execution_count": null,
   "metadata": {},
   "outputs": [],
   "source": [
    "for ano in range(2003, ultimo_ano):\n",
    "    for cultura in culturas:\n",
    "        if contador == 1:\n",
    "            df_1612 = pd.read_json(f'https://apisidra.ibge.gov.br/values/t/1612/n6/all/v/216/p/{ano}/c81/{cultura}')\n",
    "            contador += 1\n",
    "        else:\n",
    "            df_1612 = pd.concat(\n",
    "                [df_1612,\n",
    "                 (pd.read_json(f'https://apisidra.ibge.gov.br/values/t/1612/n6/all/v/216/p/{ano}/c81/{cultura}')\n",
    "                  .iloc[1:])],\n",
    "                  ignore_index=True\n",
    "                  )\n",
    "            contador += 1\n",
    "\n",
    "df_1612.to_json(f'{raiz}/bronze_{dataset_name}.json')\n",
    "\n",
    "print(f'Foram contabilizadas {contador} repetições de dados de áreas de colheita raspados.')"
   ]
  },
  {
   "cell_type": "markdown",
   "metadata": {},
   "source": [
    "#### Prata"
   ]
  },
  {
   "cell_type": "markdown",
   "metadata": {},
   "source": [
    "| Código | Cultura                            |\n",
    "|--------|------------------------------------|\n",
    "| 2688   | Abacaxi*                           |\n",
    "| 2689   | Algodão herbáceo (em caroço)       |\n",
    "| 2690   | Alho                               |\n",
    "| 2691   | Amendoim (em casca)                |\n",
    "| 2692   | Arroz (em casca)                   |\n",
    "| 2693   | Aveia (em grão)                    |\n",
    "| 2694   | Batata-doce                        |\n",
    "| 2695   | Batata-inglesa                     |\n",
    "| 2696   | Cana-de-açúcar                     |\n",
    "| 2697   | Cebola                             |\n",
    "| 2698   | Centeio (em grão)                  |\n",
    "| 2699   | Cevada (em grão)                   |\n",
    "| 2700   | Ervilha (em grão)                  |\n",
    "| 2701   | Fava (em grão)                     |\n",
    "| 2702   | Feijão (em grão)                   |\n",
    "| 2703   | Fumo (em folha)                    |\n",
    "| 2704   | Juta (fibra)                       |\n",
    "| 2705   | Linho (semente)                    |\n",
    "| 2706   | Malva (fibra)                      |\n",
    "| 2707   | Mamona (baga)                      |\n",
    "| 2708   | Mandioca                           |\n",
    "| 2709   | Melancia                           |\n",
    "| 2710   | Melão                              |\n",
    "| 2711   | Milho (em grão)                    |\n",
    "| 2712   | Rami (fibra)                       |\n",
    "| 2713   | Soja (em grão)                     |\n",
    "| 2714   | Sorgo (em grão)                    |\n",
    "| 2715   | Tomate                             |\n",
    "| 2716   | Trigo (em grão)                    |\n",
    "| 109179 | Girassol (em grão)                 |\n",
    "| 109180 | Triticale (em grão)                |"
   ]
  },
  {
   "cell_type": "code",
   "execution_count": null,
   "metadata": {},
   "outputs": [],
   "source": [
    "df_1612 = (pd.read_json(f'{raiz}/bronze_{dataset_name}.json')\n",
    "          .drop(0, axis = 0)\n",
    "          .filter(['D1C', 'D3C', 'D4C', 'D4N', 'V'])\n",
    "          .assign(**{\n",
    "              'uf': lambda df: df['D1C'].str.slice(0,2).astype(int),\n",
    "              'hectares': lambda df: pd.to_numeric(df['V'], errors='coerce'),\n",
    "              'municipio': lambda df: df['D1C'].astype(int),\n",
    "              'ano': lambda df: df['D3C'].astype(int),\n",
    "              'cd_cultura': lambda df: df['D4C'].astype(int),\n",
    "              'nm_cultura': lambda df: df['D4N']\n",
    "              })\n",
    "          .convert_dtypes()\n",
    "          .drop(['D1C', 'D3C', 'D4C', 'D4N', 'V'], axis='columns')\n",
    "          .set_index(['uf', 'municipio', 'ano', 'cd_cultura', 'nm_cultura'])\n",
    "          )\n",
    "\n",
    "df_1612.to_parquet(f'{raiz}/prata_{dataset_name}.parquet')"
   ]
  },
  {
   "cell_type": "markdown",
   "metadata": {},
   "source": [
    "### Ouro"
   ]
  },
  {
   "cell_type": "code",
   "execution_count": 59,
   "metadata": {},
   "outputs": [],
   "source": [
    "dfs = ('df_839', 'df_1000', 'df_1001', 'df_1002')\n",
    "\n",
    "tabelas = ('tab839_colheita_milho', 'tab1000_colheita_amendoim', 'tab1001_colheita_batata-inglesa', 'tab1002_colheita_feijao')\n",
    "\n",
    "dfx = pd.DataFrame()\n",
    "\n",
    "for df, tabela in zip(dfs, tabelas):\n",
    "    globals()[df] = (pd.read_parquet(f'{raiz}/prata_sidra_{tabela}.parquet')\n",
    "                     .reset_index()\n",
    "                     .assign(hectares=lambda x: x.hectares.replace({0:1, pd.NA:1}))\n",
    "                     )\n",
    "    globals()[df + '_fps'] = (globals()[df]\n",
    "        .filter(['uf', 'municipio', 'ano'])\n",
    "        .drop_duplicates()\n",
    "        .reset_index(drop=True)\n",
    "        .assign(\n",
    "            nm_cultura=globals()[df].nm_cultura,\n",
    "            FPS=globals()[df].iloc[1::3, 5].reset_index(drop=True) / globals()[df].iloc[::3, 5].reset_index(drop=True) \n",
    "                    if (globals()[df].nm_cultura.iloc[0] == 'Milho (em grão)' or globals()[df].nm_cultura.iloc[0] == 'Amendoim (em casca)') else \n",
    "                    globals()[df].iloc[1::4, 5].reset_index(drop=True) / globals()[df].iloc[::4, 5].reset_index(drop=True)\n",
    "        )\n",
    "        .convert_dtypes()\n",
    "    )\n",
    "    dfx = pd.concat([dfx, globals()[df + '_fps']]).reset_index(drop=True)"
   ]
  },
  {
   "cell_type": "code",
   "execution_count": 62,
   "metadata": {},
   "outputs": [],
   "source": [
    "df_1612 = pd.read_parquet(f'{raiz}/prata_{dataset_name}.parquet')"
   ]
  },
  {
   "cell_type": "code",
   "execution_count": 63,
   "metadata": {},
   "outputs": [],
   "source": [
    "df_1612_ps = (df_1612.reset_index()\n",
    "              .merge(dfx,\n",
    "                     how='left',\n",
    "                     on=['uf', 'municipio', 'ano', 'nm_cultura']\n",
    "                     )\n",
    "              .assign(FPS=lambda x: x.FPS.replace({0:1, pd.NA:1}))\n",
    "              .assign(valor=lambda df: df.hectares * df.FPS)\n",
    "              .dropna(subset='valor')\n",
    "              .drop(['hectares','FPS', 'nm_cultura'], axis='columns')\n",
    "              .rename(columns={'cd_cultura': 'cultura'})\n",
    "              .convert_dtypes()\n",
    "              .assign(\n",
    "                  safra='1a. safra',\n",
    "                  valor=lambda df: df.apply(lambda x:\n",
    "                                            x.valor * 0.17 if (x.cultura == 2689 and x.uf == 51) else\n",
    "                                            x.valor * 0.79 if (x.cultura == 2689 and x.uf == 50) else\n",
    "                                            0 if (x.cultura == 2689 and x.uf not in (17, 21, 22, 23, 24, 25, 26, 27, 28, 29, 50, 51)) else\n",
    "                                            0 if (x.cultura in (2693, 2698, 2699, 2705, 2714, 2716, 109179, 109180)) else\n",
    "                                            x.valor, axis = 1)\n",
    "                                             )\n",
    "              .reset_index(drop=True)\n",
    "            )"
   ]
  },
  {
   "cell_type": "code",
   "execution_count": 64,
   "metadata": {},
   "outputs": [],
   "source": [
    "df_1612_ss = (pd.merge(df_1612.dropna(subset='hectares'), df_1612_ps,\n",
    "                      how='left',\n",
    "                      left_on=['uf', 'municipio', 'ano', 'cd_cultura'],\n",
    "                      right_on=['uf', 'municipio', 'ano', 'cultura']\n",
    "                      )\n",
    "                      .assign(valor=lambda df: df.apply(lambda x:\n",
    "                                                        x.hectares - x.valor if pd.notna(x.valor) else x.hectares, axis = 1),\n",
    "                              safra='2a. safra')\n",
    "                      .drop('hectares', axis='columns')\n",
    "                )"
   ]
  },
  {
   "cell_type": "code",
   "execution_count": 65,
   "metadata": {},
   "outputs": [],
   "source": [
    "df_1612_final = (pd.concat([df_1612_ps, df_1612_ss], ignore_index=True)\n",
    "                 .query('valor != 0')\n",
    "                 .reset_index(drop=True)\n",
    "                 .set_index(['uf', 'municipio', 'ano', 'cultura', 'safra'])\n",
    "                 )\n",
    "\n",
    "df_1612_final.to_csv(f'{raiz}/ouro_volume_agricola_lavouras_temporarias.csv')"
   ]
  },
  {
   "cell_type": "code",
   "execution_count": 71,
   "metadata": {},
   "outputs": [],
   "source": [
    "df_1612_consolidado_munic = (df_1612_final.reset_index()\n",
    "                             .groupby(['uf', 'municipio', 'ano', 'safra'])\n",
    "                             .agg({'valor':sum})\n",
    "                             )\n",
    "\n",
    "df_1612_consolidado_munic.to_csv(f'{raiz}/ouro_volume_agricola_lavouras_temporarias_munic.csv')"
   ]
  },
  {
   "cell_type": "code",
   "execution_count": 73,
   "metadata": {},
   "outputs": [],
   "source": [
    "df_1612_consolidado_uf = (df_1612_final.reset_index()\n",
    "                          .groupby(['uf', 'ano', 'safra'])\n",
    "                          .agg({'valor':sum})\n",
    "                          )\n",
    "\n",
    "df_1612_consolidado_uf.to_csv(f'{raiz}/ouro_volume_agricola_lavouras_temporarias_uf.csv')"
   ]
  }
 ],
 "metadata": {
  "kernelspec": {
   "display_name": "base",
   "language": "python",
   "name": "python3"
  },
  "language_info": {
   "codemirror_mode": {
    "name": "ipython",
    "version": 3
   },
   "file_extension": ".py",
   "mimetype": "text/x-python",
   "name": "python",
   "nbconvert_exporter": "python",
   "pygments_lexer": "ipython3",
   "version": "3.10.12"
  }
 },
 "nbformat": 4,
 "nbformat_minor": 2
}
