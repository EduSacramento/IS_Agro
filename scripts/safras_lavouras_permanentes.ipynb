{
 "cells": [
  {
   "cell_type": "code",
   "execution_count": 1,
   "metadata": {},
   "outputs": [],
   "source": [
    "# Importação de bibliotecas\n",
    "import pandas as pd\n",
    "\n",
    "from pendulum import now"
   ]
  },
  {
   "cell_type": "markdown",
   "metadata": {},
   "source": [
    "### Tabela 1613 - Área destinada à colheita, área colhida, quantidade produzida, rendimento médio e valor da produção das lavouras permanentes "
   ]
  },
  {
   "cell_type": "code",
   "execution_count": 2,
   "metadata": {},
   "outputs": [],
   "source": [
    "dataset_name = 'sidra_tab1613_lavoura_permanente'\n",
    "raiz = '/home/eduardo/repositorios/IS_Agro/databases'"
   ]
  },
  {
   "cell_type": "markdown",
   "metadata": {},
   "source": [
    "Área destinada à colheita (ha)"
   ]
  },
  {
   "cell_type": "markdown",
   "metadata": {},
   "source": [
    "#### Bronze"
   ]
  },
  {
   "cell_type": "code",
   "execution_count": 3,
   "metadata": {},
   "outputs": [],
   "source": [
    "culturas = [2717, 2718, 2719, 2720, 2721, 2722, 2723, 2724, 2725, 2726, 2727, 2728, 2729, 2730, 2731, 2732, 2733, 2734, 2735, 2736, 2737,\n",
    "            2738, 2739, 2740, 2741, 2742, 2743, 2744, 2745, 2746, 2747, 2748, 45981, 90001]\n",
    "\n",
    "contador = 1\n",
    "\n",
    "ultimo_ano = now().year - 1"
   ]
  },
  {
   "cell_type": "code",
   "execution_count": 4,
   "metadata": {},
   "outputs": [
    {
     "name": "stdout",
     "output_type": "stream",
     "text": [
      "Foram contabilizadas 681 repetições de dados de áreas de colheita raspados.\n"
     ]
    }
   ],
   "source": [
    "for ano in range(2003, ultimo_ano):\n",
    "    for cultura in culturas:\n",
    "        if contador == 1:\n",
    "            df_1613 = pd.read_json(f'https://apisidra.ibge.gov.br/values/t/1613/n6/all/v/2313/p/{ano}/c82/{cultura}')\n",
    "            contador += 1\n",
    "        else:\n",
    "            df_1613 = pd.concat(\n",
    "                [df_1613,\n",
    "                 (pd.read_json(f'https://apisidra.ibge.gov.br/values/t/1613/n6/all/v/2313/p/{ano}/c82/{cultura}')\n",
    "                  .iloc[1:])],\n",
    "                  ignore_index=True\n",
    "                  )\n",
    "            contador += 1\n",
    "\n",
    "df_1613.to_json(f'{raiz}/bronze_{dataset_name}.json')\n",
    "\n",
    "print(f'Foram contabilizadas {contador} repetições de dados de áreas de colheita raspados.')"
   ]
  },
  {
   "cell_type": "markdown",
   "metadata": {},
   "source": [
    "#### Prata"
   ]
  },
  {
   "cell_type": "markdown",
   "metadata": {},
   "source": [
    "| Código | Cultura                        |\n",
    "|--------|--------------------------------|\n",
    "| 2717   | Abacate                        |\n",
    "| 2718   | Algodão arbóreo (em caroço)   |\n",
    "| 2719   | Azeitona                       |\n",
    "| 2720   | Banana (cacho)                 |\n",
    "| 2721   | Borracha (látex coagulado)     |\n",
    "| 2722   | Cacau (em amêndoa)             |\n",
    "| 2723   | Café (em grão) Total           |\n",
    "| 2724   | Caqui                          |\n",
    "| 2725   | Castanha de caju               |\n",
    "| 2726   | Chá-da-índia (folha verde)     |\n",
    "| 2727   | Coco-da-baía*                  |\n",
    "| 2728   | Dendê (cacho de coco)          |\n",
    "| 2729   | Erva-mate (folha verde)        |\n",
    "| 2730   | Figo                           |\n",
    "| 2731   | Goiaba                         |\n",
    "| 2732   | Guaraná (semente)              |\n",
    "| 2733   | Laranja                        |\n",
    "| 2734   | Limão                          |\n",
    "| 2735   | Maçã                           |\n",
    "| 2736   | Mamão                          |\n",
    "| 2737   | Manga                          |\n",
    "| 2738   | Maracujá                       |\n",
    "| 2739   | Marmelo                        |\n",
    "| 2740   | Noz (fruto seco)               |\n",
    "| 2741   | Pera                           |\n",
    "| 2742   | Pêssego                        |\n",
    "| 2743   | Pimenta-do-reino               |\n",
    "| 2744   | Sisal ou agave (fibra)         |\n",
    "| 2745   | Tangerina                      |\n",
    "| 2746   | Tungue (fruto seco)            |\n",
    "| 2747   | Urucum (semente)               |\n",
    "| 2748   | Uva                            |\n",
    "| 45981  | Açaí                           |\n",
    "| 90001  | Palmito                        |"
   ]
  },
  {
   "cell_type": "code",
   "execution_count": 5,
   "metadata": {},
   "outputs": [],
   "source": [
    "df_1613 = (pd.read_json(f'{raiz}/bronze_{dataset_name}.json')\n",
    "          .drop(0, axis = 0)\n",
    "          .filter(['D1C', 'D3C', 'D4C', 'V'])\n",
    "          .assign(**{\n",
    "              'uf': lambda df: df['D1C'].str.slice(0,2).astype(int),\n",
    "              'hectares': lambda df: pd.to_numeric(df['V'], errors='coerce'),\n",
    "              'municipio': lambda df: df['D1C'].astype(int),\n",
    "              'ano': lambda df: df['D3C'].astype(int),\n",
    "              'cultura': lambda df: df['D4C'].astype(int)\n",
    "              })\n",
    "          .convert_dtypes()\n",
    "          .drop(['D1C', 'D3C', 'D4C', 'V'], axis='columns')\n",
    "          .dropna(subset='hectares')\n",
    "          .set_index(['uf', 'municipio', 'ano', 'cultura'])\n",
    "          )\n",
    "\n",
    "df_1613.to_parquet(f'{raiz}/prata_{dataset_name}.parquet')"
   ]
  },
  {
   "cell_type": "markdown",
   "metadata": {},
   "source": [
    "### Ouro"
   ]
  },
  {
   "cell_type": "code",
   "execution_count": 6,
   "metadata": {},
   "outputs": [],
   "source": [
    "dataset_ouro = 'ouro_volume_agricola_lavouras'"
   ]
  },
  {
   "cell_type": "code",
   "execution_count": 7,
   "metadata": {},
   "outputs": [],
   "source": [
    "df_1613_final = pd.read_parquet(f'{raiz}/prata_{dataset_name}.parquet')\n",
    "\n",
    "df_1613_final.to_csv(f'{raiz}/{dataset_ouro}_permanentes.csv')"
   ]
  },
  {
   "cell_type": "code",
   "execution_count": 8,
   "metadata": {},
   "outputs": [],
   "source": [
    "df_1613_consolidado_munic = (df_1613_final.reset_index()\n",
    "                             .groupby(['uf', 'municipio', 'ano'])\n",
    "                             .agg({'hectares':sum})\n",
    "                             )\n",
    "\n",
    "df_1613_consolidado_munic.to_csv(f'{raiz}/{dataset_ouro}_permanentes_munic.csv')"
   ]
  },
  {
   "cell_type": "code",
   "execution_count": 9,
   "metadata": {},
   "outputs": [],
   "source": [
    "df_1613_consolidado_uf = (df_1613_final.reset_index()\n",
    "                          .groupby(['uf', 'ano'])\n",
    "                          .agg({'hectares':sum})\n",
    "                          )\n",
    "\n",
    "df_1613_consolidado_uf.to_csv(f'{raiz}/{dataset_ouro}_permanentes_uf.csv')"
   ]
  }
 ],
 "metadata": {
  "kernelspec": {
   "display_name": "venv",
   "language": "python",
   "name": "python3"
  },
  "language_info": {
   "codemirror_mode": {
    "name": "ipython",
    "version": 3
   },
   "file_extension": ".py",
   "mimetype": "text/x-python",
   "name": "python",
   "nbconvert_exporter": "python",
   "pygments_lexer": "ipython3",
   "version": "3.10.12"
  }
 },
 "nbformat": 4,
 "nbformat_minor": 2
}
