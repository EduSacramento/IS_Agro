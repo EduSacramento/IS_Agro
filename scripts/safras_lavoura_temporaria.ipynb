{
 "cells": [
  {
   "cell_type": "code",
   "execution_count": 2,
   "metadata": {},
   "outputs": [],
   "source": [
    "import pandas as pd\n",
    "\n",
    "from pendulum import now"
   ]
  },
  {
   "cell_type": "code",
   "execution_count": 3,
   "metadata": {},
   "outputs": [],
   "source": [
    "dataset_name = 'sidra_tab1612_lavoura_temporaria'\n",
    "raiz = '../database'"
   ]
  },
  {
   "cell_type": "markdown",
   "metadata": {},
   "source": [
    "### Bronze"
   ]
  },
  {
   "cell_type": "markdown",
   "metadata": {},
   "source": [
    "Área colhida (ha)"
   ]
  },
  {
   "cell_type": "code",
   "execution_count": null,
   "metadata": {},
   "outputs": [],
   "source": [
    "culturas = [2688, 2689, 2690, 2691, 2692, 2693, 2694, 2695, 2696, 2697, 2698, 2699, 2700, 2701, 2702, 2703, 2704, 2705, 2706, 2707,\n",
    "            2708, 2709, 2710, 2711, 2712, 2713, 2714, 2715, 2716, 109179, 109180]\n",
    "\n",
    "contador = 1\n",
    "\n",
    "ultimo_ano = now().year - 1"
   ]
  },
  {
   "cell_type": "code",
   "execution_count": null,
   "metadata": {},
   "outputs": [],
   "source": [
    "for ano in range(2003, ultimo_ano):\n",
    "    for cultura in culturas:\n",
    "        if contador == 1:\n",
    "            df_1612 = pd.read_json(f'https://apisidra.ibge.gov.br/values/t/1612/n6/all/v/216/p/{ano}/c81/{cultura}')\n",
    "            contador += 1\n",
    "        else:\n",
    "            df_1612 = pd.concat(\n",
    "                [df_1612,\n",
    "                 (pd.read_json(f'https://apisidra.ibge.gov.br/values/t/1612/n6/all/v/216/p/{ano}/c81/{cultura}')\n",
    "                  .iloc[1:])],\n",
    "                  ignore_index=True\n",
    "                  )\n",
    "            contador += 1\n",
    "\n",
    "df_1612.to_json(f'{raiz}/bronze_{dataset_name}.json')\n",
    "\n",
    "print(f'Foram contabilizadas {contador} repetições de dados de áreas de colheita raspados.')"
   ]
  },
  {
   "cell_type": "markdown",
   "metadata": {},
   "source": [
    "### Prata"
   ]
  }
 ],
 "metadata": {
  "kernelspec": {
   "display_name": "base",
   "language": "python",
   "name": "python3"
  },
  "language_info": {
   "codemirror_mode": {
    "name": "ipython",
    "version": 3
   },
   "file_extension": ".py",
   "mimetype": "text/x-python",
   "name": "python",
   "nbconvert_exporter": "python",
   "pygments_lexer": "ipython3",
   "version": "3.11.4"
  }
 },
 "nbformat": 4,
 "nbformat_minor": 2
}
