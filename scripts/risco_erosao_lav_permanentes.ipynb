{
 "cells": [
  {
   "cell_type": "code",
   "execution_count": 1,
   "metadata": {},
   "outputs": [],
   "source": [
    "# Importação de bibliotecas\n",
    "import pandas as pd\n",
    "import numpy as np"
   ]
  },
  {
   "cell_type": "code",
   "execution_count": 2,
   "metadata": {},
   "outputs": [],
   "source": [
    "# Variáveis utilizadas\n",
    "fonte = 'sidra'\n",
    "dataset_name = 'risco_erosao_lavouras_perenes'\n",
    "\n",
    "raiz = '/home/eduardo/repositorios/IS_Agro/databases'"
   ]
  },
  {
   "cell_type": "code",
   "execution_count": 3,
   "metadata": {},
   "outputs": [],
   "source": [
    "# Tabela de área destinada à colheita das lavouras perenes\n",
    "df = (\n",
    "    pd.read_parquet(f'{raiz}/prata_sidra_tab1613_lavoura_permanente_area_destinada_colheita.parquet')\n",
    "    .query('data >= 2000')\n",
    "    .reset_index()\n",
    "    .assign(geocodigo_uf = lambda df: df.geocodigo // 100000)\n",
    "    .groupby(['geocodigo_uf', 'data', 'cultura'])\n",
    "    .agg({'area':'sum'})\n",
    "    .rename_axis(index={'geocodigo_uf': 'geocodigo'})\n",
    "    .convert_dtypes()\n",
    ")"
   ]
  },
  {
   "cell_type": "markdown",
   "metadata": {},
   "source": [
    "### Ouro"
   ]
  },
  {
   "cell_type": "code",
   "execution_count": 4,
   "metadata": {},
   "outputs": [],
   "source": [
    "df_cafe = (\n",
    "    df\n",
    "    .reset_index()\n",
    "    .query('cultura == 2723')\n",
    "    .replace({2723: 'Café - Convencional + cobertura do solo'})\n",
    "    .assign(valor = lambda n: round(n.area / 10000, 3))\n",
    "    .drop(columns='area')\n",
    "    .assign(\n",
    "        risco_erosivo = lambda df: np.where(df.cultura == 'Café - Convencional + cobertura do solo', 2.2,\n",
    "                                        pd.NA)\n",
    "    )\n",
    "    .convert_dtypes()\n",
    "    .reset_index(drop=True)\n",
    ")"
   ]
  },
  {
   "cell_type": "code",
   "execution_count": 5,
   "metadata": {},
   "outputs": [],
   "source": [
    "df_frutas = (\n",
    "    df\n",
    "    .reset_index()\n",
    "    .query('cultura != 2723')\n",
    "    .groupby(['geocodigo', 'data'])\n",
    "    .agg({'area':'sum'})\n",
    "    .reset_index()\n",
    "    .assign(**{\n",
    "        'Frutíferas - Sem cobertura do solo (solo nu)': lambda n: round((n.area / 10000) * 0.5, 3),\n",
    "        'Frutíferas - Com proteção à erosão': lambda n: round((n.area / 10000) * 0.5, 3)\n",
    "        })\n",
    "    .drop(columns='area')\n",
    "    .melt(\n",
    "        id_vars=['geocodigo', 'data'],\n",
    "        var_name='cultura',\n",
    "        value_name='valor'\n",
    "    )\n",
    "    .assign(\n",
    "        risco_erosivo = lambda df: np.where(df.cultura == 'Frutíferas - Sem cobertura do solo (solo nu)', 0.5,\n",
    "                                        np.where(df.cultura == 'Frutíferas - Com proteção à erosão', 0,\n",
    "                                                 pd.NA))\n",
    "    )\n",
    "    .convert_dtypes()\n",
    ")"
   ]
  },
  {
   "cell_type": "code",
   "execution_count": 6,
   "metadata": {},
   "outputs": [],
   "source": [
    "df_final = (\n",
    "    pd.concat([\n",
    "        df_cafe,\n",
    "        df_frutas\n",
    "    ])\n",
    "    .sort_values(['geocodigo', 'data'])\n",
    "    .reset_index(drop=True)\n",
    ")"
   ]
  },
  {
   "cell_type": "code",
   "execution_count": 7,
   "metadata": {},
   "outputs": [],
   "source": [
    "df_ouro = (\n",
    "    df_final\n",
    "    .rename(columns={\n",
    "        'geocodigo': 'state',\n",
    "        'valor': 'value',\n",
    "        'data': 'date',\n",
    "        'cultura': 'label',\n",
    "        'risco_erosivo': 'sub_label'\n",
    "        })\n",
    "    .assign(country = 76)\n",
    "    .filter(['country', 'state', 'date', 'label', 'sub_label', 'value'])\n",
    ")\n",
    "\n",
    "df_ouro.to_csv(f'{raiz}/ouro_{dataset_name}.csv', index=False)"
   ]
  }
 ],
 "metadata": {
  "kernelspec": {
   "display_name": "venv",
   "language": "python",
   "name": "python3"
  },
  "language_info": {
   "codemirror_mode": {
    "name": "ipython",
    "version": 3
   },
   "file_extension": ".py",
   "mimetype": "text/x-python",
   "name": "python",
   "nbconvert_exporter": "python",
   "pygments_lexer": "ipython3",
   "version": "3.12.3"
  }
 },
 "nbformat": 4,
 "nbformat_minor": 2
}
