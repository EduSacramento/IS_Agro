{
 "cells": [
  {
   "cell_type": "code",
   "execution_count": 1,
   "metadata": {},
   "outputs": [],
   "source": [
    "# Importação das bibliotecas necessárias\n",
    "import pandas as pd"
   ]
  },
  {
   "cell_type": "code",
   "execution_count": 2,
   "metadata": {},
   "outputs": [],
   "source": [
    "raiz = '/home/eduardo/repositorios/IS_Agro/databases'"
   ]
  },
  {
   "attachments": {},
   "cell_type": "markdown",
   "metadata": {},
   "source": [
    "|---------------------------------------------------------------------|\n",
    "|                              COLEÇÃO 9 - CLASSES                              |\n",
    "|-------------------------------------|---------------------------------|-------|\n",
    "| Categoria                           | Subcategoria                    | ID    |\n",
    "|-------------------------------------|---------------------------------|-------|\n",
    "| 3.1. Pastagem                       |                                 | 15    |\n",
    "| 3.2. Agricultura                    |                                 | 18    |\n",
    "|                                     | 3.2.1. Lavoura Temporária      | 19    |\n",
    "|                                     |     3.2.1.1. Soja             | 39    |\n",
    "|                                     |     3.2.1.2. Cana             | 20    |\n",
    "|                                     |     3.2.1.3. Arroz (beta)    | 40    |\n",
    "|                                     |     3.2.1.4. Algodão (beta)  | 62    |\n",
    "|                                     |     3.2.1.5. Outras Lavouras Temporárias | 41 |\n",
    "|                                     | 3.2.2. Lavoura Perene          | 36    |\n",
    "|                                     |     3.2.2.1. Café             | 46    |\n",
    "|                                     |     3.2.2.2. Citrus           | 47    |\n",
    "|                                     |     3.2.2.3. Dendê           | 35    |\n",
    "|                                     |     3.2.1.3. Outras Lavouras Perenes | 48 |\n",
    "| 3.4. Mosaico de Usos                |                                 | 21    |\n",
    "\n",
    "\n",
    "Descrição dos códigos: https://brasil.mapbiomas.org/wp-content/uploads/sites/4/2024/08/Legenda-Colecao-9-LEGEND-CODE.pdf"
   ]
  },
  {
   "attachments": {},
   "cell_type": "markdown",
   "metadata": {},
   "source": [
    "### Ouro"
   ]
  },
  {
   "cell_type": "code",
   "execution_count": 4,
   "metadata": {},
   "outputs": [],
   "source": [
    "# Cálculo da área total de uso pela agropecuária por Estado\n",
    "df_agropecuaria = (\n",
    "                    pd.read_parquet(f'{raiz}/prata_mapbiomas_uso_terra_uf.parquet')\n",
    "                    .reset_index()\n",
    "                    .query('classe in (15, 18, 19, 39, 20, 40, 62, 41, 36, 46, 47, 35, 48, 21) & data >= 2000')\n",
    "                    .assign(fonte = 'Deposição Atmosférica',\n",
    "                            area = lambda x: x.area/1000000)\n",
    "                    .groupby(['geocodigo', 'data', 'fonte'])\n",
    "                    .agg({'area': 'sum'})\n",
    "                )"
   ]
  },
  {
   "attachments": {},
   "cell_type": "markdown",
   "metadata": {},
   "source": [
    "Área Destinada a Agropecuária (ha)\n",
    "Elementos (kg/ha ano)\n",
    "\n",
    "Cálculo: Cobertura Solo Municipal * (Parâmetro_X/1000)\n",
    "\n",
    "UF e Brasil = mil t\n",
    "\n",
    "NPK oriundo de deposição atmosférica incorporado ao solo (t)"
   ]
  },
  {
   "cell_type": "code",
   "execution_count": 5,
   "metadata": {},
   "outputs": [],
   "source": [
    "parametro_N = 5.5\n",
    "parametro_P = 0.3\n",
    "parametro_K = 3.1"
   ]
  },
  {
   "cell_type": "code",
   "execution_count": 14,
   "metadata": {},
   "outputs": [],
   "source": [
    "df = (df_agropecuaria\n",
    "      .reset_index()\n",
    "      .assign(**{\n",
    "          'N': lambda df: df['area']*(parametro_N/1000),\n",
    "          'P': lambda df: df['area']*(parametro_P/1000),\n",
    "          'K': lambda df: df['area']*(parametro_K/1000)\n",
    "          })\n",
    "      .drop('area', axis = 1)\n",
    "      .melt(id_vars=['geocodigo', 'data', 'fonte'],\n",
    "            value_vars=['N', 'P', 'K'],\n",
    "            var_name='elemento',\n",
    "            value_name='valor')\n",
    "     .groupby(['geocodigo', 'data', 'fonte', 'elemento'])\n",
    "     .agg({'valor': 'sum'})\n",
    "     .reset_index(level='elemento')\n",
    "     .convert_dtypes()\n",
    "     .sort_values(by=['elemento', 'geocodigo'],\n",
    "                   key=lambda x: x.map({'N': 0, 'P': 1, 'K': 2}))\n",
    ")"
   ]
  },
  {
   "cell_type": "code",
   "execution_count": 18,
   "metadata": {},
   "outputs": [],
   "source": [
    "df = (\n",
    "    df\n",
    "    .rename_axis(index={\n",
    "        'geocodigo':'state',\n",
    "        'data': 'date',\n",
    "        'fonte': 'label'\n",
    "    })\n",
    "    .rename(columns={\n",
    "        'elemento':'nutrient',\n",
    "        'valor':'value'\n",
    "    })\n",
    ")\n",
    "\n",
    "df.to_csv(f'{raiz}/ouro_npk_deposicao_atmosferica.csv')"
   ]
  }
 ],
 "metadata": {
  "kernelspec": {
   "display_name": "venv",
   "language": "python",
   "name": "python3"
  },
  "language_info": {
   "codemirror_mode": {
    "name": "ipython",
    "version": 3
   },
   "file_extension": ".py",
   "mimetype": "text/x-python",
   "name": "python",
   "nbconvert_exporter": "python",
   "pygments_lexer": "ipython3",
   "version": "3.12.3"
  },
  "orig_nbformat": 4
 },
 "nbformat": 4,
 "nbformat_minor": 2
}
