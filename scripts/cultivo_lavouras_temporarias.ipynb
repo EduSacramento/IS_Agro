{
 "cells": [
  {
   "cell_type": "code",
   "execution_count": 1,
   "metadata": {},
   "outputs": [],
   "source": [
    "# Importação de bibliotecas\n",
    "import pandas as pd\n",
    "from numpy import nan\n",
    "\n",
    "from pendulum import now"
   ]
  },
  {
   "cell_type": "markdown",
   "metadata": {},
   "source": [
    "### Tabela 1612 - Área plantada, área colhida, quantidade produzida, rendimento médio e valor da produção das lavouras temporárias"
   ]
  },
  {
   "cell_type": "code",
   "execution_count": 2,
   "metadata": {},
   "outputs": [],
   "source": [
    "# Objetos\n",
    "fonte = 'sidra'\n",
    "dataset_name = 'tab1612_lavoura_temporaria'\n",
    "variavel = 'area_colhida'\n",
    "\n",
    "raiz = '/home/eduardo/repositorios/IS_Agro/databases'\n",
    "\n",
    "ultimo_ano = now().year - 1"
   ]
  },
  {
   "cell_type": "markdown",
   "metadata": {},
   "source": [
    "Área colhida (ha)"
   ]
  },
  {
   "cell_type": "markdown",
   "metadata": {},
   "source": [
    "#### Bronze"
   ]
  },
  {
   "cell_type": "code",
   "execution_count": 3,
   "metadata": {},
   "outputs": [],
   "source": [
    "# Lista de códigos de cultivos agrícolas da tabela 1612 do SIDRA \n",
    "culturas = [2688, 2689, 2690, 2691, 2692, 2693, 2694, 2695, 2696, 2697, 2698, 2699, 2700, 2701, 2702, 2703, 2704, 2705, 2706, 2707,\n",
    "            2708, 2709, 2710, 2711, 2712, 2713, 2714, 2715, 2716, 109179, 109180]\n",
    "\n",
    "contador = 1"
   ]
  },
  {
   "cell_type": "code",
   "execution_count": null,
   "metadata": {},
   "outputs": [],
   "source": [
    "for ano in range(2003, ultimo_ano):\n",
    "    for cultura in culturas:\n",
    "        if contador == 1:\n",
    "            df_1612 = pd.read_json(f'https://apisidra.ibge.gov.br/values/t/1612/n6/all/v/216/p/{ano}/c81/{cultura}')\n",
    "            contador += 1\n",
    "        else:\n",
    "            df_1612 = pd.concat(\n",
    "                [df_1612,\n",
    "                 (pd.read_json(f'https://apisidra.ibge.gov.br/values/t/1612/n6/all/v/216/p/{ano}/c81/{cultura}')\n",
    "                  .iloc[1:])],\n",
    "                  ignore_index=True\n",
    "                  )\n",
    "            contador += 1\n",
    "\n",
    "df_1612.to_json(f'{raiz}/bronze_{fonte}_{dataset_name}_{variavel}.json')\n",
    "\n",
    "print(f'Foram contabilizadas {contador} repetições de dados de áreas de colheita raspados.')"
   ]
  },
  {
   "cell_type": "markdown",
   "metadata": {},
   "source": [
    "#### Prata"
   ]
  },
  {
   "cell_type": "markdown",
   "metadata": {},
   "source": [
    "| Código | Cultura                            |\n",
    "|--------|------------------------------------|\n",
    "| 2688   | Abacaxi*                           |\n",
    "| 2689   | Algodão herbáceo (em caroço)       |\n",
    "| 2690   | Alho                               |\n",
    "| 2691   | Amendoim (em casca)                |\n",
    "| 2692   | Arroz (em casca)                   |\n",
    "| 2693   | Aveia (em grão)                    |\n",
    "| 2694   | Batata-doce                        |\n",
    "| 2695   | Batata-inglesa                     |\n",
    "| 2696   | Cana-de-açúcar                     |\n",
    "| 2697   | Cebola                             |\n",
    "| 2698   | Centeio (em grão)                  |\n",
    "| 2699   | Cevada (em grão)                   |\n",
    "| 2700   | Ervilha (em grão)                  |\n",
    "| 2701   | Fava (em grão)                     |\n",
    "| 2702   | Feijão (em grão)                   |\n",
    "| 2703   | Fumo (em folha)                    |\n",
    "| 2704   | Juta (fibra)                       |\n",
    "| 2705   | Linho (semente)                    |\n",
    "| 2706   | Malva (fibra)                      |\n",
    "| 2707   | Mamona (baga)                      |\n",
    "| 2708   | Mandioca                           |\n",
    "| 2709   | Melancia                           |\n",
    "| 2710   | Melão                              |\n",
    "| 2711   | Milho (em grão)                    |\n",
    "| 2712   | Rami (fibra)                       |\n",
    "| 2713   | Soja (em grão)                     |\n",
    "| 2714   | Sorgo (em grão)                    |\n",
    "| 2715   | Tomate                             |\n",
    "| 2716   | Trigo (em grão)                    |\n",
    "| 109179 | Girassol (em grão)                 |\n",
    "| 109180 | Triticale (em grão)                |"
   ]
  },
  {
   "cell_type": "code",
   "execution_count": 3,
   "metadata": {},
   "outputs": [],
   "source": [
    "# Tratamento dos dados\n",
    "df_1612 = (\n",
    "    pd.read_json(f'{raiz}/bronze_{fonte}_{dataset_name}_{variavel}.json')\n",
    "          .drop(0, axis = 0) # Exclusão da linha relativa a descrição de cada coluna\n",
    "          .filter(['D1C', 'D3C', 'D4C', 'V']) # Seleção das colunas a serem utilizadas\n",
    "          .assign(**{\n",
    "            'area': lambda df: pd.to_numeric(df['V'], errors='coerce'), # Coluna \"area\" como float a partir da coluna \"V\". Em hectares\n",
    "            'geocodigo': lambda df: df['D1C'].astype(int), # Coluna de códigos do IBGE para cada município em inteiro, a partir da coluna \"D1C\"\n",
    "            'data': lambda df: pd.to_datetime(df['D3C'], format='%Y'), # Coluna \"data\" em datetime baseado na ISO 8601, convertido da coluna \"D3C\"\n",
    "            'cultura': lambda df: df['D4C'].astype(int) # Coluna de códigos relativos aos cultivos agrícolas em inteiro, a partir da coluna \"D4C\" \n",
    "            })\n",
    "          .drop(['D1C', 'D3C', 'D4C', 'V'], axis='columns') # Exclusão das colunas originais\n",
    "          .dropna(subset='area') # Limpeza de linhas com possíveis valores nulos encontrados apenas na coluna \"area\"\n",
    "          .set_index(['geocodigo', 'data', 'cultura']) # Organização das novas colunas\n",
    ")\n",
    "\n",
    "df_1612.to_parquet(f'{raiz}/prata_{fonte}_{dataset_name}_{variavel}.parquet') # Exportação em .parquet"
   ]
  },
  {
   "cell_type": "markdown",
   "metadata": {},
   "source": [
    "### Ouro"
   ]
  },
  {
   "cell_type": "code",
   "execution_count": 4,
   "metadata": {},
   "outputs": [],
   "source": [
    "dataset_ouro = 'ouro_volume_agricola_lavouras'"
   ]
  },
  {
   "cell_type": "code",
   "execution_count": 5,
   "metadata": {},
   "outputs": [],
   "source": [
    "# Junção das quatro tabelas de cultivos com dupla safra\n",
    "dfs = ('df_839', 'df_1000', 'df_1001', 'df_1002') # Conjunto com nomes das tabelas a serem utilizados nos dataframes\n",
    "tabelas = ('tab839_milho', 'tab1000_amendoim', 'tab1001_batata-inglesa', 'tab1002_feijao') # Conjunto com os nomes das tabelas encontradas nos nomes dos arquivos\n",
    "\n",
    "# Criação de dataframe vazio para guardar as tabelas concatenadas\n",
    "dfx = pd.DataFrame()\n",
    "\n",
    "# Iteração de cada tabela \n",
    "for df, tabela in zip(dfs, tabelas):\n",
    "    globals()[df] = (pd.read_parquet(f'{raiz}/prata_{fonte}_{tabela}_{variavel}.parquet')\n",
    "                     .reset_index()\n",
    "                     .assign(area=lambda x: x.area.replace({nan:0})) # Substituição de dado inválido por zero\n",
    "                     )\n",
    "    #Criação de dataframe distinto do primeiro para que os dados de fração da primeira safra (FPS) batam com respectivos municípios e anos\n",
    "    globals()[df + '_fps'] = (globals()[df]\n",
    "        .filter(['geocodigo', 'data', 'cultura'])\n",
    "        .drop_duplicates()\n",
    "        .reset_index(drop=True)\n",
    "        .assign( # Cálculo da FPS de cada cultura a partir da condição de qual cultura é\n",
    "            FPS=globals()[df].iloc[1::3, 4].reset_index(drop=True) / globals()[df].iloc[::3, 4].reset_index(drop=True) \n",
    "                    if (globals()[df].cultura.iloc[0] == 2711 or globals()[df].cultura.iloc[0] == 2691) else # Milho ou Amendoim\n",
    "                    globals()[df].iloc[1::4, 4].reset_index(drop=True) / globals()[df].iloc[::4, 4].reset_index(drop=True)\n",
    "        )\n",
    "        .convert_dtypes()\n",
    "    )\n",
    "    # Concatenação dos dataframes\n",
    "    dfx = pd.concat([dfx, globals()[df + '_fps']]).reset_index(drop=True)"
   ]
  },
  {
   "cell_type": "code",
   "execution_count": 6,
   "metadata": {},
   "outputs": [],
   "source": [
    "# Leitura dos dados da base prata da tabela 1612 do SIDRA\n",
    "df_1612 = pd.read_parquet(f'{raiz}/prata_{fonte}_{dataset_name}_{variavel}.parquet')"
   ]
  },
  {
   "cell_type": "code",
   "execution_count": 7,
   "metadata": {},
   "outputs": [],
   "source": [
    "# Desenvolvimento de dataframe com dados da primeira safra\n",
    "df_1612_ps = (df_1612.reset_index()\n",
    "              .merge(dfx, # Junção do dataframe de lavouras temporárias com o de cultivos agrícolas de dupla safra \n",
    "                     how='left',\n",
    "                     on=['geocodigo', 'data', 'cultura']\n",
    "                     )\n",
    "              .assign(FPS=lambda x: x.FPS.replace({nan:1})) # Substituição dos dados inválidos por 1 \n",
    "              .assign(valor=lambda df: df.area * df.FPS) # Nova coluna resultado da multiplicação de cada valor da coluna \"area\" (dataframe da tabela 1612) com o de cada valor da coluna \"FPS\" (dataframe de dupla safra) \n",
    "              .dropna(subset='valor') # Descarte de linhas com possíveis valores nulos encontrados apenas na coluna \"valor\"\n",
    "              .drop(['area','FPS'], axis='columns') # Exclusão das colunas agora desnecessárias\n",
    "              .convert_dtypes() # Conversão de tipos de dados, para caso tenha algum como \"object\"\n",
    "              .assign(\n",
    "                  safra='1a. safra',\n",
    "                  valor=lambda df: df.apply(lambda x:\n",
    "                                            x.valor * 0.17 if (x.cultura == 2689 and str(x.geocodigo)[:2] == '51') else # Condição caso valores forem 'algodão herbáceo' em cultura e 'Mato Grosso' como UF\n",
    "                                            x.valor * 0.79 if (x.cultura == 2689 and str(x.geocodigo)[:2] == '50') else # Condição caso valores forem 'algodão herbáceo' em cultura e 'Mato Grosso do Sul' como UF\n",
    "                                            0 if (x.cultura == 2689 and str(x.geocodigo)[:2] not in ('17', '21', '22', '23', '24', '25', '26', '27', '28', '29', '50', '51')) else # Condição caso seja 'algodão herbáceo' em cultura e não sejam as UFs 'TO', estados do NO, 'MT' e 'MS'\n",
    "                                            0 if (x.cultura in (2693, 2698, 2699, 2705, 2714, 2716, 109179, 109180)) else # Condição caso sejam os cultivos 'aveia', 'centeio', 'linho', 'sorgo', 'trigo', 'girassol' e 'triticale'\n",
    "                                            x.valor, axis = 1) # Sem cálculo caso não se enquadre em nenhuma das condições anteriores\n",
    "                                             )\n",
    "              .reset_index(drop=True) # Criação de novo índice ordenado, descartando o anterior\n",
    "            )\n",
    "\n",
    "#df_1612_ps.to_parquet(f'{raiz}/{dataset_ouro}_primeira_safra.parquet', index=False)"
   ]
  },
  {
   "cell_type": "code",
   "execution_count": 10,
   "metadata": {},
   "outputs": [],
   "source": [
    "# Desenvolvimento de dataframe com dados da segunda safra\n",
    "df_1612_ss = (pd.merge(\n",
    "                        df_1612.dropna(subset='area'), df_1612_ps, # Junção do dataframe original de lavouras temporárias com o de primeira safra \n",
    "                        how='left',\n",
    "                        on=['geocodigo', 'data', 'cultura']\n",
    "                      )\n",
    "                      .assign(valor=lambda x: (x.area - x.valor).where(pd.notna(x.valor), x.area), # Nova coluna com dados relativos a segunda safra\n",
    "                              safra='2a. safra')\n",
    "                      .drop('area', axis='columns')\n",
    "                )\n",
    "\n",
    "#df_1612_ps.to_parquet(f'{raiz}/{dataset_ouro}_segunda_safra.parquet', index=False)"
   ]
  },
  {
   "cell_type": "code",
   "execution_count": 11,
   "metadata": {},
   "outputs": [],
   "source": [
    "# Desenvolvimento de dataframe com dados organizados pelos cultivos agrícolas e suas safras\n",
    "df_1612_final = (pd.concat([df_1612_ps, df_1612_ss], ignore_index=True)\n",
    "                 .query('valor != 0') # Exclusão de dados iguais a zero por serem desprezíveis\n",
    "                 .set_index(['geocodigo', 'data', 'cultura', 'safra'])\n",
    "                 )\n",
    "#df_1612_final.to_csv(f'{raiz}/{dataset_ouro}_temporarias.csv')"
   ]
  },
  {
   "cell_type": "code",
   "execution_count": 16,
   "metadata": {},
   "outputs": [],
   "source": [
    "# Exportação para uso no indicador de Área Agropecuária\n",
    "(\n",
    "    df_1612_final\n",
    "    .reset_index()\n",
    "    .assign(geocodigo_uf = lambda df: df.geocodigo// 100000)\n",
    "    .groupby(['geocodigo_uf', 'data', 'cultura', 'safra'])\n",
    "    .agg({'valor':'sum'})\n",
    "    .rename_axis(index={'geocodigo_uf': 'geocodigo'})\n",
    ").to_csv(f'{raiz}/ouro_area_agropecuaria_lavouras_temporarias.csv')"
   ]
  },
  {
   "cell_type": "code",
   "execution_count": 10,
   "metadata": {},
   "outputs": [],
   "source": [
    "# Desenvolvimento de dataframe com valores totais por municípios\n",
    "df_1612_consolidado_munic = (df_1612_final.reset_index()\n",
    "                             .groupby(['geocodigo', 'data', 'safra'])\n",
    "                             .agg({'valor':sum})\n",
    "                             )\n",
    "df_1612_consolidado_munic.to_csv(f'{raiz}/{dataset_ouro}_temporarias_munic.csv')"
   ]
  },
  {
   "cell_type": "code",
   "execution_count": 11,
   "metadata": {},
   "outputs": [],
   "source": [
    "# Desenvolvimento de dataframe com valores totais por Estados\n",
    "df_1612_consolidado_uf = (df_1612_final.reset_index()\n",
    "                          .assign(geocodigo_uf = lambda df: df.geocodigo// 100000)\n",
    "                          .groupby(['geocodigo_uf', 'data', 'safra'])\n",
    "                          .agg({'valor':sum})\n",
    "                          .rename_axis(index={'geocodigo_uf': 'geocodigo'})\n",
    "                          )\n",
    "df_1612_consolidado_uf.to_csv(f'{raiz}/{dataset_ouro}_temporarias_uf.csv')"
   ]
  }
 ],
 "metadata": {
  "kernelspec": {
   "display_name": "venv",
   "language": "python",
   "name": "python3"
  },
  "language_info": {
   "codemirror_mode": {
    "name": "ipython",
    "version": 3
   },
   "file_extension": ".py",
   "mimetype": "text/x-python",
   "name": "python",
   "nbconvert_exporter": "python",
   "pygments_lexer": "ipython3",
   "version": "3.12.3"
  }
 },
 "nbformat": 4,
 "nbformat_minor": 2
}
