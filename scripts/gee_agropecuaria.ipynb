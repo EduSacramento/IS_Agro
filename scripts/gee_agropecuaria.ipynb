{
 "cells": [
  {
   "cell_type": "code",
   "execution_count": 1,
   "metadata": {},
   "outputs": [],
   "source": [
    "import pandas as pd\n",
    "import numpy as np\n",
    "\n",
    "import requests"
   ]
  },
  {
   "cell_type": "code",
   "execution_count": 2,
   "metadata": {},
   "outputs": [],
   "source": [
    "fonte = 'mcti'\n",
    "dataset_name = 'gee_agropecuaria'\n",
    "raiz = '/home/eduardo/repositorios/IS_Agro/databases'"
   ]
  },
  {
   "cell_type": "markdown",
   "metadata": {},
   "source": [
    "### Bronze"
   ]
  },
  {
   "cell_type": "code",
   "execution_count": 3,
   "metadata": {},
   "outputs": [
    {
     "name": "stdout",
     "output_type": "stream",
     "text": [
      "None\n"
     ]
    }
   ],
   "source": [
    "xlsx = requests.get('https://www.gov.br/mcti/pt-br/acompanhe-o-mcti/cgcl/clima/arquivos/arquivos_bi/5-aba/4cn_uf_agropecuaria.xlsx')\n",
    "print(xlsx.raise_for_status())  # Verifica se o download foi bem-sucedido\n",
    "\n",
    "# Salvar o arquivo .xlsx no disco\n",
    "with open(f'{raiz}/bronze_{fonte}_{dataset_name}.xlsx', 'wb') as arquivo:\n",
    "    arquivo.write(xlsx.content)"
   ]
  },
  {
   "cell_type": "markdown",
   "metadata": {},
   "source": [
    "### Prata"
   ]
  },
  {
   "cell_type": "markdown",
   "metadata": {},
   "source": [
    "Emissões de Gases do Efeito Estufa (GEE) do setor agropecuário\n",
    "\n",
    "Unidade: Tonelada"
   ]
  },
  {
   "cell_type": "code",
   "execution_count": 4,
   "metadata": {},
   "outputs": [],
   "source": [
    "df_prata = pd.DataFrame() # Criação de dataframe vazio para uso posterior\n",
    "\n",
    "# Abas das tabelas na planilha bronze\n",
    "tabelas = pd.ExcelFile(f'{raiz}/bronze_{fonte}_{dataset_name}.xlsx').sheet_names"
   ]
  },
  {
   "cell_type": "code",
   "execution_count": 5,
   "metadata": {},
   "outputs": [],
   "source": [
    "for composto in tabelas:\n",
    "    df = (pd.read_excel(f'{raiz}/bronze_{fonte}_{dataset_name}.xlsx',\n",
    "                        sheet_name=composto,\n",
    "                        header=5, \n",
    "                        nrows=27, \n",
    "                        index_col=0\n",
    "                        )\n",
    "                        .rename_axis('uf')\n",
    "                        .reset_index()\n",
    "                        .merge(pd.read_parquet(f'{raiz}/prata_ibge_geocodigo.parquet') # Banco de dados com geocódigos\n",
    "                            .filter(['UF-id', 'UF-nome'])\n",
    "                            .drop_duplicates(), # Exclusão de duplicatas (geradas por ser um BD com municípios)\n",
    "                            how='left',\n",
    "                            left_on='uf',\n",
    "                            right_on='UF-nome'\n",
    "                                )\n",
    "                        .drop(columns=['uf', 'UF-nome']) # Exclusão de colunas desnecessárias para o prosseguimento\n",
    "                        .melt(\n",
    "                            id_vars='UF-id', # Coluna a ser mantida\n",
    "                            var_name='data', # Nome da nova coluna com os dados transformados em linhas\n",
    "                            value_name='valor' # Nome da nova coluna com os valores das antigas colunas\n",
    "                                )\n",
    "                        .query('valor != 0.0') # Exclusão de registros que possuam valor zerado\n",
    "                        .rename(columns={'UF-id':'geocodigo'})\n",
    "                        .assign(**{\n",
    "                            'data': lambda df: pd.to_datetime(df['data'], format='%Y'), # Conversão de número inteiro para formato de data\n",
    "                            'fonte': f'Emissão de {composto}', # Criação de nova coluna de informação do que representa o dado\n",
    "                                })\n",
    "                    )\n",
    "    df_prata = (pd.concat([df_prata, df],\n",
    "                         ignore_index=True)\n",
    "                )\n",
    "\n",
    "(\n",
    "    df_prata\n",
    "    .convert_dtypes()\n",
    "    .sort_values(by=['geocodigo', 'data']) # Organização dos dados\n",
    "    .set_index(['geocodigo', 'data', 'fonte'])\n",
    ").to_parquet(f'{raiz}/prata_{fonte}_{dataset_name}.parquet')"
   ]
  },
  {
   "cell_type": "markdown",
   "metadata": {},
   "source": [
    "### Ouro"
   ]
  },
  {
   "cell_type": "code",
   "execution_count": null,
   "metadata": {},
   "outputs": [],
   "source": []
  },
  {
   "cell_type": "code",
   "execution_count": 6,
   "metadata": {},
   "outputs": [
    {
     "name": "stderr",
     "output_type": "stream",
     "text": [
      "/tmp/ipykernel_61780/3678967178.py:20: FutureWarning: Downcasting behavior in `replace` is deprecated and will be removed in a future version. To retain the old behavior, explicitly call `result.infer_objects(copy=False)`. To opt-in to the future behavior, set `pd.set_option('future.no_silent_downcasting', True)`\n",
      "  .replace({'Emissão de CO2e': 'CO2e Total'})\n"
     ]
    }
   ],
   "source": [
    "df_prata = pd.read_parquet(f'{raiz}/prata_{fonte}_{dataset_name}.parquet').reset_index()\n",
    "\n",
    "df_ouro = (\n",
    "    pd.concat([\n",
    "        df_prata,\n",
    "        pd.DataFrame()\n",
    "        .assign(\n",
    "            geocodigo = df_prata.geocodigo,\n",
    "            data = df_prata.data,\n",
    "            N2O_GWP = lambda x: np.where(df_prata.fonte == 'Emissão de N2O', df_prata.valor * 310, pd.NA),\n",
    "            CH4_GWP = lambda x: np.where(df_prata.fonte == 'Emissão de CH4', df_prata.valor * 21, pd.NA),\n",
    "            fonte = lambda n: np.where(n.N2O_GWP.notnull(), 'N2O - GWP CO2e',\n",
    "                                   np.where(n.CH4_GWP.notnull(), 'CH4 - GWP CO2e', pd.NA)),\n",
    "            valor = lambda x: np.where(x.fonte == 'CH4 - GWP CO2e', x.CH4_GWP,\n",
    "                                 np.where(x.fonte == 'N2O - GWP CO2e', x.N2O_GWP, pd.NA))\n",
    "                                 )\n",
    "        .query('fonte.notnull()')\n",
    "        .drop(columns=['N2O_GWP', 'CH4_GWP'])\n",
    "    ])\n",
    "    .replace({'Emissão de CO2e': 'CO2e Total'})\n",
    "    .sort_values(['data', 'geocodigo'])\n",
    "    .reset_index(drop=True)\n",
    ")"
   ]
  },
  {
   "cell_type": "code",
   "execution_count": 7,
   "metadata": {},
   "outputs": [],
   "source": [
    "df_ouro = (\n",
    "    df_ouro\n",
    "    .rename(columns={\n",
    "        'geocodigo': 'state',\n",
    "        'valor': 'value',\n",
    "        'data': 'date',\n",
    "        'fonte': 'label'\n",
    "        })\n",
    "    .assign(country = 76)\n",
    "    .filter(['country', 'state', 'date', 'label', 'value'])\n",
    ")\n",
    "\n",
    "df_ouro.to_csv(f'{raiz}/ouro_gee_agropecuaria.csv', index=False)"
   ]
  }
 ],
 "metadata": {
  "kernelspec": {
   "display_name": "venv",
   "language": "python",
   "name": "python3"
  },
  "language_info": {
   "codemirror_mode": {
    "name": "ipython",
    "version": 3
   },
   "file_extension": ".py",
   "mimetype": "text/x-python",
   "name": "python",
   "nbconvert_exporter": "python",
   "pygments_lexer": "ipython3",
   "version": "3.12.3"
  }
 },
 "nbformat": 4,
 "nbformat_minor": 2
}
