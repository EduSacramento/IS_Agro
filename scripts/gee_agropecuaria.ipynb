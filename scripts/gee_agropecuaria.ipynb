{
 "cells": [
  {
   "cell_type": "code",
   "execution_count": 1,
   "metadata": {},
   "outputs": [],
   "source": [
    "import pandas as pd\n",
    "import requests"
   ]
  },
  {
   "cell_type": "code",
   "execution_count": 2,
   "metadata": {},
   "outputs": [],
   "source": [
    "fonte = 'mcti'\n",
    "dataset_name = 'gee_agropecuaria'\n",
    "raiz = '/home/eduardo/repositorios/IS_Agro/databases'"
   ]
  },
  {
   "cell_type": "markdown",
   "metadata": {},
   "source": [
    "### Bronze"
   ]
  },
  {
   "cell_type": "code",
   "execution_count": 9,
   "metadata": {},
   "outputs": [
    {
     "name": "stdout",
     "output_type": "stream",
     "text": [
      "None\n"
     ]
    }
   ],
   "source": [
    "xlsx = requests.get('https://www.gov.br/mcti/pt-br/acompanhe-o-mcti/cgcl/clima/arquivos/arquivos_bi/5-aba/4cn_uf_agropecuaria.xlsx')\n",
    "print(xlsx.raise_for_status())  # Verifica se o download foi bem-sucedido\n",
    "\n",
    "# Salvar o arquivo .xlsx no disco\n",
    "with open(f'{raiz}/bronze_{fonte}_{dataset_name}.xlsx', 'wb') as arquivo:\n",
    "    arquivo.write(xlsx.content)"
   ]
  },
  {
   "cell_type": "markdown",
   "metadata": {},
   "source": [
    "### Prata"
   ]
  },
  {
   "cell_type": "markdown",
   "metadata": {},
   "source": [
    "Emissões de Gases do Efeito Estufa (GEE) do setor agropecuário\n",
    "\n",
    "Unidade: Tonelada"
   ]
  },
  {
   "cell_type": "code",
   "execution_count": 4,
   "metadata": {},
   "outputs": [],
   "source": [
    "df_prata = pd.DataFrame() # Criação de dataframe vazio para uso posterior\n",
    "\n",
    "# Abas das tabelas na planilha bronze\n",
    "tabelas = pd.ExcelFile(f'{raiz}/bronze_{fonte}_{dataset_name}.xlsx').sheet_names"
   ]
  },
  {
   "cell_type": "code",
   "execution_count": 6,
   "metadata": {},
   "outputs": [],
   "source": [
    "for composto in tabelas:\n",
    "    df = (pd.read_excel(f'{raiz}/bronze_{fonte}_{dataset_name}.xlsx',\n",
    "                        sheet_name=composto,\n",
    "                        header=5, \n",
    "                        nrows=27, \n",
    "                        index_col=0\n",
    "                        )\n",
    "                        .rename_axis('uf')\n",
    "                        .reset_index()\n",
    "                        .merge(pd.read_parquet(f'{raiz}/prata_ibge_geocodigo.parquet') # Banco de dados com geocódigos\n",
    "                            .filter(['UF-id', 'UF-nome'])\n",
    "                            .drop_duplicates(), # Exclusão de duplicatas (geradas por ser um BD com municípios)\n",
    "                            how='left',\n",
    "                            left_on='uf',\n",
    "                            right_on='UF-nome'\n",
    "                                )\n",
    "                        .drop(columns=['uf', 'UF-nome']) # Exclusão de colunas desnecessárias para o prosseguimento\n",
    "                        .melt(\n",
    "                            id_vars='UF-id', # Coluna a ser mantida\n",
    "                            var_name='data', # Nome da nova coluna com os dados transformados em linhas\n",
    "                            value_name='valor' # Nome da nova coluna com os valores das antigas colunas\n",
    "                                )\n",
    "                        .query('valor != 0.0') # Exclusão de registros que possuam valor zerado\n",
    "                        .rename(columns={'UF-id':'geocodigo'})\n",
    "                        .assign(**{\n",
    "                            'data': lambda df: pd.to_datetime(df['data'], format='%Y'), # Conversão de número inteiro para formato de data\n",
    "                            'fonte': f'Emissão de {composto}', # Criação de nova coluna de informação do que representa o dado\n",
    "                                })\n",
    "                    )\n",
    "    df_prata = (pd.concat([df_prata, df],\n",
    "                         ignore_index=True)\n",
    "                )\n",
    "\n",
    "(\n",
    "    df_prata\n",
    "    .convert_dtypes()\n",
    "    .sort_values(by=['geocodigo', 'data']) # Organização dos dados\n",
    "    .set_index(['geocodigo', 'data', 'fonte'])\n",
    "    .to_parquet(f'{raiz}/prata_{fonte}_{dataset_name}.parquet')\n",
    ")"
   ]
  },
  {
   "cell_type": "markdown",
   "metadata": {},
   "source": [
    "### Ouro"
   ]
  },
  {
   "cell_type": "code",
   "execution_count": 10,
   "metadata": {},
   "outputs": [],
   "source": [
    "df = (\n",
    "    pd.read_parquet(f'{raiz}/prata_{fonte}_{dataset_name}.parquet')\n",
    "    .reset_index()\n",
    "    .rename(columns={\n",
    "        'geocodigo': 'state',\n",
    "        'valor': 'value',\n",
    "        'data': 'date',\n",
    "        'fonte': 'label'\n",
    "        })\n",
    "    .assign(country = 1)\n",
    "    .set_index(['country', 'state', 'date', 'label'])\n",
    ")\n",
    "\n",
    "df.to_csv(f'{raiz}/ouro_gee_agropecuaria.csv')"
   ]
  }
 ],
 "metadata": {
  "kernelspec": {
   "display_name": "venv",
   "language": "python",
   "name": "python3"
  },
  "language_info": {
   "codemirror_mode": {
    "name": "ipython",
    "version": 3
   },
   "file_extension": ".py",
   "mimetype": "text/x-python",
   "name": "python",
   "nbconvert_exporter": "python",
   "pygments_lexer": "ipython3",
   "version": "3.12.3"
  }
 },
 "nbformat": 4,
 "nbformat_minor": 2
}
