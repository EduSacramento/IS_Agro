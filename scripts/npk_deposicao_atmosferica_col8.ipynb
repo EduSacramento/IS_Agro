{
 "cells": [
  {
   "cell_type": "code",
   "execution_count": 1,
   "metadata": {},
   "outputs": [],
   "source": [
    "import pandas as pd"
   ]
  },
  {
   "cell_type": "code",
   "execution_count": 2,
   "metadata": {},
   "outputs": [],
   "source": [
    "dataset_name = 'mapbiomas_cobertura_col8'\n",
    "raiz = '/home/eduardo/repositorios/IS_Agro/databases'"
   ]
  },
  {
   "attachments": {},
   "cell_type": "markdown",
   "metadata": {},
   "source": [
    "### Bronze"
   ]
  },
  {
   "cell_type": "code",
   "execution_count": 3,
   "metadata": {},
   "outputs": [],
   "source": [
    "(pd.read_excel('https://storage.googleapis.com/mapbiomas-public/initiatives/brasil/collection_8/downloads/statistics/tabela_geral_mapbiomas_col8_biomas_municipios.xlsx',\n",
    "               sheet_name = 1)\n",
    " .to_excel(f'{raiz}/bronze_{dataset_name}.xlsx',\n",
    "           index=False)\n",
    ")"
   ]
  },
  {
   "attachments": {},
   "cell_type": "markdown",
   "metadata": {},
   "source": [
    "### Fase Prata"
   ]
  },
  {
   "attachments": {},
   "cell_type": "markdown",
   "metadata": {},
   "source": [
    "|---------------------------------------------------------------------|\n",
    "|                              COLEÇÃO 8 - CLASSES                              |\n",
    "|-------------------------------------|---------------------------------|-------|\n",
    "| Categoria                           | Subcategoria                    | ID    |\n",
    "|-------------------------------------|---------------------------------|-------|\n",
    "| 3.1. Pastagem                       |                                 | 15    |\n",
    "| 3.2. Agricultura                    |                                 | 18    |\n",
    "|                                     | 3.2.1. Lavoura Temporária      | 19    |\n",
    "|                                     |     3.2.1.1. Soja             | 39    |\n",
    "|                                     |     3.2.1.2. Cana             | 20    |\n",
    "|                                     |     3.2.1.3. Arroz (beta)    | 40    |\n",
    "|                                     |     3.2.1.4. Algodão (beta)  | 62    |\n",
    "|                                     |     3.2.1.5. Outras Lavouras Temporárias | 41 |\n",
    "|                                     | 3.2.2. Lavoura Perene          | 36    |\n",
    "|                                     |     3.2.2.1. Café             | 46    |\n",
    "|                                     |     3.2.2.2. Citrus           | 47    |\n",
    "|                                     |     3.2.2.3. Dendê           | 35    |\n",
    "|                                     |     3.2.1.3. Outras Lavouras Perenes | 48 |\n",
    "| 3.4. Mosaico de Usos                |                                 | 21    |\n",
    "\n",
    "\n",
    "Descrição dos códigos: https://brasil.mapbiomas.org/wp-content/uploads/sites/4/2023/08/Legenda-Colecao-8-LEGEND-CODE.pdf"
   ]
  },
  {
   "cell_type": "code",
   "execution_count": 4,
   "metadata": {},
   "outputs": [],
   "source": [
    "anos = (pd.read_excel(f'{raiz}/bronze_{dataset_name}.xlsx',\n",
    "               usecols=lambda x: isinstance(x, int))\n",
    "        .columns\n",
    "        .drop(range(1985, 2000))\n",
    "        .tolist()\n",
    "        )"
   ]
  },
  {
   "cell_type": "code",
   "execution_count": 5,
   "metadata": {},
   "outputs": [],
   "source": [
    "df = (pd.read_excel(f'{raiz}/bronze_{dataset_name}.xlsx')\n",
    "    .drop(range(1985, 2000), axis = 'columns')\n",
    "    .query('class_id in (15, 18, 19, 39, 20, 40, 62, 41, 36, 46, 47, 35, 48, 21)')\n",
    "    .assign(**{\n",
    "        'uf': lambda df: (df['geocode']// 100000)\n",
    "        }\n",
    "            )\n",
    "    .melt(\n",
    "        id_vars=['uf', 'geocode', 'class_id'],\n",
    "        value_vars=anos,\n",
    "        var_name='ano',\n",
    "        value_name='area_ha'\n",
    "        )\n",
    "    .dropna(subset='area_ha')\n",
    "    .convert_dtypes()\n",
    "    .rename(columns=\n",
    "            {\n",
    "                'geocode':'municipio',\n",
    "                'class_id':'classe_solo'\n",
    "             })\n",
    "    .set_index(['uf', 'municipio', 'ano', 'classe_solo'])\n",
    "    )"
   ]
  },
  {
   "cell_type": "code",
   "execution_count": 6,
   "metadata": {},
   "outputs": [],
   "source": [
    "df.to_parquet(f'{raiz}/prata_{dataset_name}_areaclass_agropecuaria.parquet')"
   ]
  },
  {
   "cell_type": "code",
   "execution_count": 7,
   "metadata": {},
   "outputs": [],
   "source": [
    "(df.reset_index()\n",
    " .assign(**{\n",
    "          'fonte': 'Deposição Atmosférica'\n",
    "          })\n",
    " .groupby(['uf', 'municipio', 'ano', 'fonte'])\n",
    " .agg({'area_ha':sum})\n",
    " .to_parquet(f'{raiz}/prata_{dataset_name}_areatotal_agropecuaria.parquet')\n",
    " )"
   ]
  },
  {
   "attachments": {},
   "cell_type": "markdown",
   "metadata": {},
   "source": [
    "### Fase Ouro"
   ]
  },
  {
   "attachments": {},
   "cell_type": "markdown",
   "metadata": {},
   "source": [
    "Área Destinada a Agropecuária (ha)\n",
    "Elementos (kg/ha ano)\n",
    "\n",
    "Cálculo: Cobertura Solo Municipal * (Parâmetro_X/1000)\n",
    "\n",
    "UF e Brasil = mil t\n",
    "\n",
    "NPK oriundo de deposição atmosférica incorporado ao solo (t)"
   ]
  },
  {
   "cell_type": "code",
   "execution_count": 8,
   "metadata": {},
   "outputs": [],
   "source": [
    "parametro_N = 5.5\n",
    "parametro_P = 0.3\n",
    "parametro_K = 3.1"
   ]
  },
  {
   "cell_type": "code",
   "execution_count": 13,
   "metadata": {},
   "outputs": [
    {
     "name": "stderr",
     "output_type": "stream",
     "text": [
      "/tmp/ipykernel_51983/1843221.py:1: FutureWarning: The argument 'use_nullable_dtypes' is deprecated and will be removed in a future version.Use dtype_backend='numpy_nullable' instead of use_nullable_dtype=True.\n",
      "  df = (pd.read_parquet(f'{raiz}/prata_mapbiomas_areatotal_agropecuaria.parquet',\n"
     ]
    }
   ],
   "source": [
    "df = (pd.read_parquet(f'{raiz}/prata_{dataset_name}_areatotal_agropecuaria.parquet')\n",
    "      .assign(**{\n",
    "          'N': lambda df: df['area_ha']*(parametro_N/1000),\n",
    "          'P': lambda df: df['area_ha']*(parametro_P/1000),\n",
    "          'K': lambda df: df['area_ha']*(parametro_K/1000)\n",
    "          })\n",
    "      .drop('area_ha', axis = 1)\n",
    "      .reset_index()\n",
    "      .convert_dtypes()\n",
    "      .melt(id_vars=['uf', 'ano', 'fonte'],\n",
    "            value_vars=['N', 'P', 'K'],\n",
    "            var_name='elemento',\n",
    "            value_name='valor')\n",
    "     .groupby(['uf', 'ano', 'fonte', 'elemento'])\n",
    "     .agg({'valor':sum})\n",
    "     .reset_index(level='elemento')\n",
    "     .sort_values(by=['elemento', 'uf'],\n",
    "                   key=lambda x: x.map({'N': 0, 'P': 1, 'K': 2}))\n",
    ")\n",
    "\n",
    "df.to_csv(f'{raiz}/ouro_npk_deposicao_atmosferica.csv')"
   ]
  },
  {
   "cell_type": "code",
   "execution_count": 14,
   "metadata": {},
   "outputs": [
    {
     "data": {
      "text/html": [
       "<div>\n",
       "<style scoped>\n",
       "    .dataframe tbody tr th:only-of-type {\n",
       "        vertical-align: middle;\n",
       "    }\n",
       "\n",
       "    .dataframe tbody tr th {\n",
       "        vertical-align: top;\n",
       "    }\n",
       "\n",
       "    .dataframe thead th {\n",
       "        text-align: right;\n",
       "    }\n",
       "</style>\n",
       "<table border=\"1\" class=\"dataframe\">\n",
       "  <thead>\n",
       "    <tr style=\"text-align: right;\">\n",
       "      <th></th>\n",
       "      <th></th>\n",
       "      <th></th>\n",
       "      <th>elemento</th>\n",
       "      <th>valor</th>\n",
       "    </tr>\n",
       "    <tr>\n",
       "      <th>uf</th>\n",
       "      <th>ano</th>\n",
       "      <th>fonte</th>\n",
       "      <th></th>\n",
       "      <th></th>\n",
       "    </tr>\n",
       "  </thead>\n",
       "  <tbody>\n",
       "    <tr>\n",
       "      <th rowspan=\"5\" valign=\"top\">11</th>\n",
       "      <th rowspan=\"3\" valign=\"top\">2000</th>\n",
       "      <th>Deposição Atmosférica</th>\n",
       "      <td>K</td>\n",
       "      <td>15943.223744</td>\n",
       "    </tr>\n",
       "    <tr>\n",
       "      <th>Deposição Atmosférica</th>\n",
       "      <td>N</td>\n",
       "      <td>28286.364707</td>\n",
       "    </tr>\n",
       "    <tr>\n",
       "      <th>Deposição Atmosférica</th>\n",
       "      <td>P</td>\n",
       "      <td>1542.89262</td>\n",
       "    </tr>\n",
       "    <tr>\n",
       "      <th rowspan=\"2\" valign=\"top\">2001</th>\n",
       "      <th>Deposição Atmosférica</th>\n",
       "      <td>K</td>\n",
       "      <td>16776.124492</td>\n",
       "    </tr>\n",
       "    <tr>\n",
       "      <th>Deposição Atmosférica</th>\n",
       "      <td>N</td>\n",
       "      <td>29764.09184</td>\n",
       "    </tr>\n",
       "    <tr>\n",
       "      <th>...</th>\n",
       "      <th>...</th>\n",
       "      <th>...</th>\n",
       "      <td>...</td>\n",
       "      <td>...</td>\n",
       "    </tr>\n",
       "    <tr>\n",
       "      <th rowspan=\"5\" valign=\"top\">53</th>\n",
       "      <th rowspan=\"2\" valign=\"top\">2021</th>\n",
       "      <th>Deposição Atmosférica</th>\n",
       "      <td>N</td>\n",
       "      <td>1488.10944</td>\n",
       "    </tr>\n",
       "    <tr>\n",
       "      <th>Deposição Atmosférica</th>\n",
       "      <td>P</td>\n",
       "      <td>81.169606</td>\n",
       "    </tr>\n",
       "    <tr>\n",
       "      <th rowspan=\"3\" valign=\"top\">2022</th>\n",
       "      <th>Deposição Atmosférica</th>\n",
       "      <td>K</td>\n",
       "      <td>826.18947</td>\n",
       "    </tr>\n",
       "    <tr>\n",
       "      <th>Deposição Atmosférica</th>\n",
       "      <td>N</td>\n",
       "      <td>1465.820028</td>\n",
       "    </tr>\n",
       "    <tr>\n",
       "      <th>Deposição Atmosférica</th>\n",
       "      <td>P</td>\n",
       "      <td>79.95382</td>\n",
       "    </tr>\n",
       "  </tbody>\n",
       "</table>\n",
       "<p>1863 rows × 2 columns</p>\n",
       "</div>"
      ],
      "text/plain": [
       "                              elemento         valor\n",
       "uf ano  fonte                                       \n",
       "11 2000 Deposição Atmosférica        K  15943.223744\n",
       "        Deposição Atmosférica        N  28286.364707\n",
       "        Deposição Atmosférica        P    1542.89262\n",
       "   2001 Deposição Atmosférica        K  16776.124492\n",
       "        Deposição Atmosférica        N   29764.09184\n",
       "...                                ...           ...\n",
       "53 2021 Deposição Atmosférica        N    1488.10944\n",
       "        Deposição Atmosférica        P     81.169606\n",
       "   2022 Deposição Atmosférica        K     826.18947\n",
       "        Deposição Atmosférica        N   1465.820028\n",
       "        Deposição Atmosférica        P      79.95382\n",
       "\n",
       "[1863 rows x 2 columns]"
      ]
     },
     "execution_count": 14,
     "metadata": {},
     "output_type": "execute_result"
    }
   ],
   "source": [
    "df"
   ]
  }
 ],
 "metadata": {
  "kernelspec": {
   "display_name": "venv",
   "language": "python",
   "name": "python3"
  },
  "language_info": {
   "codemirror_mode": {
    "name": "ipython",
    "version": 3
   },
   "file_extension": ".py",
   "mimetype": "text/x-python",
   "name": "python",
   "nbconvert_exporter": "python",
   "pygments_lexer": "ipython3",
   "version": "3.10.12"
  },
  "orig_nbformat": 4
 },
 "nbformat": 4,
 "nbformat_minor": 2
}
