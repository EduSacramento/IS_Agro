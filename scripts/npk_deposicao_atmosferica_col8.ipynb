{
 "cells": [
  {
   "cell_type": "code",
   "execution_count": 13,
   "metadata": {},
   "outputs": [],
   "source": [
    "import pandas as pd"
   ]
  },
  {
   "cell_type": "code",
   "execution_count": null,
   "metadata": {},
   "outputs": [],
   "source": [
    "dataset_name = 'mapbiomas_cobertura_col8'\n",
    "raiz = '../database'"
   ]
  },
  {
   "attachments": {},
   "cell_type": "markdown",
   "metadata": {},
   "source": [
    "### Bronze"
   ]
  },
  {
   "cell_type": "code",
   "execution_count": 2,
   "metadata": {},
   "outputs": [],
   "source": [
    "(pd.read_excel('https://storage.googleapis.com/mapbiomas-public/initiatives/brasil/collection_8/downloads/statistics/tabela_geral_mapbiomas_col8_biomas_municipios.xlsx',\n",
    "               sheet_name = 1)\n",
    " .to_excel(f'{raiz}/bronze_{dataset_name}.xlsx',\n",
    "           index=False)\n",
    ")"
   ]
  },
  {
   "attachments": {},
   "cell_type": "markdown",
   "metadata": {},
   "source": [
    "### Fase Prata"
   ]
  },
  {
   "attachments": {},
   "cell_type": "markdown",
   "metadata": {},
   "source": [
    "|---------------------------------------------------------------------|\n",
    "|                              COLEÇÃO 8 - CLASSES                              |\n",
    "|-------------------------------------|---------------------------------|-------|\n",
    "| Categoria                           | Subcategoria                    | ID    |\n",
    "|-------------------------------------|---------------------------------|-------|\n",
    "| 3.1. Pastagem                       |                                 | 15    |\n",
    "| 3.2. Agricultura                    |                                 | 18    |\n",
    "|                                     | 3.2.1. Lavoura Temporária      | 19    |\n",
    "|                                     |     3.2.1.1. Soja             | 39    |\n",
    "|                                     |     3.2.1.2. Cana             | 20    |\n",
    "|                                     |     3.2.1.3. Arroz (beta)    | 40    |\n",
    "|                                     |     3.2.1.4. Algodão (beta)  | 62    |\n",
    "|                                     |     3.2.1.5. Outras Lavouras Temporárias | 41 |\n",
    "|                                     | 3.2.2. Lavoura Perene          | 36    |\n",
    "|                                     |     3.2.2.1. Café             | 46    |\n",
    "|                                     |     3.2.2.2. Citrus           | 47    |\n",
    "|                                     |     3.2.2.3. Dendê           | 35    |\n",
    "|                                     |     3.2.1.3. Outras Lavouras Perenes | 48 |\n",
    "| 3.4. Mosaico de Usos                |                                 | 21    |\n",
    "\n",
    "\n",
    "Descrição dos códigos: https://brasil.mapbiomas.org/wp-content/uploads/sites/4/2023/08/Legenda-Colecao-8-LEGEND-CODE.pdf"
   ]
  },
  {
   "cell_type": "code",
   "execution_count": 2,
   "metadata": {},
   "outputs": [],
   "source": [
    "anos = (pd.read_excel(f'{raiz}/bronze_{dataset_name}.xlsx',\n",
    "               usecols=lambda x: isinstance(x, int))\n",
    "        .columns\n",
    "        .drop(range(1985, 2000))\n",
    "        .tolist()\n",
    "        )"
   ]
  },
  {
   "cell_type": "code",
   "execution_count": 14,
   "metadata": {},
   "outputs": [],
   "source": [
    "df = (pd.read_excel(f'{raiz}/bronze_{dataset_name}.xlsx')\n",
    "    .drop(range(1985, 2000), axis = 'columns')\n",
    "    .query('class_id in (15, 18, 19, 39, 20, 40, 62, 41, 36, 46, 47, 35, 48, 21)') #https://brasil.mapbiomas.org/wp-content/uploads/sites/4/2023/08/Legenda-Colecao-8-LEGEND-CODE.pdf\n",
    "    .assign(**{\n",
    "        'uf': lambda df: (df['geocode']// 100000)\n",
    "        }\n",
    "            )\n",
    "    .melt(\n",
    "        id_vars=['uf', 'geocode', 'class_id'],\n",
    "        value_vars=anos,\n",
    "        var_name='ano',\n",
    "        value_name='area_ha'\n",
    "        )\n",
    "    .dropna(subset='area_ha')\n",
    "    .convert_dtypes()\n",
    "    .rename(columns=\n",
    "            {\n",
    "                'geocode':'municipio',\n",
    "                'class_id':'classe_solo'\n",
    "             })\n",
    "    .set_index(['uf', 'municipio', 'ano', 'classe_solo'])\n",
    "    )"
   ]
  },
  {
   "cell_type": "code",
   "execution_count": 15,
   "metadata": {},
   "outputs": [],
   "source": [
    "df.to_parquet(f'{raiz}/prata_mapbiomas_areaclass_agropecuaria.parquet')"
   ]
  },
  {
   "cell_type": "code",
   "execution_count": 16,
   "metadata": {},
   "outputs": [],
   "source": [
    "(df.reset_index()\n",
    " .assign(**{\n",
    "          'fonte': 'Deposição Atmosférica'\n",
    "          })\n",
    " .groupby(['uf', 'municipio', 'ano', 'fonte'])\n",
    " .agg({'area_ha':sum})\n",
    " .to_parquet(f'{raiz}/prata_mapbiomas_areatotal_agropecuaria.parquet')\n",
    " )"
   ]
  },
  {
   "attachments": {},
   "cell_type": "markdown",
   "metadata": {},
   "source": [
    "### Fase Ouro"
   ]
  },
  {
   "attachments": {},
   "cell_type": "markdown",
   "metadata": {},
   "source": [
    "Área Destinada a Agropecuária (ha)\n",
    "Elementos (kg/ha ano)\n",
    "\n",
    "Cálculo: Cobertura Solo Municipal * (Parâmetro_X/1000)\n",
    "\n",
    "UF e Brasil = mil t\n",
    "\n",
    "NPK oriundo de deposição atmosférica incorporado ao solo (t)"
   ]
  },
  {
   "cell_type": "code",
   "execution_count": 17,
   "metadata": {},
   "outputs": [],
   "source": [
    "parametro_N = 5.5\n",
    "parametro_P = 0.3\n",
    "parametro_K = 3.1"
   ]
  },
  {
   "cell_type": "code",
   "execution_count": 20,
   "metadata": {},
   "outputs": [],
   "source": [
    "df = (pd.read_parquet(f'{raiz}/prata_areatotal_agropecuaria.parquet',\n",
    "                      use_nullable_dtypes=True)\n",
    "      .assign(**{\n",
    "          'N': lambda df: df['area_ha']*(parametro_N/1000),\n",
    "          'P': lambda df: df['area_ha']*(parametro_P/1000),\n",
    "          'K': lambda df: df['area_ha']*(parametro_K/1000)\n",
    "          })\n",
    "      .drop('area_ha', axis = 1)\n",
    "      .reset_index()\n",
    "      .convert_dtypes()\n",
    "      .melt(id_vars=['uf', 'ano', 'fonte'],\n",
    "            value_vars=['N', 'P', 'K'],\n",
    "            var_name='elemento',\n",
    "            value_name='valor')\n",
    "     .groupby(['uf', 'ano', 'fonte'])\n",
    "     .agg({'valor':sum})\n",
    ")\n",
    "\n",
    "df.to_csv(f'{raiz}/ouro_areatotal_agropecuaria.csv')"
   ]
  },
  {
   "cell_type": "code",
   "execution_count": 19,
   "metadata": {},
   "outputs": [
    {
     "data": {
      "text/html": [
       "<div>\n",
       "<style scoped>\n",
       "    .dataframe tbody tr th:only-of-type {\n",
       "        vertical-align: middle;\n",
       "    }\n",
       "\n",
       "    .dataframe tbody tr th {\n",
       "        vertical-align: top;\n",
       "    }\n",
       "\n",
       "    .dataframe thead th {\n",
       "        text-align: right;\n",
       "    }\n",
       "</style>\n",
       "<table border=\"1\" class=\"dataframe\">\n",
       "  <thead>\n",
       "    <tr style=\"text-align: right;\">\n",
       "      <th></th>\n",
       "      <th></th>\n",
       "      <th></th>\n",
       "      <th>valor</th>\n",
       "    </tr>\n",
       "    <tr>\n",
       "      <th>uf</th>\n",
       "      <th>ano</th>\n",
       "      <th>fonte</th>\n",
       "      <th></th>\n",
       "    </tr>\n",
       "  </thead>\n",
       "  <tbody>\n",
       "    <tr>\n",
       "      <th rowspan=\"5\" valign=\"top\">11</th>\n",
       "      <th>2000</th>\n",
       "      <th>Deposição Atmosférica</th>\n",
       "      <td>45772.481071</td>\n",
       "    </tr>\n",
       "    <tr>\n",
       "      <th>2001</th>\n",
       "      <th>Deposição Atmosférica</th>\n",
       "      <td>48163.71225</td>\n",
       "    </tr>\n",
       "    <tr>\n",
       "      <th>2002</th>\n",
       "      <th>Deposição Atmosférica</th>\n",
       "      <td>51016.817704</td>\n",
       "    </tr>\n",
       "    <tr>\n",
       "      <th>2003</th>\n",
       "      <th>Deposição Atmosférica</th>\n",
       "      <td>55005.538385</td>\n",
       "    </tr>\n",
       "    <tr>\n",
       "      <th>2004</th>\n",
       "      <th>Deposição Atmosférica</th>\n",
       "      <td>58299.379717</td>\n",
       "    </tr>\n",
       "    <tr>\n",
       "      <th>...</th>\n",
       "      <th>...</th>\n",
       "      <th>...</th>\n",
       "      <td>...</td>\n",
       "    </tr>\n",
       "    <tr>\n",
       "      <th rowspan=\"5\" valign=\"top\">53</th>\n",
       "      <th>2018</th>\n",
       "      <th>Deposição Atmosférica</th>\n",
       "      <td>2398.165591</td>\n",
       "    </tr>\n",
       "    <tr>\n",
       "      <th>2019</th>\n",
       "      <th>Deposição Atmosférica</th>\n",
       "      <td>2401.287179</td>\n",
       "    </tr>\n",
       "    <tr>\n",
       "      <th>2020</th>\n",
       "      <th>Deposição Atmosférica</th>\n",
       "      <td>2403.828788</td>\n",
       "    </tr>\n",
       "    <tr>\n",
       "      <th>2021</th>\n",
       "      <th>Deposição Atmosférica</th>\n",
       "      <td>2408.031639</td>\n",
       "    </tr>\n",
       "    <tr>\n",
       "      <th>2022</th>\n",
       "      <th>Deposição Atmosférica</th>\n",
       "      <td>2371.963318</td>\n",
       "    </tr>\n",
       "  </tbody>\n",
       "</table>\n",
       "<p>621 rows × 1 columns</p>\n",
       "</div>"
      ],
      "text/plain": [
       "                                      valor\n",
       "uf ano  fonte                              \n",
       "11 2000 Deposição Atmosférica  45772.481071\n",
       "   2001 Deposição Atmosférica   48163.71225\n",
       "   2002 Deposição Atmosférica  51016.817704\n",
       "   2003 Deposição Atmosférica  55005.538385\n",
       "   2004 Deposição Atmosférica  58299.379717\n",
       "...                                     ...\n",
       "53 2018 Deposição Atmosférica   2398.165591\n",
       "   2019 Deposição Atmosférica   2401.287179\n",
       "   2020 Deposição Atmosférica   2403.828788\n",
       "   2021 Deposição Atmosférica   2408.031639\n",
       "   2022 Deposição Atmosférica   2371.963318\n",
       "\n",
       "[621 rows x 1 columns]"
      ]
     },
     "execution_count": 19,
     "metadata": {},
     "output_type": "execute_result"
    }
   ],
   "source": [
    "df"
   ]
  }
 ],
 "metadata": {
  "kernelspec": {
   "display_name": "venv",
   "language": "python",
   "name": "python3"
  },
  "language_info": {
   "codemirror_mode": {
    "name": "ipython",
    "version": 3
   },
   "file_extension": ".py",
   "mimetype": "text/x-python",
   "name": "python",
   "nbconvert_exporter": "python",
   "pygments_lexer": "ipython3",
   "version": "3.11.4"
  },
  "orig_nbformat": 4
 },
 "nbformat": 4,
 "nbformat_minor": 2
}
