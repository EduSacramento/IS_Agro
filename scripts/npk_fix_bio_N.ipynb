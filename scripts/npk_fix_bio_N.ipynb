{
 "cells": [
  {
   "cell_type": "code",
   "execution_count": 1,
   "metadata": {},
   "outputs": [],
   "source": [
    "import pandas as pd\n",
    "\n",
    "from pendulum import now"
   ]
  },
  {
   "cell_type": "code",
   "execution_count": 2,
   "metadata": {},
   "outputs": [],
   "source": [
    "dataset_name = 'sidra_tab5457_fixbioN'\n",
    "raiz = '/home/eduardo/repositorios/IS_Agro/databases'"
   ]
  },
  {
   "cell_type": "markdown",
   "metadata": {},
   "source": [
    "### Bronze"
   ]
  },
  {
   "cell_type": "markdown",
   "metadata": {},
   "source": [
    "Quantidade produzida (t)"
   ]
  },
  {
   "cell_type": "code",
   "execution_count": 3,
   "metadata": {},
   "outputs": [],
   "source": [
    "contador = 1\n",
    "\n",
    "ultimo_ano = now().year - 1\n",
    "for ano in range(2000, ultimo_ano):\n",
    "    if contador == 1:\n",
    "        df_5457 = pd.read_json(f'https://apisidra.ibge.gov.br/values/t/5457/n6/all/v/214/p/{ano}/c782/40101,40106,40110,40112,40124')\n",
    "        contador += 1\n",
    "    else:\n",
    "        df_5457 = pd.concat(\n",
    "            [df_5457,\n",
    "            (pd.read_json(f'https://apisidra.ibge.gov.br/values/t/5457/n6/all/v/214/p/{ano}/c782/40101,40106,40110,40112,40124')\n",
    "             .iloc[1:])],\n",
    "            ignore_index=True            \n",
    "        )\n",
    "        contador += 1\n",
    "\n",
    "df_5457.to_json(f'{raiz}/bronze_{dataset_name}.json')"
   ]
  },
  {
   "cell_type": "markdown",
   "metadata": {},
   "source": [
    "### Prata"
   ]
  },
  {
   "cell_type": "code",
   "execution_count": 4,
   "metadata": {},
   "outputs": [],
   "source": [
    "(pd.read_json(f'{raiz}/bronze_{dataset_name}.json')\n",
    " .drop(0, axis = 0)\n",
    " .filter(['D1C', 'D3C', 'D4C', 'V'])\n",
    " .assign(**{\n",
    "        'uf': lambda df: df['D1C'].str.slice(0,2).astype(int),\n",
    "        'safra_t': lambda df: pd.to_numeric(df['V'], errors='coerce'),\n",
    "        'municipio': lambda df: df['D1C'].astype(int),\n",
    "        'ano': lambda df: df['D3C'].astype(int),\n",
    "        'cultura': lambda df: df['D4C'].astype(int),\n",
    "        'fonte': 'Fixação biológica de N'\n",
    "        })\n",
    " .dropna(subset='safra_t')\n",
    " .convert_dtypes()\n",
    " .groupby(['uf', 'municipio', 'ano', 'cultura', 'fonte'])\n",
    " .agg({'safra_t':sum})\n",
    " .to_parquet(f'{raiz}/prata_{dataset_name}.parquet')\n",
    " )"
   ]
  },
  {
   "cell_type": "markdown",
   "metadata": {},
   "source": [
    "| CÓDIGO | CULTURA AGRÍCOLA |\n",
    "|--------|------------------|\n",
    "| 40112  |      Feijão      |\n",
    "| 40106  |  Cana-de-açúcar  |\n",
    "| 40124  |       Soja       |\n",
    "| 40101  |     Amendoim     |\n",
    "| 40110  |     Ervilha      |\n"
   ]
  },
  {
   "cell_type": "markdown",
   "metadata": {},
   "source": [
    "### Ouro"
   ]
  },
  {
   "cell_type": "markdown",
   "metadata": {},
   "source": [
    "Parâmetros para cálculos\n",
    "| Fonte               | Teor | Unidade             | Fonte              | Teor | Unidade             |\n",
    "|---------------------|------|---------------------|--------------------|------|---------------------|\n",
    "| N-planta            | 2    | kg N/kg N produto   |\n",
    "| N-planta Soja       | 80   | kg N/t de soja      | Pfix%-Soja         | 80   | % do N planta       |\n",
    "| N-Amendoim          | 59,5 | kg N/t de produto   | Pfix%-Amendoim     | 65   | % do N planta       |\n",
    "| N-Ervilha           | 36   | kg N/t de produto   | Pfix%-Ervilha      | 65   | % do N planta       |\n",
    "| N-Cana-de-açúcar    | 0,8  | kg N/t de produto   | Pfix%-Cana-de-açúcar | 35  | % do N planta      |\n",
    "| N-Feijão            | 38,5 | kg N/t de produto   | Pfix%-Feijão        | 36   | % do N planta      |\n",
    "\n",
    "Específico para soja -> (Safra_ton(soja) * N-planta soja * (Pfix%-soja/100))/1000\n",
    "\n",
    "Para outras culturas -> (Safra_ton * N-planta * N-cultura{código} * (Pfix%-cultura/100))/1000"
   ]
  },
  {
   "cell_type": "code",
   "execution_count": 4,
   "metadata": {},
   "outputs": [],
   "source": [
    "n_planta = 2 # fator geral\n",
    "\n",
    "parametro = {\n",
    "    40124: {'n': 80, 'pfix': 0.80}, # soja\n",
    "    40101: {'n': 59.5, 'pfix': 0.65}, # amendoim\n",
    "    40106: {'n': 0.8, 'pfix': 0.35}, # cana-de-açúcar\n",
    "    40110: {'n': 36, 'pfix': 0.65}, # ervilha\n",
    "    40112: {'n': 38.5, 'pfix': 0.36} # feijão\n",
    "    }"
   ]
  },
  {
   "cell_type": "code",
   "execution_count": 5,
   "metadata": {},
   "outputs": [
    {
     "data": {
      "text/html": [
       "<div>\n",
       "<style scoped>\n",
       "    .dataframe tbody tr th:only-of-type {\n",
       "        vertical-align: middle;\n",
       "    }\n",
       "\n",
       "    .dataframe tbody tr th {\n",
       "        vertical-align: top;\n",
       "    }\n",
       "\n",
       "    .dataframe thead th {\n",
       "        text-align: right;\n",
       "    }\n",
       "</style>\n",
       "<table border=\"1\" class=\"dataframe\">\n",
       "  <thead>\n",
       "    <tr style=\"text-align: right;\">\n",
       "      <th></th>\n",
       "      <th></th>\n",
       "      <th></th>\n",
       "      <th>elemento</th>\n",
       "      <th>valor</th>\n",
       "    </tr>\n",
       "    <tr>\n",
       "      <th>uf</th>\n",
       "      <th>ano</th>\n",
       "      <th>fonte</th>\n",
       "      <th></th>\n",
       "      <th></th>\n",
       "    </tr>\n",
       "  </thead>\n",
       "  <tbody>\n",
       "    <tr>\n",
       "      <th rowspan=\"5\" valign=\"top\">11</th>\n",
       "      <th>2000</th>\n",
       "      <th>Fixação biológica de N</th>\n",
       "      <td>N</td>\n",
       "      <td>3710.361</td>\n",
       "    </tr>\n",
       "    <tr>\n",
       "      <th>2001</th>\n",
       "      <th>Fixação biológica de N</th>\n",
       "      <td>N</td>\n",
       "      <td>5593.38814</td>\n",
       "    </tr>\n",
       "    <tr>\n",
       "      <th>2002</th>\n",
       "      <th>Fixação biológica de N</th>\n",
       "      <td>N</td>\n",
       "      <td>6358.92556</td>\n",
       "    </tr>\n",
       "    <tr>\n",
       "      <th>2003</th>\n",
       "      <th>Fixação biológica de N</th>\n",
       "      <td>N</td>\n",
       "      <td>9055.11055</td>\n",
       "    </tr>\n",
       "    <tr>\n",
       "      <th>2004</th>\n",
       "      <th>Fixação biológica de N</th>\n",
       "      <td>N</td>\n",
       "      <td>11626.97751</td>\n",
       "    </tr>\n",
       "    <tr>\n",
       "      <th>...</th>\n",
       "      <th>...</th>\n",
       "      <th>...</th>\n",
       "      <td>...</td>\n",
       "      <td>...</td>\n",
       "    </tr>\n",
       "    <tr>\n",
       "      <th rowspan=\"5\" valign=\"top\">53</th>\n",
       "      <th>2018</th>\n",
       "      <th>Fixação biológica de N</th>\n",
       "      <td>N</td>\n",
       "      <td>17214.8324</td>\n",
       "    </tr>\n",
       "    <tr>\n",
       "      <th>2019</th>\n",
       "      <th>Fixação biológica de N</th>\n",
       "      <td>N</td>\n",
       "      <td>17658.50348</td>\n",
       "    </tr>\n",
       "    <tr>\n",
       "      <th>2020</th>\n",
       "      <th>Fixação biológica de N</th>\n",
       "      <td>N</td>\n",
       "      <td>19906.59848</td>\n",
       "    </tr>\n",
       "    <tr>\n",
       "      <th>2021</th>\n",
       "      <th>Fixação biológica de N</th>\n",
       "      <td>N</td>\n",
       "      <td>20745.9548</td>\n",
       "    </tr>\n",
       "    <tr>\n",
       "      <th>2022</th>\n",
       "      <th>Fixação biológica de N</th>\n",
       "      <td>N</td>\n",
       "      <td>20417.55952</td>\n",
       "    </tr>\n",
       "  </tbody>\n",
       "</table>\n",
       "<p>621 rows × 2 columns</p>\n",
       "</div>"
      ],
      "text/plain": [
       "                               elemento        valor\n",
       "uf ano  fonte                                       \n",
       "11 2000 Fixação biológica de N        N     3710.361\n",
       "   2001 Fixação biológica de N        N   5593.38814\n",
       "   2002 Fixação biológica de N        N   6358.92556\n",
       "   2003 Fixação biológica de N        N   9055.11055\n",
       "   2004 Fixação biológica de N        N  11626.97751\n",
       "...                                 ...          ...\n",
       "53 2018 Fixação biológica de N        N   17214.8324\n",
       "   2019 Fixação biológica de N        N  17658.50348\n",
       "   2020 Fixação biológica de N        N  19906.59848\n",
       "   2021 Fixação biológica de N        N   20745.9548\n",
       "   2022 Fixação biológica de N        N  20417.55952\n",
       "\n",
       "[621 rows x 2 columns]"
      ]
     },
     "execution_count": 5,
     "metadata": {},
     "output_type": "execute_result"
    }
   ],
   "source": [
    "df = (pd.read_parquet(f'{raiz}/prata_{dataset_name}.parquet')\n",
    "      .groupby(['uf', 'ano', 'cultura', 'fonte'])\n",
    "      .agg({'safra_t':sum})\n",
    "      .reset_index()\n",
    "      .assign(\n",
    "          elemento = 'N',\n",
    "          valor=lambda x: x.apply\n",
    "          (lambda linha: (linha['safra_t'] * parametro[linha['cultura']]['n'] * parametro[linha['cultura']]['pfix'])/1000\n",
    "           if linha['cultura'] == 40124 else \n",
    "           (linha['safra_t'] * n_planta * parametro[linha['cultura']]['n'] * parametro[linha['cultura']]['pfix'])/1000, \n",
    "           axis = 1))\n",
    "      .drop('safra_t', axis = 1)\n",
    "      .convert_dtypes()\n",
    "      .groupby(['uf', 'ano', 'fonte'])\n",
    "      .agg({'elemento': max, 'valor':sum})\n",
    "      )\n",
    "\n",
    "df.to_csv(f'{raiz}/ouro_npk_fixbioN.csv')\n",
    "df"
   ]
  }
 ],
 "metadata": {
  "kernelspec": {
   "display_name": "venv",
   "language": "python",
   "name": "python3"
  },
  "language_info": {
   "codemirror_mode": {
    "name": "ipython",
    "version": 3
   },
   "file_extension": ".py",
   "mimetype": "text/x-python",
   "name": "python",
   "nbconvert_exporter": "python",
   "pygments_lexer": "ipython3",
   "version": "3.10.12"
  },
  "orig_nbformat": 4
 },
 "nbformat": 4,
 "nbformat_minor": 2
}
