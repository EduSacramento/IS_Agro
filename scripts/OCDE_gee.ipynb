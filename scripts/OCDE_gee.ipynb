{
 "cells": [
  {
   "cell_type": "code",
   "execution_count": 1,
   "metadata": {},
   "outputs": [],
   "source": [
    "import pandas as pd"
   ]
  },
  {
   "cell_type": "code",
   "execution_count": null,
   "metadata": {},
   "outputs": [],
   "source": [
    "dataset_name = 'ocde_gee_agro'\n",
    "raiz = '../database'"
   ]
  },
  {
   "cell_type": "markdown",
   "metadata": {},
   "source": [
    "### Prata"
   ]
  },
  {
   "cell_type": "markdown",
   "metadata": {},
   "source": [
    "Emissões de gases de efeito estufa (GEE) da agricultura\n",
    "\n",
    "Unidade: Toneladas de CO2 equivalente"
   ]
  },
  {
   "cell_type": "code",
   "execution_count": 9,
   "metadata": {},
   "outputs": [],
   "source": [
    "df = (pd.read_excel(f'{raiz}/GEE agricultura OCDE.xlsx',\n",
    "               header=3, # Linha do cabeçalho da tabela\n",
    "               skiprows=lambda linha: linha in [4, 59, 60, 61, 62, 63], # Linhas da tabela a serem ignoradas, se sobrepondo ao header\n",
    "               na_values='..'\n",
    "               )\n",
    " .drop('Unnamed: 1', axis = 1)\n",
    " .rename(columns={'Time': 'pais'})\n",
    " .melt(\n",
    "     id_vars='pais',\n",
    "     var_name='ano',\n",
    "     value_name='valor_ton'\n",
    "     )\n",
    " .dropna(subset='valor_ton')\n",
    " .assign(**{\n",
    "     'origem': 'OCDE',\n",
    "     'indicador': 'GEE',\n",
    "     'ano': lambda col: col['ano'].astype(int)\n",
    "     })\n",
    " .sort_values(by=['ano','valor_ton'],\n",
    "              ascending = [True, False]) # Organização dos dados a partir das duas colunas destacadas\n",
    " .set_index(['indicador', 'pais', 'ano', 'origem'])\n",
    " )"
   ]
  },
  {
   "cell_type": "code",
   "execution_count": null,
   "metadata": {},
   "outputs": [],
   "source": [
    "if df.index.is_unique is True:\n",
    "    df.to_parquet(xxx)\n",
    "else:\n",
    "    print('Há índices não-únicos nesta tabela. Favor verificar.')"
   ]
  },
  {
   "cell_type": "code",
   "execution_count": 14,
   "metadata": {},
   "outputs": [
    {
     "data": {
      "text/html": [
       "<div>\n",
       "<style scoped>\n",
       "    .dataframe tbody tr th:only-of-type {\n",
       "        vertical-align: middle;\n",
       "    }\n",
       "\n",
       "    .dataframe tbody tr th {\n",
       "        vertical-align: top;\n",
       "    }\n",
       "\n",
       "    .dataframe thead th {\n",
       "        text-align: right;\n",
       "    }\n",
       "</style>\n",
       "<table border=\"1\" class=\"dataframe\">\n",
       "  <thead>\n",
       "    <tr style=\"text-align: right;\">\n",
       "      <th></th>\n",
       "      <th></th>\n",
       "      <th></th>\n",
       "      <th></th>\n",
       "      <th>valor_ton</th>\n",
       "    </tr>\n",
       "    <tr>\n",
       "      <th>indicador</th>\n",
       "      <th>pais</th>\n",
       "      <th>ano</th>\n",
       "      <th>origem</th>\n",
       "      <th></th>\n",
       "    </tr>\n",
       "  </thead>\n",
       "  <tbody>\n",
       "    <tr>\n",
       "      <th rowspan=\"11\" valign=\"top\">GEE</th>\n",
       "      <th>India</th>\n",
       "      <th>1985</th>\n",
       "      <th>OCDE</th>\n",
       "      <td>563956.084</td>\n",
       "    </tr>\n",
       "    <tr>\n",
       "      <th>China (People's Republic of)</th>\n",
       "      <th>1985</th>\n",
       "      <th>OCDE</th>\n",
       "      <td>515532.419</td>\n",
       "    </tr>\n",
       "    <tr>\n",
       "      <th>Brazil</th>\n",
       "      <th>1985</th>\n",
       "      <th>OCDE</th>\n",
       "      <td>307519.082</td>\n",
       "    </tr>\n",
       "    <tr>\n",
       "      <th>Indonesia</th>\n",
       "      <th>1985</th>\n",
       "      <th>OCDE</th>\n",
       "      <td>99880.850</td>\n",
       "    </tr>\n",
       "    <tr>\n",
       "      <th>Philippines</th>\n",
       "      <th>1985</th>\n",
       "      <th>OCDE</th>\n",
       "      <td>46988.916</td>\n",
       "    </tr>\n",
       "    <tr>\n",
       "      <th>...</th>\n",
       "      <th>...</th>\n",
       "      <th>...</th>\n",
       "      <td>...</td>\n",
       "    </tr>\n",
       "    <tr>\n",
       "      <th>Estonia</th>\n",
       "      <th>2021</th>\n",
       "      <th>OCDE</th>\n",
       "      <td>1583.940</td>\n",
       "    </tr>\n",
       "    <tr>\n",
       "      <th>Luxembourg</th>\n",
       "      <th>2021</th>\n",
       "      <th>OCDE</th>\n",
       "      <td>697.346</td>\n",
       "    </tr>\n",
       "    <tr>\n",
       "      <th>Iceland</th>\n",
       "      <th>2021</th>\n",
       "      <th>OCDE</th>\n",
       "      <td>620.071</td>\n",
       "    </tr>\n",
       "    <tr>\n",
       "      <th>Cyprus</th>\n",
       "      <th>2021</th>\n",
       "      <th>OCDE</th>\n",
       "      <td>557.252</td>\n",
       "    </tr>\n",
       "    <tr>\n",
       "      <th>Malta</th>\n",
       "      <th>2021</th>\n",
       "      <th>OCDE</th>\n",
       "      <td>87.709</td>\n",
       "    </tr>\n",
       "  </tbody>\n",
       "</table>\n",
       "<p>1730 rows × 1 columns</p>\n",
       "</div>"
      ],
      "text/plain": [
       "                                                       valor_ton\n",
       "indicador pais                           ano  origem            \n",
       "GEE         India                        1985 OCDE    563956.084\n",
       "            China (People's Republic of) 1985 OCDE    515532.419\n",
       "            Brazil                       1985 OCDE    307519.082\n",
       "            Indonesia                    1985 OCDE     99880.850\n",
       "            Philippines                  1985 OCDE     46988.916\n",
       "...                                                          ...\n",
       "          Estonia                        2021 OCDE      1583.940\n",
       "          Luxembourg                     2021 OCDE       697.346\n",
       "          Iceland                        2021 OCDE       620.071\n",
       "            Cyprus                       2021 OCDE       557.252\n",
       "            Malta                        2021 OCDE        87.709\n",
       "\n",
       "[1730 rows x 1 columns]"
      ]
     },
     "execution_count": 14,
     "metadata": {},
     "output_type": "execute_result"
    }
   ],
   "source": [
    "df"
   ]
  }
 ],
 "metadata": {
  "kernelspec": {
   "display_name": "venv",
   "language": "python",
   "name": "python3"
  },
  "language_info": {
   "codemirror_mode": {
    "name": "ipython",
    "version": 3
   },
   "file_extension": ".py",
   "mimetype": "text/x-python",
   "name": "python",
   "nbconvert_exporter": "python",
   "pygments_lexer": "ipython3",
   "version": "3.10.6"
  }
 },
 "nbformat": 4,
 "nbformat_minor": 2
}
