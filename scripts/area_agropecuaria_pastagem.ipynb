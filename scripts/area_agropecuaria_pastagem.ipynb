{
 "cells": [
  {
   "cell_type": "code",
   "execution_count": 1,
   "metadata": {},
   "outputs": [],
   "source": [
    "# Importação de bibliotecas\n",
    "import pandas as pd"
   ]
  },
  {
   "cell_type": "code",
   "execution_count": 2,
   "metadata": {},
   "outputs": [],
   "source": [
    "# Variáveis utilizadas\n",
    "fonte = 'is_agro'\n",
    "dataset_name = 'area_agropecuaria_pastagem'\n",
    "raiz = '/home/eduardo/repositorios/IS_Agro/databases'"
   ]
  },
  {
   "cell_type": "markdown",
   "metadata": {},
   "source": [
    "### Ouro"
   ]
  },
  {
   "cell_type": "code",
   "execution_count": 3,
   "metadata": {},
   "outputs": [],
   "source": [
    "# Tabela do LAPIG para pastagem estadual\n",
    "df_pastagem_uf = (\n",
    "    pd.read_parquet(f'{raiz}/prata_lapig_pastagem_uf.parquet')\n",
    "    .reset_index()\n",
    "    .convert_dtypes()\n",
    ")\n",
    "df_pastagem_br = (\n",
    "    df_pastagem_uf\n",
    "    .groupby('data')\n",
    "    .agg({'area': 'sum'})\n",
    "    .reset_index()\n",
    ")"
   ]
  },
  {
   "cell_type": "code",
   "execution_count": 4,
   "metadata": {},
   "outputs": [],
   "source": [
    "# Correção dos dados de pastagem a partir dos cálculos da Embrapa Meio Ambiente\n",
    "df_pastagem_rev = (\n",
    "    df_pastagem_uf\n",
    "    .merge(\n",
    "        df_pastagem_br,\n",
    "        how='left',\n",
    "        on='data',\n",
    "        suffixes=['_uf', '_br']\n",
    "    )\n",
    "    .merge(\n",
    "        pd.read_parquet(f'{raiz}/prata_{fonte}_usodaterra_agro_br.parquet') # Tabela gerada pela equipe da Embrapa Meio Ambiente, Campinas\n",
    "        .query('cod_mapbiomas in (15, 12) & data >= 2000')\n",
    "        .groupby('data')\n",
    "        .agg({'valor':'sum'}),\n",
    "        how='left',\n",
    "        on='data'\n",
    "    )\n",
    "    .assign(valor = lambda n: n.area_uf * n.valor/n.area_br)\n",
    "    .filter(['geocodigo', 'data', 'valor'])\n",
    "    .convert_dtypes()\n",
    ")\n",
    "\n",
    "#df_pastagem_rev.to_parquet(f'{raiz}/ouro_{fonte}_{dataset_name}.parquet')\n",
    "df_pastagem_rev.to_csv(f'{raiz}/ouro_{fonte}_{dataset_name}.csv')"
   ]
  }
 ],
 "metadata": {
  "kernelspec": {
   "display_name": "venv",
   "language": "python",
   "name": "python3"
  },
  "language_info": {
   "codemirror_mode": {
    "name": "ipython",
    "version": 3
   },
   "file_extension": ".py",
   "mimetype": "text/x-python",
   "name": "python",
   "nbconvert_exporter": "python",
   "pygments_lexer": "ipython3",
   "version": "3.12.3"
  }
 },
 "nbformat": 4,
 "nbformat_minor": 2
}
