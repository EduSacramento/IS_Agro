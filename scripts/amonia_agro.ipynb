{
 "cells": [
  {
   "cell_type": "code",
   "execution_count": null,
   "metadata": {},
   "outputs": [],
   "source": [
    "import pandas as pd"
   ]
  },
  {
   "cell_type": "code",
   "execution_count": null,
   "metadata": {},
   "outputs": [],
   "source": [
    "dataset_name = 'amonia'\n",
    "raiz = '/home/eduardo/repositorios/IS_Agro/databases'"
   ]
  },
  {
   "cell_type": "markdown",
   "metadata": {},
   "source": [
    "### Prata"
   ]
  },
  {
   "cell_type": "markdown",
   "metadata": {},
   "source": [
    "Emissões de Amônia (NH3) volatizado da agricultura\n",
    "\n",
    "Unidade: Tonelada"
   ]
  },
  {
   "cell_type": "code",
   "execution_count": null,
   "metadata": {},
   "outputs": [],
   "source": [
    "df_prata = pd.DataFrame() # Criação de dataframe vazio para uso posterior\n",
    "\n",
    "# Abas das tabelas na planilha \"Emissões de amonia.xlsx\"\n",
    "tabelas = pd.ExcelFile(f'{raiz}/Bronze Emissões de amonia.xlsx').sheet_names"
   ]
  },
  {
   "cell_type": "code",
   "execution_count": null,
   "metadata": {},
   "outputs": [],
   "source": [
    "for NH3 in tabelas:\n",
    "    df = (pd.read_excel(f'{raiz}/Bronze Emissões de amonia.xlsx', # Arquivo com resultados definitivos\n",
    "                sheet_name=NH3,\n",
    "                header=2,\n",
    "                skiprows=lambda linha: linha in [3, 31, 32] # Linhas da tabela a serem ignoradas, se sobrepondo ao header\n",
    "                )\n",
    "                .merge(pd.read_parquet(f'{raiz}/prata_ibge_geocodigo.parquet') # Banco de dados com geocódigos\n",
    "                        .filter(['UF-id', 'UF-nome'])\n",
    "                        .drop_duplicates(), # Exclusão de duplicatas (geradas por ser um BD com municípios)\n",
    "                        how='left',\n",
    "                        left_on='Estado',\n",
    "                        right_on='UF-nome'\n",
    "                            )\n",
    "                .drop(columns=['Estado', 'UF-nome']) # Exclusão de colunas desnecessárias para o prosseguimento\n",
    "                # Derretimento da tabela, verticalizando-a\n",
    "                .melt(\n",
    "                    id_vars='UF-id', # Coluna a ser mantida\n",
    "                    var_name='data', # Nome da nova coluna com os dados transformados em linhas\n",
    "                    value_name='valor' # Nome da nova coluna com os valores das antigas colunas\n",
    "                            )\n",
    "                .query('valor != 0.0') # Exclusão de registros que possuam valor zerado\n",
    "                .rename(columns={'UF-id':'geocodigo'})\n",
    "                .assign(**{\n",
    "                    'data': lambda df: pd.to_datetime(df['data'], format='%Y'), # Conversão de número inteiro para formato de data\n",
    "                    'fonte': NH3[4:].capitalize(), # Criação de nova coluna com os títulos das tabelas cortando 'NH3' \n",
    "                        })\n",
    "                )\n",
    "    df_prata = (pd.concat([df_prata, df],\n",
    "                         ignore_index=True)           \n",
    "                )\n",
    "\n",
    "df_prata = (df_prata.convert_dtypes()\n",
    "            .sort_values(by=['geocodigo', 'data']) # Organização dos dados\n",
    "            .set_index(['geocodigo', 'data', 'fonte'])\n",
    "            )\n",
    "df_prata.to_parquet(f'{raiz}/prata_amonia.parquet')"
   ]
  },
  {
   "cell_type": "markdown",
   "metadata": {},
   "source": [
    "### Ouro"
   ]
  },
  {
   "cell_type": "code",
   "execution_count": null,
   "metadata": {},
   "outputs": [],
   "source": [
    "df = (\n",
    "    pd.read_parquet(f'{raiz}/prata_amonia.parquet')\n",
    "    .reset_index()\n",
    "    .rename(columns={\n",
    "        'geocodigo': 'state',\n",
    "        'valor': 'value',\n",
    "        'data': 'date',\n",
    "        'fonte': 'label'\n",
    "        })\n",
    "    .assign(country = 76)\n",
    "    .filter(['country', 'state', 'date', 'label', 'value'])\n",
    ")\n",
    "\n",
    "df.to_csv(f'{raiz}/ouro_amonia_agro.csv', index=False)"
   ]
  }
 ],
 "metadata": {
  "kernelspec": {
   "display_name": "venv",
   "language": "python",
   "name": "python3"
  },
  "language_info": {
   "codemirror_mode": {
    "name": "ipython",
    "version": 3
   },
   "file_extension": ".py",
   "mimetype": "text/x-python",
   "name": "python",
   "nbconvert_exporter": "python",
   "pygments_lexer": "ipython3",
   "version": "3.12.3"
  },
  "orig_nbformat": 4
 },
 "nbformat": 4,
 "nbformat_minor": 2
}
