{
 "cells": [
  {
   "cell_type": "code",
   "execution_count": 2,
   "metadata": {},
   "outputs": [],
   "source": [
    "import pandas as pd"
   ]
  },
  {
   "cell_type": "code",
   "execution_count": 3,
   "metadata": {},
   "outputs": [],
   "source": [
    "dataset_name = 'amonia'\n",
    "raiz = '/home/eduardo/repositorios/IS_Agro/databases'"
   ]
  },
  {
   "cell_type": "markdown",
   "metadata": {},
   "source": [
    "### Prata"
   ]
  },
  {
   "cell_type": "markdown",
   "metadata": {},
   "source": [
    "Emissões de Amônia (NH3) volatizado da agricultura\n",
    "\n",
    "Unidade: Tonelada"
   ]
  },
  {
   "cell_type": "code",
   "execution_count": 3,
   "metadata": {},
   "outputs": [],
   "source": [
    "df_prata = pd.DataFrame() # Criação de dataframe vazio para uso posterior\n",
    "\n",
    "# Abas das tabelas na planilha \"Emissões de amonia.xlsx\"\n",
    "tabelas = pd.ExcelFile(f'{raiz}/Bronze Emissões de amonia.xlsx').sheet_names"
   ]
  },
  {
   "cell_type": "code",
   "execution_count": 5,
   "metadata": {},
   "outputs": [],
   "source": [
    "for NH3 in tabelas:\n",
    "    df = (pd.read_excel(f'{raiz}/Bronze Emissões de amonia.xlsx', # Arquivo com resultados definitivos\n",
    "                sheet_name=NH3,\n",
    "                header=2,\n",
    "                skiprows=lambda linha: linha in [3, 31, 32] # Linhas da tabela a serem ignoradas, se sobrepondo ao header\n",
    "                )\n",
    "                .merge(pd.read_parquet(f'{raiz}/prata_ibge_geocodigo.parquet') # Banco de dados com geocódigos\n",
    "                        .filter(['UF-id', 'UF-nome'])\n",
    "                        .drop_duplicates(), # Exclusão de duplicatas (geradas por ser um BD com municípios)\n",
    "                        how='left',\n",
    "                        left_on='Estado',\n",
    "                        right_on='UF-nome'\n",
    "                            )\n",
    "                .drop(columns=['Estado', 'UF-nome']) # Exclusão de colunas desnecessárias para o prosseguimento\n",
    "                # Derretimento da tabela, verticalizando-a\n",
    "                .melt(\n",
    "                    id_vars='UF-id', # Coluna a ser mantida\n",
    "                    var_name='data', # Nome da nova coluna com os dados transformados em linhas\n",
    "                    value_name='valor' # Nome da nova coluna com os valores das antigas colunas\n",
    "                            )\n",
    "                .query('valor != 0.0') # Exclusão de registros que possuam valor zerado\n",
    "                .rename(columns={'UF-id':'geocodigo'})\n",
    "                .assign(**{\n",
    "                    'data': lambda df: pd.to_datetime(df['data'], format='%Y'), # Conversão de número inteiro para formato de data\n",
    "                    'fonte': NH3[4:].capitalize(), # Criação de nova coluna com os títulos das tabelas cortando 'NH3' \n",
    "                        })\n",
    "                )\n",
    "    df_prata = (pd.concat([df_prata, df],\n",
    "                         ignore_index=True)           \n",
    "                )\n",
    "\n",
    "df_prata = (df_prata.convert_dtypes()\n",
    "            .sort_values(by=['geocodigo', 'data']) # Organização dos dados\n",
    "            .set_index(['geocodigo', 'data', 'fonte'])\n",
    "            )\n",
    "df_prata.to_parquet(f'{raiz}/prata_amonia.parquet')"
   ]
  },
  {
   "cell_type": "markdown",
   "metadata": {},
   "source": [
    "### Ouro"
   ]
  },
  {
   "cell_type": "code",
   "execution_count": 4,
   "metadata": {},
   "outputs": [],
   "source": [
    "df = (\n",
    "    pd.read_parquet(f'{raiz}/prata_amonia.parquet')\n",
    "    .reset_index()\n",
    "    .rename(columns={\n",
    "        'geocodigo': 'state',\n",
    "        'valor': 'value',\n",
    "        'data': 'date',\n",
    "        'fonte': 'label'\n",
    "        })\n",
    "    .assign(country = 76)\n",
    "    .filter(['country', 'state', 'date', 'label', 'value'])\n",
    ")\n",
    "\n",
    "df.to_csv(f'{raiz}/ouro_amonia_agro.csv', index=False)"
   ]
  },
  {
   "cell_type": "code",
   "execution_count": 5,
   "metadata": {},
   "outputs": [
    {
     "data": {
      "text/html": [
       "<div>\n",
       "<style scoped>\n",
       "    .dataframe tbody tr th:only-of-type {\n",
       "        vertical-align: middle;\n",
       "    }\n",
       "\n",
       "    .dataframe tbody tr th {\n",
       "        vertical-align: top;\n",
       "    }\n",
       "\n",
       "    .dataframe thead th {\n",
       "        text-align: right;\n",
       "    }\n",
       "</style>\n",
       "<table border=\"1\" class=\"dataframe\">\n",
       "  <thead>\n",
       "    <tr style=\"text-align: right;\">\n",
       "      <th></th>\n",
       "      <th>country</th>\n",
       "      <th>state</th>\n",
       "      <th>date</th>\n",
       "      <th>label</th>\n",
       "      <th>value</th>\n",
       "    </tr>\n",
       "  </thead>\n",
       "  <tbody>\n",
       "    <tr>\n",
       "      <th>0</th>\n",
       "      <td>76</td>\n",
       "      <td>11</td>\n",
       "      <td>1990-01-01</td>\n",
       "      <td>Fertilizante</td>\n",
       "      <td>42.584297</td>\n",
       "    </tr>\n",
       "    <tr>\n",
       "      <th>1</th>\n",
       "      <td>76</td>\n",
       "      <td>11</td>\n",
       "      <td>1990-01-01</td>\n",
       "      <td>Adubos organicos</td>\n",
       "      <td>1713.897024</td>\n",
       "    </tr>\n",
       "    <tr>\n",
       "      <th>2</th>\n",
       "      <td>76</td>\n",
       "      <td>11</td>\n",
       "      <td>1990-01-01</td>\n",
       "      <td>Deposição de dejetos</td>\n",
       "      <td>18329.172353</td>\n",
       "    </tr>\n",
       "    <tr>\n",
       "      <th>3</th>\n",
       "      <td>76</td>\n",
       "      <td>11</td>\n",
       "      <td>1990-01-01</td>\n",
       "      <td>Manejo de dejetos</td>\n",
       "      <td>5786.982625</td>\n",
       "    </tr>\n",
       "    <tr>\n",
       "      <th>4</th>\n",
       "      <td>76</td>\n",
       "      <td>11</td>\n",
       "      <td>1990-01-01</td>\n",
       "      <td>Queima resíduos de colheita</td>\n",
       "      <td>8.248944</td>\n",
       "    </tr>\n",
       "    <tr>\n",
       "      <th>...</th>\n",
       "      <td>...</td>\n",
       "      <td>...</td>\n",
       "      <td>...</td>\n",
       "      <td>...</td>\n",
       "      <td>...</td>\n",
       "    </tr>\n",
       "    <tr>\n",
       "      <th>4299</th>\n",
       "      <td>76</td>\n",
       "      <td>53</td>\n",
       "      <td>2021-01-01</td>\n",
       "      <td>Fertilizante</td>\n",
       "      <td>1831.43475</td>\n",
       "    </tr>\n",
       "    <tr>\n",
       "      <th>4300</th>\n",
       "      <td>76</td>\n",
       "      <td>53</td>\n",
       "      <td>2021-01-01</td>\n",
       "      <td>Adubos organicos</td>\n",
       "      <td>779.849122</td>\n",
       "    </tr>\n",
       "    <tr>\n",
       "      <th>4301</th>\n",
       "      <td>76</td>\n",
       "      <td>53</td>\n",
       "      <td>2021-01-01</td>\n",
       "      <td>Deposição de dejetos</td>\n",
       "      <td>873.594703</td>\n",
       "    </tr>\n",
       "    <tr>\n",
       "      <th>4302</th>\n",
       "      <td>76</td>\n",
       "      <td>53</td>\n",
       "      <td>2021-01-01</td>\n",
       "      <td>Manejo de dejetos</td>\n",
       "      <td>2642.492417</td>\n",
       "    </tr>\n",
       "    <tr>\n",
       "      <th>4303</th>\n",
       "      <td>76</td>\n",
       "      <td>53</td>\n",
       "      <td>2021-01-01</td>\n",
       "      <td>Queima resíduos de colheita</td>\n",
       "      <td>0.175176</td>\n",
       "    </tr>\n",
       "  </tbody>\n",
       "</table>\n",
       "<p>4304 rows × 5 columns</p>\n",
       "</div>"
      ],
      "text/plain": [
       "      country  state       date                        label         value\n",
       "0          76     11 1990-01-01                 Fertilizante     42.584297\n",
       "1          76     11 1990-01-01             Adubos organicos   1713.897024\n",
       "2          76     11 1990-01-01         Deposição de dejetos  18329.172353\n",
       "3          76     11 1990-01-01            Manejo de dejetos   5786.982625\n",
       "4          76     11 1990-01-01  Queima resíduos de colheita      8.248944\n",
       "...       ...    ...        ...                          ...           ...\n",
       "4299       76     53 2021-01-01                 Fertilizante    1831.43475\n",
       "4300       76     53 2021-01-01             Adubos organicos    779.849122\n",
       "4301       76     53 2021-01-01         Deposição de dejetos    873.594703\n",
       "4302       76     53 2021-01-01            Manejo de dejetos   2642.492417\n",
       "4303       76     53 2021-01-01  Queima resíduos de colheita      0.175176\n",
       "\n",
       "[4304 rows x 5 columns]"
      ]
     },
     "execution_count": 5,
     "metadata": {},
     "output_type": "execute_result"
    }
   ],
   "source": [
    "df"
   ]
  }
 ],
 "metadata": {
  "kernelspec": {
   "display_name": "venv",
   "language": "python",
   "name": "python3"
  },
  "language_info": {
   "codemirror_mode": {
    "name": "ipython",
    "version": 3
   },
   "file_extension": ".py",
   "mimetype": "text/x-python",
   "name": "python",
   "nbconvert_exporter": "python",
   "pygments_lexer": "ipython3",
   "version": "3.12.3"
  },
  "orig_nbformat": 4
 },
 "nbformat": 4,
 "nbformat_minor": 2
}
