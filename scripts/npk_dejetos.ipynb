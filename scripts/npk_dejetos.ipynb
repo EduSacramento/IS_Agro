{
 "cells": [
  {
   "cell_type": "code",
   "execution_count": 1,
   "metadata": {},
   "outputs": [],
   "source": [
    "# Importação de bibliotecas\n",
    "import pandas as pd\n",
    "\n",
    "from pendulum import now"
   ]
  },
  {
   "cell_type": "code",
   "execution_count": 2,
   "metadata": {},
   "outputs": [],
   "source": [
    "# Objetos\n",
    "fonte = 'sidra'\n",
    "dataset_name = 'tab3939_dejetos'\n",
    "variavel = 'cabecas'\n",
    "\n",
    "raiz = '/home/eduardo/repositorios/IS_Agro/databases'"
   ]
  },
  {
   "cell_type": "markdown",
   "metadata": {},
   "source": [
    "### Bronze"
   ]
  },
  {
   "cell_type": "code",
   "execution_count": null,
   "metadata": {},
   "outputs": [],
   "source": [
    "contador = 1\n",
    "\n",
    "ultimo_ano = now().year - 1\n",
    "for ano in range(2000, ultimo_ano):\n",
    "    if contador == 1:\n",
    "        df_3939 = pd.read_json(f'https://apisidra.ibge.gov.br/values/t/3939/n6/all/v/all/p/{ano}/c79/32793,32794,32796')\n",
    "        contador += 1\n",
    "    else:\n",
    "        df_3939 = pd.concat(\n",
    "            [df_3939,\n",
    "             (pd.read_json(f'https://apisidra.ibge.gov.br/values/t/3939/n6/all/v/all/p/{ano}/c79/32793,32794,32796')\n",
    "              .iloc[1:])],\n",
    "            ignore_index=True\n",
    "            )\n",
    "        contador += 1\n",
    "\n",
    "df_3939.to_json(f'{raiz}/bronze_{fonte}_{dataset_name}_{variavel}.json')"
   ]
  },
  {
   "cell_type": "markdown",
   "metadata": {},
   "source": [
    "### Prata"
   ]
  },
  {
   "cell_type": "markdown",
   "metadata": {},
   "source": [
    "|  CÓDIGO |        CULTURA        |\n",
    "|---------|-----------------------|\n",
    "| 32793   | Galináceos - galinhas |\n",
    "| 327930  | Galináceos - frangos  |\n",
    "| 32794   |  Suínos - total       |\n",
    "| 32796   | Galináceos - total    |"
   ]
  },
  {
   "cell_type": "code",
   "execution_count": 7,
   "metadata": {},
   "outputs": [],
   "source": [
    "df = (pd.read_json(f'{raiz}/bronze_{fonte}_{dataset_name}_{variavel}.json')\n",
    " .drop(0, axis = 0)\n",
    " .filter(['D1C', 'D3C', 'D4C', 'V'])\n",
    " .query('D4C in (\"32793\", \"32794\", \"32796\")')\n",
    " .reset_index(drop=True)\n",
    " .assign(**{\n",
    "     'V': lambda df: pd.to_numeric(df['V'], errors='coerce')\n",
    "     })\n",
    "    )\n",
    "\n",
    "df_frangos = (pd.DataFrame()\n",
    "             .assign(**{\n",
    "                 'D1C': df.iloc[1::3, 0].reset_index(drop=True),\n",
    "                 'D3C': df.iloc[1::3, 1].reset_index(drop=True),\n",
    "                 'D4C': '327930',\n",
    "                 'V': df.iloc[2::3, 3].reset_index(drop=True) - df.iloc[::3, 3].reset_index(drop=True)\n",
    "             })\n",
    "            )\n",
    "\n",
    "(pd.concat(\n",
    "    [df.query('D4C != \"32796\"'),\n",
    "     df_frangos]\n",
    "    )\n",
    " .assign(**{\n",
    "        'uf': lambda df: df['D1C'].str.slice(0,2).astype(int),\n",
    "        'kg_cabeca': lambda df: pd.to_numeric(df['V'], errors='coerce'),\n",
    "        'municipio': lambda df: df['D1C'].astype(int),\n",
    "        'data': lambda df: pd.to_datetime(df['D3C'], format='%Y'), # Coluna \"data\" em datetime baseado na ISO 8601, convertido da coluna \"D3C\"\n",
    "        'cultura': lambda df: df['D4C'].astype(int),\n",
    "        'fonte': 'Dejetos'\n",
    "        })\n",
    " .dropna(subset='kg_cabeca')\n",
    " .convert_dtypes()\n",
    " .groupby(['uf', 'municipio', 'data', 'cultura', 'fonte'])\n",
    " .agg({'kg_cabeca':'sum'})\n",
    " .to_parquet(f'{raiz}/prata_{fonte}_{dataset_name}_{variavel}.parquet')\n",
    " )"
   ]
  },
  {
   "cell_type": "markdown",
   "metadata": {},
   "source": [
    "### Ouro"
   ]
  },
  {
   "cell_type": "markdown",
   "metadata": {},
   "source": [
    "Cálculos:\n",
    "\n",
    "N: ((kg_cabeça * Teor N)/1000) * ((100 - perdas_N)/100)\n",
    "\n",
    "P, K: (kg_cabeca * Teor N, K)/1000"
   ]
  },
  {
   "cell_type": "code",
   "execution_count": 3,
   "metadata": {},
   "outputs": [],
   "source": [
    "parametro = {\n",
    "    32793: {'n': 0.58, 'p': 0.18, 'k': 0.21}, # de Galinhas\n",
    "    327930: {'n': 0.4, 'p': 0.12, 'k': 0.24}, # de Frangos\n",
    "    32794: {'n': 14.2, 'p': 2.3, 'k': 6.2}, # Suínos\n",
    "}\n",
    "\n",
    "# Perdas por volatilização do N\n",
    "perdas_N_galinaceos = 0\n",
    "perdas_N_suinos = 0"
   ]
  },
  {
   "cell_type": "code",
   "execution_count": 8,
   "metadata": {},
   "outputs": [],
   "source": [
    "df = (pd.read_parquet(f'{raiz}/prata_{fonte}_{dataset_name}_{variavel}.parquet')\n",
    " .groupby(['uf', 'data', 'cultura', 'fonte'])\n",
    " .agg({'kg_cabeca': 'sum'})\n",
    " .reset_index()\n",
    " .assign(\n",
    "      N = lambda df: df.apply(lambda lin: ((lin['kg_cabeca'] * parametro[lin['cultura']]['n'])/1000) * ((100 - perdas_N_suinos)/100) \n",
    "          if lin['cultura'] == 32794 else\n",
    "          ((lin['kg_cabeca'] * parametro[lin['cultura']]['n'])/1000) * ((100 - perdas_N_galinaceos)/100), axis = 1),\n",
    "      P= lambda df: df.apply(lambda lin: (lin['kg_cabeca'] * parametro[lin['cultura']]['p'])/1000, axis = 1),\n",
    "      K= lambda df: df.apply(lambda lin: (lin['kg_cabeca'] * parametro[lin['cultura']]['k'])/1000, axis = 1),\n",
    "      fonte = lambda df: df['cultura'].apply(lambda x: 'Dejetos suínos' if x == 32794 else 'Dejetos galináceos')\n",
    "  )\n",
    " .drop('kg_cabeca', axis = 1)\n",
    " .melt(id_vars=['uf', 'data', 'cultura', 'fonte'],\n",
    "       value_vars=['N', 'P', 'K'],\n",
    "       var_name='elemento',\n",
    "       value_name='valor')\n",
    " .convert_dtypes()\n",
    " .groupby(['uf', 'data', 'fonte', 'elemento'])\n",
    " .agg({'valor': 'sum'})\n",
    " .reset_index(level='elemento')\n",
    " .sort_values(by=['elemento', 'uf'],\n",
    "                   key=lambda x: x.map({'N': 0, 'P': 1, 'K': 2}))\n",
    " )"
   ]
  },
  {
   "cell_type": "code",
   "execution_count": 12,
   "metadata": {},
   "outputs": [],
   "source": [
    "df = (\n",
    "    df\n",
    "    .rename_axis(index={\n",
    "        'uf':'state',\n",
    "        'data': 'date',\n",
    "        'fonte': 'label'\n",
    "    })\n",
    "    .rename(columns={\n",
    "        'elemento':'nutrient',\n",
    "        'valor':'value'\n",
    "    })\n",
    ")\n",
    "\n",
    "df.to_csv(f'{raiz}/ouro_npk_dejetos.csv')"
   ]
  }
 ],
 "metadata": {
  "kernelspec": {
   "display_name": "venv",
   "language": "python",
   "name": "python3"
  },
  "language_info": {
   "codemirror_mode": {
    "name": "ipython",
    "version": 3
   },
   "file_extension": ".py",
   "mimetype": "text/x-python",
   "name": "python",
   "nbconvert_exporter": "python",
   "pygments_lexer": "ipython3",
   "version": "3.12.3"
  },
  "orig_nbformat": 4
 },
 "nbformat": 4,
 "nbformat_minor": 2
}
