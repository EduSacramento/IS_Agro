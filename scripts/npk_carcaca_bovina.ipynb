{
 "cells": [
  {
   "cell_type": "code",
   "execution_count": 1,
   "metadata": {},
   "outputs": [],
   "source": [
    "# Importação de bibliotecas\n",
    "import pandas as pd"
   ]
  },
  {
   "cell_type": "code",
   "execution_count": 2,
   "metadata": {},
   "outputs": [],
   "source": [
    "# Objetos\n",
    "fonte = 'sidra'\n",
    "dataset_name = 'tab1092_bovino'\n",
    "\n",
    "raiz = '/home/eduardo/repositorios/IS_Agro/databases'"
   ]
  },
  {
   "cell_type": "markdown",
   "metadata": {},
   "source": [
    "### Bronze"
   ]
  },
  {
   "cell_type": "code",
   "execution_count": 3,
   "metadata": {},
   "outputs": [],
   "source": [
    "(pd.read_json('https://apisidra.ibge.gov.br/values/t/1092/n3/all/v/285/p/last%2094/c12716/115236/c18/992/c12529/118225')\n",
    " .to_json(f'{raiz}/bronze_{fonte}_{dataset_name}_uf.json')\n",
    " )\n",
    "\n",
    "(pd.read_json('https://apisidra.ibge.gov.br/values/t/1092/n1/all/v/285/p/last%2094/c12716/115236/c18/992/c12529/118225')\n",
    " .to_json(f'{raiz}/bronze_{fonte}_{dataset_name}_BR.json')\n",
    " )"
   ]
  },
  {
   "cell_type": "markdown",
   "metadata": {},
   "source": [
    "### Prata"
   ]
  },
  {
   "cell_type": "code",
   "execution_count": 4,
   "metadata": {},
   "outputs": [],
   "source": [
    "(pd.read_json(f'{raiz}/bronze_{fonte}_{dataset_name}_uf.json')\n",
    " .filter(['D1C', 'D3C', 'V'])\n",
    " .drop(0, axis = 0)\n",
    " .assign(**{'ano': lambda tri: tri['D3C'].str.extract('(\\\\d{4})').astype(int),\n",
    "            'data': lambda df: pd.to_datetime(df['ano'], format='%Y'), # Coluna \"data\" em datetime baseado na ISO 8601, convertido da coluna \"D3C\"\n",
    "            'peso_kg': lambda df: pd.to_numeric(df['V'], errors='coerce'),\n",
    "            'uf': lambda df: df['D1C'].astype(int)\n",
    "            })\n",
    " .dropna(subset='peso_kg')\n",
    " .groupby(['uf', 'data'])\n",
    " .agg({'peso_kg': 'sum'})\n",
    " .to_parquet(f'{raiz}/prata_{fonte}_{dataset_name}.parquet')\n",
    " )"
   ]
  },
  {
   "cell_type": "code",
   "execution_count": 5,
   "metadata": {},
   "outputs": [],
   "source": [
    "df_br = (pd.read_json(f'{raiz}/bronze_{fonte}_{dataset_name}_BR.json')\n",
    " .filter(['D1C', 'D3C', 'V'])\n",
    " .drop(0, axis = 0)\n",
    " .assign(**{'ano': lambda tri: tri['D3C'].str.extract('(\\\\d{4})').astype(int),\n",
    "            'data': lambda df: pd.to_datetime(df['ano'], format='%Y'), # Coluna \"data\" em datetime baseado na ISO 8601, convertido da coluna \"D3C\"\n",
    "            'peso_kg': lambda df: pd.to_numeric(df['V'], errors='coerce'),\n",
    "            'uf': lambda df: df['D1C'].astype(int)\n",
    "            })\n",
    " .groupby(['uf', 'data'])\n",
    " .agg({'peso_kg': 'sum'})\n",
    " )"
   ]
  },
  {
   "cell_type": "markdown",
   "metadata": {},
   "source": [
    "### Ouro"
   ]
  },
  {
   "cell_type": "markdown",
   "metadata": {},
   "source": [
    "Peso total de carcaças dos bovinos abatidos (kg)\n",
    "\n",
    "Aproveitamento da carcaça: 50%\n",
    "\n",
    "Cálculo: ((Carcaça Bovina/aproveitamento%) * (Parâmetro_x%))/1000\n",
    "\n",
    "UF e Brasil = t\n",
    "\n",
    "NPK na forma de Carne bovina retirada do solo via animal encaminhado para abate (t)"
   ]
  },
  {
   "cell_type": "code",
   "execution_count": 6,
   "metadata": {},
   "outputs": [],
   "source": [
    "aproveitamento = 50/100\n",
    "\n",
    "parametro_N = 3/100\n",
    "parametro_P = 0.8/100\n",
    "parametro_K = 0.2/100"
   ]
  },
  {
   "cell_type": "code",
   "execution_count": 9,
   "metadata": {},
   "outputs": [],
   "source": [
    "df = (pd.concat([pd.read_parquet(f'{raiz}/prata_{fonte}_{dataset_name}.parquet'), df_br])\n",
    "      .assign(**{\n",
    "          'N': lambda df: ((df['peso_kg']/aproveitamento)*parametro_N)/1000,\n",
    "          'P': lambda df: ((df['peso_kg']/aproveitamento)*parametro_P)/1000,\n",
    "          'K': lambda df: ((df['peso_kg']/aproveitamento)*parametro_K)/1000,\n",
    "          'fonte': 'Carcaça Bovina'\n",
    "          })\n",
    "      .reset_index()\n",
    "      .melt(id_vars=['uf', 'data', 'fonte'],\n",
    "            value_vars=['N', 'P', 'K'],\n",
    "            var_name='elemento',\n",
    "            value_name='valor')\n",
    "      .convert_dtypes()\n",
    "      .set_index(['uf', 'data', 'fonte'])\n",
    "      )"
   ]
  },
  {
   "cell_type": "code",
   "execution_count": 12,
   "metadata": {},
   "outputs": [],
   "source": [
    "df = (\n",
    "    df\n",
    "    .rename_axis(index={\n",
    "        'uf':'state',\n",
    "        'data': 'date',\n",
    "        'fonte': 'label'\n",
    "    })\n",
    "    .rename(columns={\n",
    "        'elemento':'nutrient',\n",
    "        'valor':'value'\n",
    "    })\n",
    ")\n",
    "\n",
    "df.to_csv(f'{raiz}/ouro_npk_carcaca_bovina.csv')"
   ]
  }
 ],
 "metadata": {
  "kernelspec": {
   "display_name": "venv",
   "language": "python",
   "name": "python3"
  },
  "language_info": {
   "codemirror_mode": {
    "name": "ipython",
    "version": 3
   },
   "file_extension": ".py",
   "mimetype": "text/x-python",
   "name": "python",
   "nbconvert_exporter": "python",
   "pygments_lexer": "ipython3",
   "version": "3.12.3"
  },
  "orig_nbformat": 4
 },
 "nbformat": 4,
 "nbformat_minor": 2
}
