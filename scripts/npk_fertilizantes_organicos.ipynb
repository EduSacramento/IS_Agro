{
 "cells": [
  {
   "cell_type": "code",
   "execution_count": 1,
   "metadata": {},
   "outputs": [],
   "source": [
    "# Importação de bibliotecas\n",
    "import pandas as pd\n",
    "\n",
    "from pendulum import now"
   ]
  },
  {
   "cell_type": "code",
   "execution_count": 2,
   "metadata": {},
   "outputs": [],
   "source": [
    "# Objetos\n",
    "fonte = 'obscana'\n",
    "dataset_name = 'etanol'\n",
    "\n",
    "raiz = '/home/eduardo/repositorios/IS_Agro/databases'"
   ]
  },
  {
   "attachments": {},
   "cell_type": "markdown",
   "metadata": {},
   "source": [
    "### Bronze"
   ]
  },
  {
   "cell_type": "code",
   "execution_count": 4,
   "metadata": {},
   "outputs": [],
   "source": [
    "ano_inicio = now().year - 2\n",
    "ano_fim = now().year - 1\n",
    "\n",
    "url = f'https://observatoriodacana.com.br/historico-de-producao-e-moagem.php?idMn=31&tipoHistorico=2&acao=visualizar&idTabela=2492&produto=etanol_total&safraIni=1999%2F2000&safraFim={ano_inicio}%2F{ano_fim}&estado=RS%2CSC%2CPR%2CSP%2CRJ%2CMG%2CES%2CMS%2CMT%2CGO%2CDF%2CBA%2CSE%2CAL%2CPE%2CPB%2CRN%2CCE%2CPI%2CMA%2CTO%2CPA%2CAP%2CRO%2CAM%2CAC%2CRR'\n",
    "\n",
    "tabela = (\n",
    "    pd.read_html(f'{url}', thousands = \".\", decimal = \",\")[0]\n",
    "    .to_html(f'{raiz}/bronze_{fonte}_{dataset_name}.html', index=False)\n",
    " )"
   ]
  },
  {
   "attachments": {},
   "cell_type": "markdown",
   "metadata": {},
   "source": [
    "### Prata"
   ]
  },
  {
   "cell_type": "code",
   "execution_count": 14,
   "metadata": {},
   "outputs": [],
   "source": [
    "anos = (\n",
    "    pd.read_html(f'{raiz}/bronze_{fonte}_{dataset_name}.html', encoding='utf-8')[0]\n",
    "    .set_index('Estado')\n",
    "    .rename(columns=lambda col: col[-4:])\n",
    "    .columns\n",
    "    .tolist()\n",
    ")"
   ]
  },
  {
   "cell_type": "code",
   "execution_count": 26,
   "metadata": {},
   "outputs": [],
   "source": [
    "df = (pd.read_html(f'{raiz}/bronze_{fonte}_{dataset_name}.html',\n",
    "                   encoding='utf-8',\n",
    "                   na_values=0\n",
    "                   )[0]\n",
    "      .query('not Estado.str.contains(\"Região.*|Brasil\", case=False)')    \n",
    "      .rename(columns=lambda col: col if col == 'Estado' else col[-4:])\n",
    "      .merge(pd.read_parquet(f'{raiz}/prata_ibge_geocodigo.parquet')\n",
    "              .filter(['UF-id', 'UF-nome'])\n",
    "              .drop_duplicates(),\n",
    "              how='left',\n",
    "              left_on='Estado',\n",
    "              right_on='UF-nome'\n",
    "              )\n",
    "      .melt(id_vars='UF-id',\n",
    "            value_vars=anos,\n",
    "            var_name='ano',\n",
    "            value_name='safra_m3')\n",
    "      .assign(**{\n",
    "            'data': lambda df: pd.to_datetime(df['ano'], format='%Y') # Coluna \"data\" em datetime baseado na ISO 8601, convertido da coluna \"D3C\"\n",
    "            })\n",
    "      .drop(columns='ano')\n",
    "      .dropna(subset='safra_m3')\n",
    "      .convert_dtypes()\n",
    "      .rename(columns={'UF-id':'uf'})\n",
    "      .sort_values(by=['uf', 'data'])\n",
    "      .set_index(['uf', 'data'])\n",
    "      )\n",
    "\n",
    "df.to_parquet(f'{raiz}/prata_{fonte}_{dataset_name}.parquet')"
   ]
  },
  {
   "attachments": {},
   "cell_type": "markdown",
   "metadata": {},
   "source": [
    "### Ouro"
   ]
  },
  {
   "attachments": {},
   "cell_type": "markdown",
   "metadata": {},
   "source": [
    "Produção de Etanol ao todo por Estado (1000 m³)\n",
    "\n",
    "Parâmetros\n",
    "Teor (kg N/m³)\n",
    "\n",
    "Cálculo: ((produção estadual * producao)*(parametro_X))*(1000/1000)\n",
    "\n",
    "Brasil = mil t\n",
    "\n",
    "NPK na forma do fertilizante orgânico vinhaça incorporado ao solo (t)"
   ]
  },
  {
   "cell_type": "code",
   "execution_count": 20,
   "metadata": {},
   "outputs": [],
   "source": [
    "producao = 11.5\n",
    "\n",
    "parametro_N = 0.433\n",
    "parametro_P = 0.034\n",
    "parametro_K = 2.206"
   ]
  },
  {
   "cell_type": "code",
   "execution_count": 27,
   "metadata": {},
   "outputs": [],
   "source": [
    "df = (pd.read_parquet(f'{raiz}/prata_{fonte}_{dataset_name}.parquet')\n",
    "      .assign(**{\n",
    "          'N': lambda df: ((df['safra_m3']*producao)*parametro_N)*(1000/1000),\n",
    "          'P': lambda df: ((df['safra_m3']*producao)*parametro_P)*(1000/1000),\n",
    "          'K': lambda df: ((df['safra_m3']*producao)*parametro_K)*(1000/1000),\n",
    "          'fonte': 'Fertilizante orgânico vinhaça',\n",
    "          })\n",
    "      .reset_index()\n",
    "      .melt(id_vars=['uf', 'data', 'fonte'],\n",
    "            value_vars=['N', 'P', 'K'],\n",
    "            var_name='elemento',\n",
    "            value_name='valor')\n",
    "      .convert_dtypes()\n",
    "      .set_index(['uf', 'data', 'fonte'])\n",
    ")"
   ]
  },
  {
   "cell_type": "code",
   "execution_count": 31,
   "metadata": {},
   "outputs": [],
   "source": [
    "df = (\n",
    "    df\n",
    "    .rename_axis(index={\n",
    "        'uf':'state',\n",
    "        'data': 'date',\n",
    "        'fonte': 'label'\n",
    "    })\n",
    "    .rename(columns={\n",
    "        'elemento':'nutrient',\n",
    "        'valor':'value'\n",
    "    })\n",
    ")\n",
    "\n",
    "df.to_csv(f'{raiz}/ouro_npk_fert_organico_vinhaca.csv')"
   ]
  }
 ],
 "metadata": {
  "kernelspec": {
   "display_name": "venv",
   "language": "python",
   "name": "python3"
  },
  "language_info": {
   "codemirror_mode": {
    "name": "ipython",
    "version": 3
   },
   "file_extension": ".py",
   "mimetype": "text/x-python",
   "name": "python",
   "nbconvert_exporter": "python",
   "pygments_lexer": "ipython3",
   "version": "3.12.3"
  },
  "orig_nbformat": 4
 },
 "nbformat": 4,
 "nbformat_minor": 2
}
